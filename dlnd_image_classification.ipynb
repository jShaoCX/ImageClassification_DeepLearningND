{
 "cells": [
  {
   "cell_type": "markdown",
   "metadata": {
    "collapsed": true,
    "deletable": true,
    "editable": true
   },
   "source": [
    "# Image Classification\n",
    "In this project, you'll classify images from the [CIFAR-10 dataset](https://www.cs.toronto.edu/~kriz/cifar.html).  The dataset consists of airplanes, dogs, cats, and other objects. You'll preprocess the images, then train a convolutional neural network on all the samples. The images need to be normalized and the labels need to be one-hot encoded.  You'll get to apply what you learned and build a convolutional, max pooling, dropout, and fully connected layers.  At the end, you'll get to see your neural network's predictions on the sample images.\n",
    "## Get the Data\n",
    "Run the following cell to download the [CIFAR-10 dataset for python](https://www.cs.toronto.edu/~kriz/cifar-10-python.tar.gz)."
   ]
  },
  {
   "cell_type": "code",
   "execution_count": 1,
   "metadata": {
    "collapsed": false,
    "deletable": true,
    "editable": true
   },
   "outputs": [
    {
     "name": "stdout",
     "output_type": "stream",
     "text": [
      "All files found!\n"
     ]
    }
   ],
   "source": [
    "\"\"\"\n",
    "DON'T MODIFY ANYTHING IN THIS CELL THAT IS BELOW THIS LINE\n",
    "\"\"\"\n",
    "from urllib.request import urlretrieve\n",
    "from os.path import isfile, isdir\n",
    "from tqdm import tqdm\n",
    "import problem_unittests as tests\n",
    "import tarfile\n",
    "\n",
    "cifar10_dataset_folder_path = 'cifar-10-batches-py'\n",
    "\n",
    "class DLProgress(tqdm):\n",
    "    last_block = 0\n",
    "\n",
    "    def hook(self, block_num=1, block_size=1, total_size=None):\n",
    "        self.total = total_size\n",
    "        self.update((block_num - self.last_block) * block_size)\n",
    "        self.last_block = block_num\n",
    "\n",
    "if not isfile('cifar-10-python.tar.gz'):\n",
    "    with DLProgress(unit='B', unit_scale=True, miniters=1, desc='CIFAR-10 Dataset') as pbar:\n",
    "        urlretrieve(\n",
    "            'https://www.cs.toronto.edu/~kriz/cifar-10-python.tar.gz',\n",
    "            'cifar-10-python.tar.gz',\n",
    "            pbar.hook)\n",
    "\n",
    "if not isdir(cifar10_dataset_folder_path):\n",
    "    with tarfile.open('cifar-10-python.tar.gz') as tar:\n",
    "        tar.extractall()\n",
    "        tar.close()\n",
    "\n",
    "\n",
    "tests.test_folder_path(cifar10_dataset_folder_path)"
   ]
  },
  {
   "cell_type": "markdown",
   "metadata": {
    "deletable": true,
    "editable": true
   },
   "source": [
    "## Explore the Data\n",
    "The dataset is broken into batches to prevent your machine from running out of memory.  The CIFAR-10 dataset consists of 5 batches, named `data_batch_1`, `data_batch_2`, etc.. Each batch contains the labels and images that are one of the following:\n",
    "* airplane\n",
    "* automobile\n",
    "* bird\n",
    "* cat\n",
    "* deer\n",
    "* dog\n",
    "* frog\n",
    "* horse\n",
    "* ship\n",
    "* truck\n",
    "\n",
    "Understanding a dataset is part of making predictions on the data.  Play around with the code cell below by changing the `batch_id` and `sample_id`. The `batch_id` is the id for a batch (1-5). The `sample_id` is the id for a image and label pair in the batch.\n",
    "\n",
    "Ask yourself \"What are all possible labels?\", \"What is the range of values for the image data?\", \"Are the labels in order or random?\".  Answers to questions like these will help you preprocess the data and end up with better predictions."
   ]
  },
  {
   "cell_type": "code",
   "execution_count": 2,
   "metadata": {
    "collapsed": false,
    "deletable": true,
    "editable": true
   },
   "outputs": [
    {
     "name": "stdout",
     "output_type": "stream",
     "text": [
      "\n",
      "Stats of batch 1:\n",
      "Samples: 10000\n",
      "Label Counts: {0: 1005, 1: 974, 2: 1032, 3: 1016, 4: 999, 5: 937, 6: 1030, 7: 1001, 8: 1025, 9: 981}\n",
      "First 20 Labels: [6, 9, 9, 4, 1, 1, 2, 7, 8, 3, 4, 7, 7, 2, 9, 9, 9, 3, 2, 6]\n",
      "\n",
      "Example of Image 5:\n",
      "Image - Min Value: 0 Max Value: 252\n",
      "Image - Shape: (32, 32, 3)\n",
      "Label - Label Id: 1 Name: automobile\n"
     ]
    },
    {
     "data": {
      "image/png": "[encoded data removed]",
      "text/plain": [
       "<matplotlib.figure.Figure at 0x209ef24aa20>"
      ]
     },
     "metadata": {
      "image/png": {
       "height": 250,
       "width": 253
      }
     },
     "output_type": "display_data"
    }
   ],
   "source": [
    "%matplotlib inline\n",
    "%config InlineBackend.figure_format = 'retina'\n",
    "\n",
    "import helper\n",
    "import numpy as np\n",
    "\n",
    "# Explore the dataset\n",
    "batch_id = 1\n",
    "sample_id = 5\n",
    "helper.display_stats(cifar10_dataset_folder_path, batch_id, sample_id)"
   ]
  },
  {
   "cell_type": "markdown",
   "metadata": {
    "deletable": true,
    "editable": true
   },
   "source": [
    "## Implement Preprocess Functions\n",
    "### Normalize\n",
    "In the cell below, implement the `normalize` function to take in image data, `x`, and return it as a normalized Numpy array. The values should be in the range of 0 to 1, inclusive.  The return object should be the same shape as `x`."
   ]
  },
  {
   "cell_type": "code",
   "execution_count": 3,
   "metadata": {
    "collapsed": false,
    "deletable": true,
    "editable": true
   },
   "outputs": [
    {
     "name": "stdout",
     "output_type": "stream",
     "text": [
      "normalize\n",
      "Tests Passed\n"
     ]
    }
   ],
   "source": [
    "def normalize(x):\n",
    "    \"\"\"\n",
    "    Normalize a list of sample image data in the range of 0 to 1\n",
    "    : x: List of image data.  The image shape is (32, 32, 3)\n",
    "    : return: Numpy array of normalize data\n",
    "    \"\"\"\n",
    "    print('normalize')\n",
    "    x=x.astype('float32')\n",
    "    x/=255.0\n",
    "    return x\n",
    "\n",
    "\"\"\"\n",
    "DON'T MODIFY ANYTHING IN THIS CELL THAT IS BELOW THIS LINE\n",
    "\"\"\"\n",
    "tests.test_normalize(normalize)"
   ]
  },
  {
   "cell_type": "markdown",
   "metadata": {
    "deletable": true,
    "editable": true
   },
   "source": [
    "### One-hot encode\n",
    "Just like the previous code cell, you'll be implementing a function for preprocessing.  This time, you'll implement the `one_hot_encode` function. The input, `x`, are a list of labels.  Implement the function to return the list of labels as One-Hot encoded Numpy array.  The possible values for labels are 0 to 9. The one-hot encoding function should return the same encoding for each value between each call to `one_hot_encode`.  Make sure to save the map of encodings outside the function.\n",
    "\n",
    "Hint: Don't reinvent the wheel."
   ]
  },
  {
   "cell_type": "code",
   "execution_count": 4,
   "metadata": {
    "collapsed": false,
    "deletable": true,
    "editable": true
   },
   "outputs": [
    {
     "name": "stdout",
     "output_type": "stream",
     "text": [
      "one-hot\n",
      "one-hot\n",
      "Tests Passed\n"
     ]
    }
   ],
   "source": [
    "def one_hot_encode(x):\n",
    "    \"\"\"\n",
    "    One hot encode a list of sample labels. Return a one-hot encoded vector for each label.\n",
    "    : x: List of sample Labels\n",
    "    : return: Numpy array of one-hot encoded labels\n",
    "    \"\"\"\n",
    "    print('one-hot')\n",
    "    copy = np.zeros((len(x), 10))\n",
    "    for i in range(0,len(copy)):\n",
    "        copy[i][x[i]] = 1\n",
    "    return copy\n",
    "\n",
    "\"\"\"\n",
    "DON'T MODIFY ANYTHING IN THIS CELL THAT IS BELOW THIS LINE\n",
    "\"\"\"\n",
    "tests.test_one_hot_encode(one_hot_encode)"
   ]
  },
  {
   "cell_type": "markdown",
   "metadata": {
    "deletable": true,
    "editable": true
   },
   "source": [
    "### Randomize Data\n",
    "As you saw from exploring the data above, the order of the samples are randomized.  It doesn't hurt to randomize it again, but you don't need to for this dataset."
   ]
  },
  {
   "cell_type": "markdown",
   "metadata": {
    "deletable": true,
    "editable": true
   },
   "source": [
    "## Preprocess all the data and save it\n",
    "Running the code cell below will preprocess all the CIFAR-10 data and save it to file. The code below also uses 10% of the training data for validation."
   ]
  },
  {
   "cell_type": "code",
   "execution_count": 5,
   "metadata": {
    "collapsed": false,
    "deletable": true,
    "editable": true
   },
   "outputs": [
    {
     "name": "stdout",
     "output_type": "stream",
     "text": [
      "normalize\n",
      "one-hot\n",
      "normalize\n",
      "one-hot\n",
      "normalize\n",
      "one-hot\n",
      "normalize\n",
      "one-hot\n",
      "normalize\n",
      "one-hot\n",
      "normalize\n",
      "one-hot\n",
      "normalize\n",
      "one-hot\n"
     ]
    }
   ],
   "source": [
    "\"\"\"\n",
    "DON'T MODIFY ANYTHING IN THIS CELL\n",
    "\"\"\"\n",
    "# Preprocess Training, Validation, and Testing Data\n",
    "helper.preprocess_and_save_data(cifar10_dataset_folder_path, normalize, one_hot_encode)"
   ]
  },
  {
   "cell_type": "markdown",
   "metadata": {
    "deletable": true,
    "editable": true
   },
   "source": [
    "# Check Point\n",
    "This is your first checkpoint.  If you ever decide to come back to this notebook or have to restart the notebook, you can start from here.  The preprocessed data has been saved to disk."
   ]
  },
  {
   "cell_type": "code",
   "execution_count": 6,
   "metadata": {
    "collapsed": true,
    "deletable": true,
    "editable": true
   },
   "outputs": [],
   "source": [
    "\"\"\"\n",
    "DON'T MODIFY ANYTHING IN THIS CELL\n",
    "\"\"\"\n",
    "import pickle\n",
    "import problem_unittests as tests\n",
    "import helper\n",
    "\n",
    "# Load the Preprocessed Validation data\n",
    "valid_features, valid_labels = pickle.load(open('preprocess_validation.p', mode='rb'))"
   ]
  },
  {
   "cell_type": "markdown",
   "metadata": {
    "deletable": true,
    "editable": true
   },
   "source": [
    "## Build the network\n",
    "For the neural network, you'll build each layer into a function.  Most of the code you've seen has been outside of functions. To test your code more thoroughly, we require that you put each layer in a function.  This allows us to give you better feedback and test for simple mistakes using our unittests before you submit your project.\n",
    "\n",
    "If you're finding it hard to dedicate enough time for this course a week, we've provided a small shortcut to this part of the project. In the next couple of problems, you'll have the option to use [TensorFlow Layers](https://www.tensorflow.org/api_docs/python/tf/layers) or [TensorFlow Layers (contrib)](https://www.tensorflow.org/api_guides/python/contrib.layers) to build each layer, except \"Convolutional & Max Pooling\" layer.  TF Layers is similar to Keras's and TFLearn's abstraction to layers, so it's easy to pickup.\n",
    "\n",
    "If you would like to get the most of this course, try to solve all the problems without TF Layers.  Let's begin!\n",
    "### Input\n",
    "The neural network needs to read the image data, one-hot encoded labels, and dropout keep probability. Implement the following functions\n",
    "* Implement `neural_net_image_input`\n",
    " * Return a [TF Placeholder](https://www.tensorflow.org/api_docs/python/tf/placeholder)\n",
    " * Set the shape using `image_shape` with batch size set to `None`.\n",
    " * Name the TensorFlow placeholder \"x\" using the TensorFlow `name` parameter in the [TF Placeholder](https://www.tensorflow.org/api_docs/python/tf/placeholder).\n",
    "* Implement `neural_net_label_input`\n",
    " * Return a [TF Placeholder](https://www.tensorflow.org/api_docs/python/tf/placeholder)\n",
    " * Set the shape using `n_classes` with batch size set to `None`.\n",
    " * Name the TensorFlow placeholder \"y\" using the TensorFlow `name` parameter in the [TF Placeholder](https://www.tensorflow.org/api_docs/python/tf/placeholder).\n",
    "* Implement `neural_net_keep_prob_input`\n",
    " * Return a [TF Placeholder](https://www.tensorflow.org/api_docs/python/tf/placeholder) for dropout keep probability.\n",
    " * Name the TensorFlow placeholder \"keep_prob\" using the TensorFlow `name` parameter in the [TF Placeholder](https://www.tensorflow.org/api_docs/python/tf/placeholder).\n",
    "\n",
    "These names will be used at the end of the project to load your saved model.\n",
    "\n",
    "Note: `None` for shapes in TensorFlow allow for a dynamic size."
   ]
  },
  {
   "cell_type": "code",
   "execution_count": 36,
   "metadata": {
    "collapsed": false,
    "deletable": true,
    "editable": true
   },
   "outputs": [
    {
     "name": "stdout",
     "output_type": "stream",
     "text": [
      "Image Input Tests Passed.\n",
      "Label Input Tests Passed.\n",
      "Keep Prob Tests Passed.\n"
     ]
    }
   ],
   "source": [
    "import tensorflow as tf\n",
    "\n",
    "def neural_net_image_input(image_shape):\n",
    "    \"\"\"\n",
    "    Return a Tensor for a bach of image input\n",
    "    : image_shape: Shape of the images\n",
    "    : return: Tensor for image input.\n",
    "    \"\"\"\n",
    "    return tf.placeholder(tf.float32,shape=[None,*image_shape],name='x')\n",
    "\n",
    "\n",
    "def neural_net_label_input(n_classes):\n",
    "    \"\"\"\n",
    "    Return a Tensor for a batch of label input\n",
    "    : n_classes: Number of classes\n",
    "    : return: Tensor for label input.\n",
    "    \"\"\"\n",
    "    return tf.placeholder(tf.float32,shape=(None,n_classes), name='y')\n",
    "\n",
    "\n",
    "def neural_net_keep_prob_input():\n",
    "    \"\"\"\n",
    "    Return a Tensor for keep probability\n",
    "    : return: Tensor for keep probability.\n",
    "    \"\"\"\n",
    "    return tf.placeholder(tf.float32,name='keep_prob')\n",
    "\n",
    "\"\"\"\n",
    "DON'T MODIFY ANYTHING IN THIS CELL THAT IS BELOW THIS LINE\n",
    "\"\"\"\n",
    "tf.reset_default_graph()\n",
    "tests.test_nn_image_inputs(neural_net_image_input)\n",
    "tests.test_nn_label_inputs(neural_net_label_input)\n",
    "tests.test_nn_keep_prob_inputs(neural_net_keep_prob_input)"
   ]
  },
  {
   "cell_type": "markdown",
   "metadata": {
    "deletable": true,
    "editable": true
   },
   "source": [
    "### Convolution and Max Pooling Layer\n",
    "Convolution layers have a lot of success with images. For this code cell, you should implement the function `conv2d_maxpool` to apply convolution then max pooling:\n",
    "* Create the weight and bias using `conv_ksize`, `conv_num_outputs` and the shape of `x_tensor`.\n",
    "* Apply a convolution to `x_tensor` using weight and `conv_strides`.\n",
    " * We recommend you use same padding, but you're welcome to use any padding.\n",
    "* Add bias\n",
    "* Add a nonlinear activation to the convolution.\n",
    "* Apply Max Pooling using `pool_ksize` and `pool_strides`.\n",
    " * We recommend you use same padding, but you're welcome to use any padding.\n",
    "\n",
    "Note: You **can't** use [TensorFlow Layers](https://www.tensorflow.org/api_docs/python/tf/layers) or [TensorFlow Layers (contrib)](https://www.tensorflow.org/api_guides/python/contrib.layers) for this layer.  You're free to use any TensorFlow package for all the other layers."
   ]
  },
  {
   "cell_type": "code",
   "execution_count": 37,
   "metadata": {
    "collapsed": false,
    "deletable": true,
    "editable": true
   },
   "outputs": [
    {
     "name": "stdout",
     "output_type": "stream",
     "text": [
      "Tests Passed\n"
     ]
    }
   ],
   "source": [
    "def conv2d_maxpool(x_tensor, conv_num_outputs, conv_ksize, conv_strides, pool_ksize, pool_strides):\n",
    "    \"\"\"\n",
    "    Apply convolution then max pooling to x_tensor\n",
    "    :param x_tensor: TensorFlow Tensor\n",
    "    :param conv_num_outputs: Number of outputs for the convolutional layer\n",
    "    :param conv_strides: Stride 2-D Tuple for convolution\n",
    "    :param pool_ksize: kernal size 2-D Tuple for pool\n",
    "    :param pool_strides: Stride 2-D Tuple for pool\n",
    "    : return: A tensor that represents convolution and max pooling of x_tensor\n",
    "    \"\"\"\n",
    "    mu = 0\n",
    "    sigma = 0.1\n",
    "    weights = tf.Variable(tf.truncated_normal([conv_ksize[0], conv_ksize[1], int(x_tensor.shape[3]), conv_num_outputs],mean=mu,stddev=sigma))\n",
    "    bias = tf.Variable(tf.zeros(conv_num_outputs))\n",
    "    \n",
    "    conv_layer = tf.nn.conv2d(x_tensor, weights, [1,conv_strides[0],conv_strides[1],1], 'SAME',name='Conv2D')\n",
    "    conv_layer = tf.nn.bias_add(conv_layer,bias)\n",
    "    conv_layer = tf.nn.relu(conv_layer,name='Conv2D_Relu')\n",
    "    \n",
    "    max_pool_layer = tf.nn.max_pool(conv_layer, ksize=[1,pool_ksize[0], pool_ksize[0],1], strides=[1,pool_strides[0],pool_strides[0],1], padding='SAME',name='MaxPool')\n",
    "\n",
    "    return max_pool_layer\n",
    "\"\"\"\n",
    "DON'T MODIFY ANYTHING IN THIS CELL THAT IS BELOW THIS LINE\n",
    "\"\"\"\n",
    "tests.test_con_pool(conv2d_maxpool)"
   ]
  },
  {
   "cell_type": "markdown",
   "metadata": {
    "deletable": true,
    "editable": true
   },
   "source": [
    "### Flatten Layer\n",
    "Implement the `flatten` function to change the dimension of `x_tensor` from a 4-D tensor to a 2-D tensor.  The output should be the shape (*Batch Size*, *Flattened Image Size*). You can use [TensorFlow Layers](https://www.tensorflow.org/api_docs/python/tf/layers) or [TensorFlow Layers (contrib)](https://www.tensorflow.org/api_guides/python/contrib.layers) for this layer."
   ]
  },
  {
   "cell_type": "code",
   "execution_count": 38,
   "metadata": {
    "collapsed": false,
    "deletable": true,
    "editable": true
   },
   "outputs": [
    {
     "name": "stdout",
     "output_type": "stream",
     "text": [
      "Tests Passed\n"
     ]
    }
   ],
   "source": [
    "def flatten(x_tensor):\n",
    "    \"\"\"\n",
    "    Flatten x_tensor to (Batch Size, Flattened Image Size)\n",
    "    : x_tensor: A tensor of size (Batch Size, ...), where ... are the image dimensions.\n",
    "    : return: A tensor of size (Batch Size, Flattened Image Size).\n",
    "    \"\"\"\n",
    "    shape = x_tensor.get_shape().as_list()\n",
    "    length = shape[1]*shape[2]*shape[3]\n",
    "    return tf.reshape(x_tensor, [-1, length])\n",
    "\n",
    "\"\"\"\n",
    "DON'T MODIFY ANYTHING IN THIS CELL THAT IS BELOW THIS LINE\n",
    "\"\"\"\n",
    "tests.test_flatten(flatten)"
   ]
  },
  {
   "cell_type": "markdown",
   "metadata": {
    "deletable": true,
    "editable": true
   },
   "source": [
    "### Fully-Connected Layer\n",
    "Implement the `fully_conn` function to apply a fully connected layer to `x_tensor` with the shape (*Batch Size*, *num_outputs*). You can use [TensorFlow Layers](https://www.tensorflow.org/api_docs/python/tf/layers) or [TensorFlow Layers (contrib)](https://www.tensorflow.org/api_guides/python/contrib.layers) for this layer."
   ]
  },
  {
   "cell_type": "code",
   "execution_count": 39,
   "metadata": {
    "collapsed": false,
    "deletable": true,
    "editable": true
   },
   "outputs": [
    {
     "name": "stdout",
     "output_type": "stream",
     "text": [
      "Tests Passed\n"
     ]
    }
   ],
   "source": [
    "def fully_conn(x_tensor, num_outputs):\n",
    "    \"\"\"\n",
    "    Apply a fully connected layer to x_tensor using weight and bias\n",
    "    : x_tensor: A 2-D tensor where the first dimension is batch size.\n",
    "    : num_outputs: The number of output that the new tensor should be.\n",
    "    : return: A 2-D tensor where the second dimension is num_outputs.\n",
    "    \"\"\"\n",
    "    mu = 0\n",
    "    sigma = 0.1\n",
    "    weights = tf.Variable(tf.truncated_normal([x_tensor.get_shape().as_list()[1], num_outputs],mean=mu,stddev=sigma))\n",
    "    bias = tf.zeros(num_outputs)\n",
    "    \n",
    "    fc = tf.matmul(x_tensor, weights, name='FC_matmul')\n",
    "    fc = tf.add(fc, bias, name='FC_add')\n",
    "    return fc\n",
    "\n",
    "\n",
    "\"\"\"\n",
    "DON'T MODIFY ANYTHING IN THIS CELL THAT IS BELOW THIS LINE\n",
    "\"\"\"\n",
    "tests.test_fully_conn(fully_conn)"
   ]
  },
  {
   "cell_type": "markdown",
   "metadata": {
    "deletable": true,
    "editable": true
   },
   "source": [
    "### Output Layer\n",
    "Implement the `output` function to apply a fully connected layer to `x_tensor` with the shape (*Batch Size*, *num_outputs*). You can use [TensorFlow Layers](https://www.tensorflow.org/api_docs/python/tf/layers) or [TensorFlow Layers (contrib)](https://www.tensorflow.org/api_guides/python/contrib.layers) for this layer.\n",
    "\n",
    "Note: Activation, softmax, or cross entropy shouldn't be applied to this."
   ]
  },
  {
   "cell_type": "code",
   "execution_count": 42,
   "metadata": {
    "collapsed": false,
    "deletable": true,
    "editable": true
   },
   "outputs": [
    {
     "name": "stdout",
     "output_type": "stream",
     "text": [
      "Tests Passed\n"
     ]
    }
   ],
   "source": [
    "def output(x_tensor, num_outputs):\n",
    "    \"\"\"\n",
    "    Apply a output layer to x_tensor using weight and bias\n",
    "    : x_tensor: A 2-D tensor where the first dimension is batch size.\n",
    "    : num_outputs: The number of output that the new tensor should be.\n",
    "    : return: A 2-D tensor where the second dimension is num_outputs.\n",
    "    \"\"\"\n",
    "    mu = 0\n",
    "    sigma = 0.1\n",
    "    weights = tf.Variable(tf.truncated_normal([x_tensor.get_shape().as_list()[1], num_outputs],mean=mu,stddev=sigma))\n",
    "    bias = tf.zeros(num_outputs)\n",
    "    \n",
    "    output = tf.matmul(x_tensor, weights, name='out_matmul')\n",
    "    output = tf.add(output, bias,name='out_add')\n",
    "    return output\n",
    "\n",
    "\"\"\"\n",
    "DON'T MODIFY ANYTHING IN THIS CELL THAT IS BELOW THIS LINE\n",
    "\"\"\"\n",
    "tests.test_output(output)"
   ]
  },
  {
   "cell_type": "markdown",
   "metadata": {
    "deletable": true,
    "editable": true
   },
   "source": [
    "### Create Convolutional Model\n",
    "Implement the function `conv_net` to create a convolutional neural network model. The function takes in a batch of images, `x`, and outputs logits.  Use the layers you created above to create this model:\n",
    "\n",
    "* Apply 1, 2, or 3 Convolution and Max Pool layers\n",
    "* Apply a Flatten Layer\n",
    "* Apply 1, 2, or 3 Fully Connected Layers\n",
    "* Apply an Output Layer\n",
    "* Return the output\n",
    "* Apply [TensorFlow's Dropout](https://www.tensorflow.org/api_docs/python/tf/nn/dropout) to one or more layers in the model using `keep_prob`. "
   ]
  },
  {
   "cell_type": "code",
   "execution_count": 43,
   "metadata": {
    "collapsed": false,
    "deletable": true,
    "editable": true
   },
   "outputs": [
    {
     "name": "stdout",
     "output_type": "stream",
     "text": [
      "Neural Network Built!\n"
     ]
    }
   ],
   "source": [
    "def conv_net(x, keep_prob):\n",
    "    \"\"\"\n",
    "    Create a convolutional neural network model\n",
    "    : x: Placeholder tensor that holds image data.\n",
    "    : keep_prob: Placeholder tensor that hold dropout keep probability.\n",
    "    : return: Tensor that represents logits\n",
    "    \"\"\"\n",
    "    \n",
    "    # TODO: Apply 1, 2, or 3 Convolution and Max Pool layers\n",
    "    #    Play around with different number of outputs, kernel size and stride\n",
    "    # Function Definition from Above:\n",
    "    #    conv2d_maxpool(x_tensor, conv_num_outputs, conv_ksize, conv_strides, pool_ksize, pool_strides)\n",
    "    conv1 = conv2d_maxpool(x, 3, (5,5), (1,1), (2,2), (2,2))\n",
    "    conv2 = conv2d_maxpool(conv1, 6, (5,5), (1,1), (2,2), (2,2))\n",
    "    conv3 = conv2d_maxpool(conv2, 12, (5,5), (1,1), (2,2), (2,2))\n",
    "    # TODO: Apply a Flatten Layer\n",
    "    # Function Definition from Above:\n",
    "    #   flatten(x_tensor)\n",
    "    flat = flatten(conv3)\n",
    "    \n",
    "    # TODO: Apply 1, 2, or 3 Fully Connected Layers\n",
    "    #    Play around with different number of outputs\n",
    "    # Function Definition from Above:\n",
    "    #   fully_conn(x_tensor, num_outputs)\n",
    "    fc1 = fully_conn(flat, 500)\n",
    "    fc2 = fully_conn(fc1,100)\n",
    "    \n",
    "    # TODO: Apply an Output Layer\n",
    "    #    Set this to the number of classes\n",
    "    # Function Definition from Above:\n",
    "    #   output(x_tensor, num_outputs)\n",
    "    fin = output(fc2, 10)\n",
    "    \n",
    "    # TODO: return output\n",
    "    return fin\n",
    "\n",
    "\n",
    "\"\"\"\n",
    "DON'T MODIFY ANYTHING IN THIS CELL THAT IS BELOW THIS LINE\n",
    "\"\"\"\n",
    "\n",
    "##############################\n",
    "## Build the Neural Network ##\n",
    "##############################\n",
    "\n",
    "# Remove previous weights, bias, inputs, etc..\n",
    "tf.reset_default_graph()\n",
    "\n",
    "# Inputs\n",
    "x = neural_net_image_input((32, 32, 3))\n",
    "y = neural_net_label_input(10)\n",
    "keep_prob = neural_net_keep_prob_input()\n",
    "\n",
    "# Model\n",
    "logits = conv_net(x, keep_prob)\n",
    "\n",
    "# Name logits Tensor, so that is can be loaded from disk after training\n",
    "logits = tf.identity(logits, name='logits')\n",
    "\n",
    "# Loss and Optimizer\n",
    "cost = tf.reduce_mean(tf.nn.softmax_cross_entropy_with_logits(logits=logits, labels=y))\n",
    "optimizer = tf.train.AdamOptimizer().minimize(cost)\n",
    "\n",
    "# Accuracy\n",
    "correct_pred = tf.equal(tf.argmax(logits, 1), tf.argmax(y, 1))\n",
    "accuracy = tf.reduce_mean(tf.cast(correct_pred, tf.float32), name='accuracy')\n",
    "\n",
    "tests.test_conv_net(conv_net)"
   ]
  },
  {
   "cell_type": "markdown",
   "metadata": {
    "deletable": true,
    "editable": true
   },
   "source": [
    "## Train the Neural Network\n",
    "### Single Optimization\n",
    "Implement the function `train_neural_network` to do a single optimization.  The optimization should use `optimizer` to optimize in `session` with a `feed_dict` of the following:\n",
    "* `x` for image input\n",
    "* `y` for labels\n",
    "* `keep_prob` for keep probability for dropout\n",
    "\n",
    "This function will be called for each batch, so `tf.global_variables_initializer()` has already been called.\n",
    "\n",
    "Note: Nothing needs to be returned. This function is only optimizing the neural network."
   ]
  },
  {
   "cell_type": "code",
   "execution_count": 44,
   "metadata": {
    "collapsed": false,
    "deletable": true,
    "editable": true
   },
   "outputs": [
    {
     "name": "stdout",
     "output_type": "stream",
     "text": [
      "Tests Passed\n"
     ]
    }
   ],
   "source": [
    "def train_neural_network(session, optimizer, keep_probability, feature_batch, label_batch):\n",
    "    \"\"\"\n",
    "    Optimize the session on a batch of images and labels\n",
    "    : session: Current TensorFlow session\n",
    "    : optimizer: TensorFlow optimizer function\n",
    "    : keep_probability: keep probability\n",
    "    : feature_batch: Batch of Numpy image data\n",
    "    : label_batch: Batch of Numpy label data\n",
    "    \"\"\"\n",
    "    session.run(optimizer, feed_dict={x:feature_batch, y: label_batch, keep_prob: keep_probability})\n",
    "    pass\n",
    "\n",
    "\n",
    "\"\"\"\n",
    "DON'T MODIFY ANYTHING IN THIS CELL THAT IS BELOW THIS LINE\n",
    "\"\"\"\n",
    "tests.test_train_nn(train_neural_network)"
   ]
  },
  {
   "cell_type": "markdown",
   "metadata": {
    "deletable": true,
    "editable": true
   },
   "source": [
    "### Show Stats\n",
    "Implement the function `print_stats` to print loss and validation accuracy.  Use the global variables `valid_features` and `valid_labels` to calculate validation accuracy.  Use a keep probability of `1.0` to calculate the loss and validation accuracy."
   ]
  },
  {
   "cell_type": "code",
   "execution_count": 45,
   "metadata": {
    "collapsed": false,
    "deletable": true,
    "editable": true
   },
   "outputs": [],
   "source": [
    "def print_stats(session, feature_batch, label_batch, cost, accuracy):\n",
    "    \"\"\"\n",
    "    Print information about loss and validation accuracy\n",
    "    : session: Current TensorFlow session\n",
    "    : feature_batch: Batch of Numpy image data\n",
    "    : label_batch: Batch of Numpy label data\n",
    "    : cost: TensorFlow cost function\n",
    "    : accuracy: TensorFlow accuracy function\n",
    "    \"\"\"\n",
    "    loss = session.run(cost, feed_dict={x:feature_batch, y:label_batch, keep_prob:1.0})\n",
    "    val_acc = session.run(accuracy, feed_dict={x:valid_features, y:valid_labels, keep_prob:1.0})\n",
    "    test_acc = session.run(accuracy, feed_dict={x:feature_batch, y:label_batch, keep_prob:1.0})\n",
    "    \n",
    "    print('LOSS: {0:.3f} TEST_ACC: {1:.3f} VALIDACTION_ACC: {2:.3f}'.format(loss, test_acc, val_acc))\n",
    "    \n",
    "    pass"
   ]
  },
  {
   "cell_type": "markdown",
   "metadata": {
    "deletable": true,
    "editable": true
   },
   "source": [
    "### Hyperparameters\n",
    "Tune the following parameters:\n",
    "* Set `epochs` to the number of iterations until the network stops learning or start overfitting\n",
    "* Set `batch_size` to the highest number that your machine has memory for.  Most people set them to common sizes of memory:\n",
    " * 64\n",
    " * 128\n",
    " * 256\n",
    " * ...\n",
    "* Set `keep_probability` to the probability of keeping a node using dropout"
   ]
  },
  {
   "cell_type": "code",
   "execution_count": 48,
   "metadata": {
    "collapsed": true,
    "deletable": true,
    "editable": true
   },
   "outputs": [],
   "source": [
    "# TODO: Tune Parameters\n",
    "epochs = 60\n",
    "batch_size = 512\n",
    "keep_probability = 0.6 "
   ]
  },
  {
   "cell_type": "markdown",
   "metadata": {
    "deletable": true,
    "editable": true
   },
   "source": [
    "### Train on a Single CIFAR-10 Batch\n",
    "Instead of training the neural network on all the CIFAR-10 batches of data, let's use a single batch. This should save time while you iterate on the model to get a better accuracy.  Once the final validation accuracy is 50% or greater, run the model on all the data in the next section."
   ]
  },
  {
   "cell_type": "code",
   "execution_count": 49,
   "metadata": {
    "collapsed": false,
    "deletable": true,
    "editable": true
   },
   "outputs": [
    {
     "name": "stdout",
     "output_type": "stream",
     "text": [
      "Checking the Training on a Single Batch...\n",
      "Epoch  1, CIFAR-10 Batch 1:  LOSS: 2.198 TEST_ACC: 0.223 VALIDACTION_ACC: 0.209\n",
      "Epoch  2, CIFAR-10 Batch 1:  LOSS: 2.009 TEST_ACC: 0.280 VALIDACTION_ACC: 0.295\n",
      "Epoch  3, CIFAR-10 Batch 1:  LOSS: 1.916 TEST_ACC: 0.351 VALIDACTION_ACC: 0.342\n",
      "Epoch  4, CIFAR-10 Batch 1:  LOSS: 1.841 TEST_ACC: 0.375 VALIDACTION_ACC: 0.367\n",
      "Epoch  5, CIFAR-10 Batch 1:  LOSS: 1.798 TEST_ACC: 0.385 VALIDACTION_ACC: 0.373\n",
      "Epoch  6, CIFAR-10 Batch 1:  LOSS: 1.713 TEST_ACC: 0.409 VALIDACTION_ACC: 0.402\n",
      "Epoch  7, CIFAR-10 Batch 1:  LOSS: 1.662 TEST_ACC: 0.439 VALIDACTION_ACC: 0.414\n",
      "Epoch  8, CIFAR-10 Batch 1:  LOSS: 1.614 TEST_ACC: 0.429 VALIDACTION_ACC: 0.429\n",
      "Epoch  9, CIFAR-10 Batch 1:  LOSS: 1.588 TEST_ACC: 0.463 VALIDACTION_ACC: 0.432\n",
      "Epoch 10, CIFAR-10 Batch 1:  LOSS: 1.564 TEST_ACC: 0.483 VALIDACTION_ACC: 0.434\n",
      "Epoch 11, CIFAR-10 Batch 1:  LOSS: 1.539 TEST_ACC: 0.490 VALIDACTION_ACC: 0.440\n",
      "Epoch 12, CIFAR-10 Batch 1:  LOSS: 1.516 TEST_ACC: 0.503 VALIDACTION_ACC: 0.447\n",
      "Epoch 13, CIFAR-10 Batch 1:  LOSS: 1.491 TEST_ACC: 0.524 VALIDACTION_ACC: 0.452\n",
      "Epoch 14, CIFAR-10 Batch 1:  LOSS: 1.466 TEST_ACC: 0.524 VALIDACTION_ACC: 0.457\n",
      "Epoch 15, CIFAR-10 Batch 1:  LOSS: 1.442 TEST_ACC: 0.534 VALIDACTION_ACC: 0.457\n",
      "Epoch 16, CIFAR-10 Batch 1:  LOSS: 1.418 TEST_ACC: 0.551 VALIDACTION_ACC: 0.459\n",
      "Epoch 17, CIFAR-10 Batch 1:  LOSS: 1.395 TEST_ACC: 0.568 VALIDACTION_ACC: 0.465\n",
      "Epoch 18, CIFAR-10 Batch 1:  LOSS: 1.374 TEST_ACC: 0.584 VALIDACTION_ACC: 0.467\n",
      "Epoch 19, CIFAR-10 Batch 1:  LOSS: 1.353 TEST_ACC: 0.578 VALIDACTION_ACC: 0.469\n",
      "Epoch 20, CIFAR-10 Batch 1:  LOSS: 1.336 TEST_ACC: 0.584 VALIDACTION_ACC: 0.474\n",
      "Epoch 21, CIFAR-10 Batch 1:  LOSS: 1.318 TEST_ACC: 0.581 VALIDACTION_ACC: 0.476\n",
      "Epoch 22, CIFAR-10 Batch 1:  LOSS: 1.302 TEST_ACC: 0.601 VALIDACTION_ACC: 0.480\n",
      "Epoch 23, CIFAR-10 Batch 1:  LOSS: 1.285 TEST_ACC: 0.618 VALIDACTION_ACC: 0.481\n",
      "Epoch 24, CIFAR-10 Batch 1:  LOSS: 1.270 TEST_ACC: 0.618 VALIDACTION_ACC: 0.480\n",
      "Epoch 25, CIFAR-10 Batch 1:  LOSS: 1.263 TEST_ACC: 0.611 VALIDACTION_ACC: 0.476\n",
      "Epoch 26, CIFAR-10 Batch 1:  LOSS: 1.261 TEST_ACC: 0.601 VALIDACTION_ACC: 0.475\n",
      "Epoch 27, CIFAR-10 Batch 1:  LOSS: 1.243 TEST_ACC: 0.608 VALIDACTION_ACC: 0.480\n",
      "Epoch 28, CIFAR-10 Batch 1:  LOSS: 1.225 TEST_ACC: 0.608 VALIDACTION_ACC: 0.483\n",
      "Epoch 29, CIFAR-10 Batch 1:  LOSS: 1.208 TEST_ACC: 0.618 VALIDACTION_ACC: 0.480\n",
      "Epoch 30, CIFAR-10 Batch 1:  LOSS: 1.195 TEST_ACC: 0.615 VALIDACTION_ACC: 0.482\n",
      "Epoch 31, CIFAR-10 Batch 1:  LOSS: 1.183 TEST_ACC: 0.618 VALIDACTION_ACC: 0.482\n",
      "Epoch 32, CIFAR-10 Batch 1:  LOSS: 1.173 TEST_ACC: 0.632 VALIDACTION_ACC: 0.485\n",
      "Epoch 33, CIFAR-10 Batch 1:  LOSS: 1.165 TEST_ACC: 0.628 VALIDACTION_ACC: 0.485\n",
      "Epoch 34, CIFAR-10 Batch 1:  LOSS: 1.153 TEST_ACC: 0.625 VALIDACTION_ACC: 0.483\n",
      "Epoch 35, CIFAR-10 Batch 1:  LOSS: 1.141 TEST_ACC: 0.635 VALIDACTION_ACC: 0.484\n",
      "Epoch 36, CIFAR-10 Batch 1:  LOSS: 1.136 TEST_ACC: 0.639 VALIDACTION_ACC: 0.484\n",
      "Epoch 37, CIFAR-10 Batch 1:  LOSS: 1.133 TEST_ACC: 0.645 VALIDACTION_ACC: 0.485\n",
      "Epoch 38, CIFAR-10 Batch 1:  LOSS: 1.119 TEST_ACC: 0.645 VALIDACTION_ACC: 0.484\n",
      "Epoch 39, CIFAR-10 Batch 1:  LOSS: 1.113 TEST_ACC: 0.662 VALIDACTION_ACC: 0.479\n",
      "Epoch 40, CIFAR-10 Batch 1:  LOSS: 1.114 TEST_ACC: 0.649 VALIDACTION_ACC: 0.478\n",
      "Epoch 41, CIFAR-10 Batch 1:  LOSS: 1.102 TEST_ACC: 0.676 VALIDACTION_ACC: 0.478\n",
      "Epoch 42, CIFAR-10 Batch 1:  LOSS: 1.086 TEST_ACC: 0.662 VALIDACTION_ACC: 0.483\n",
      "Epoch 43, CIFAR-10 Batch 1:  LOSS: 1.068 TEST_ACC: 0.679 VALIDACTION_ACC: 0.486\n",
      "Epoch 44, CIFAR-10 Batch 1:  LOSS: 1.059 TEST_ACC: 0.682 VALIDACTION_ACC: 0.486\n",
      "Epoch 45, CIFAR-10 Batch 1:  LOSS: 1.052 TEST_ACC: 0.686 VALIDACTION_ACC: 0.483\n",
      "Epoch 46, CIFAR-10 Batch 1:  LOSS: 1.050 TEST_ACC: 0.679 VALIDACTION_ACC: 0.479\n",
      "Epoch 47, CIFAR-10 Batch 1:  LOSS: 1.055 TEST_ACC: 0.682 VALIDACTION_ACC: 0.475\n",
      "Epoch 48, CIFAR-10 Batch 1:  LOSS: 1.064 TEST_ACC: 0.676 VALIDACTION_ACC: 0.471\n",
      "Epoch 49, CIFAR-10 Batch 1:  LOSS: 1.098 TEST_ACC: 0.649 VALIDACTION_ACC: 0.455\n",
      "Epoch 50, CIFAR-10 Batch 1:  LOSS: 1.104 TEST_ACC: 0.639 VALIDACTION_ACC: 0.455\n",
      "Epoch 51, CIFAR-10 Batch 1:  LOSS: 1.063 TEST_ACC: 0.676 VALIDACTION_ACC: 0.472\n",
      "Epoch 52, CIFAR-10 Batch 1:  LOSS: 1.049 TEST_ACC: 0.676 VALIDACTION_ACC: 0.469\n",
      "Epoch 53, CIFAR-10 Batch 1:  LOSS: 1.066 TEST_ACC: 0.666 VALIDACTION_ACC: 0.462\n",
      "Epoch 54, CIFAR-10 Batch 1:  LOSS: 1.078 TEST_ACC: 0.655 VALIDACTION_ACC: 0.456\n",
      "Epoch 55, CIFAR-10 Batch 1:  LOSS: 1.031 TEST_ACC: 0.682 VALIDACTION_ACC: 0.479\n",
      "Epoch 56, CIFAR-10 Batch 1:  LOSS: 0.991 TEST_ACC: 0.693 VALIDACTION_ACC: 0.486\n",
      "Epoch 57, CIFAR-10 Batch 1:  LOSS: 0.993 TEST_ACC: 0.686 VALIDACTION_ACC: 0.476\n",
      "Epoch 58, CIFAR-10 Batch 1:  LOSS: 0.995 TEST_ACC: 0.679 VALIDACTION_ACC: 0.477\n",
      "Epoch 59, CIFAR-10 Batch 1:  LOSS: 0.976 TEST_ACC: 0.696 VALIDACTION_ACC: 0.483\n",
      "Epoch 60, CIFAR-10 Batch 1:  LOSS: 0.972 TEST_ACC: 0.699 VALIDACTION_ACC: 0.479\n",
      "Epoch 61, CIFAR-10 Batch 1:  LOSS: 0.971 TEST_ACC: 0.703 VALIDACTION_ACC: 0.479\n",
      "Epoch 62, CIFAR-10 Batch 1:  LOSS: 0.967 TEST_ACC: 0.699 VALIDACTION_ACC: 0.479\n",
      "Epoch 63, CIFAR-10 Batch 1:  LOSS: 0.963 TEST_ACC: 0.703 VALIDACTION_ACC: 0.480\n",
      "Epoch 64, CIFAR-10 Batch 1:  LOSS: 0.958 TEST_ACC: 0.703 VALIDACTION_ACC: 0.481\n",
      "Epoch 65, CIFAR-10 Batch 1:  LOSS: 0.954 TEST_ACC: 0.703 VALIDACTION_ACC: 0.482\n",
      "Epoch 66, CIFAR-10 Batch 1:  LOSS: 0.950 TEST_ACC: 0.703 VALIDACTION_ACC: 0.480\n",
      "Epoch 67, CIFAR-10 Batch 1:  LOSS: 0.947 TEST_ACC: 0.693 VALIDACTION_ACC: 0.482\n",
      "Epoch 68, CIFAR-10 Batch 1:  LOSS: 0.947 TEST_ACC: 0.686 VALIDACTION_ACC: 0.479\n",
      "Epoch 69, CIFAR-10 Batch 1:  LOSS: 0.948 TEST_ACC: 0.699 VALIDACTION_ACC: 0.480\n",
      "Epoch 70, CIFAR-10 Batch 1:  LOSS: 0.948 TEST_ACC: 0.693 VALIDACTION_ACC: 0.478\n",
      "Epoch 71, CIFAR-10 Batch 1:  LOSS: 0.945 TEST_ACC: 0.699 VALIDACTION_ACC: 0.477\n",
      "Epoch 72, CIFAR-10 Batch 1:  LOSS: 0.936 TEST_ACC: 0.706 VALIDACTION_ACC: 0.475\n",
      "Epoch 73, CIFAR-10 Batch 1:  LOSS: 0.936 TEST_ACC: 0.713 VALIDACTION_ACC: 0.475\n",
      "Epoch 74, CIFAR-10 Batch 1:  LOSS: 0.925 TEST_ACC: 0.723 VALIDACTION_ACC: 0.478\n",
      "Epoch 75, CIFAR-10 Batch 1:  LOSS: 0.913 TEST_ACC: 0.726 VALIDACTION_ACC: 0.479\n"
     ]
    }
   ],
   "source": [
    "\"\"\"\n",
    "DON'T MODIFY ANYTHING IN THIS CELL\n",
    "\"\"\"\n",
    "\n",
    "print('Checking the Training on a Single Batch...')\n",
    "with tf.Session() as sess:\n",
    "    # Initializing the variables\n",
    "    sess.run(tf.global_variables_initializer())\n",
    "    \n",
    "    # Training cycle\n",
    "    for epoch in range(epochs):\n",
    "        batch_i = 1\n",
    "        for batch_features, batch_labels in helper.load_preprocess_training_batch(batch_i, batch_size):\n",
    "            train_neural_network(sess, optimizer, keep_probability, batch_features, batch_labels)\n",
    "        print('Epoch {:>2}, CIFAR-10 Batch {}:  '.format(epoch + 1, batch_i), end='')\n",
    "        print_stats(sess, batch_features, batch_labels, cost, accuracy)"
   ]
  },
  {
   "cell_type": "markdown",
   "metadata": {
    "deletable": true,
    "editable": true
   },
   "source": [
    "### Fully Train the Model\n",
    "Now that you got a good accuracy with a single CIFAR-10 batch, try it with all five batches."
   ]
  },
  {
   "cell_type": "code",
   "execution_count": 50,
   "metadata": {
    "collapsed": false,
    "deletable": true,
    "editable": true
   },
   "outputs": [
    {
     "name": "stdout",
     "output_type": "stream",
     "text": [
      "Training...\n",
      "Epoch  1, CIFAR-10 Batch 1:  LOSS: 2.068 TEST_ACC: 0.257 VALIDACTION_ACC: 0.261\n",
      "Epoch  1, CIFAR-10 Batch 2:  LOSS: 1.860 TEST_ACC: 0.345 VALIDACTION_ACC: 0.315\n",
      "Epoch  1, CIFAR-10 Batch 3:  LOSS: 1.630 TEST_ACC: 0.449 VALIDACTION_ACC: 0.343\n",
      "Epoch  1, CIFAR-10 Batch 4:  LOSS: 1.661 TEST_ACC: 0.412 VALIDACTION_ACC: 0.380\n",
      "Epoch  1, CIFAR-10 Batch 5:  LOSS: 1.723 TEST_ACC: 0.365 VALIDACTION_ACC: 0.383\n",
      "Epoch  2, CIFAR-10 Batch 1:  LOSS: 1.697 TEST_ACC: 0.389 VALIDACTION_ACC: 0.411\n",
      "Epoch  2, CIFAR-10 Batch 2:  LOSS: 1.619 TEST_ACC: 0.419 VALIDACTION_ACC: 0.419\n",
      "Epoch  2, CIFAR-10 Batch 3:  LOSS: 1.404 TEST_ACC: 0.520 VALIDACTION_ACC: 0.409\n",
      "Epoch  2, CIFAR-10 Batch 4:  LOSS: 1.493 TEST_ACC: 0.456 VALIDACTION_ACC: 0.423\n",
      "Epoch  2, CIFAR-10 Batch 5:  LOSS: 1.578 TEST_ACC: 0.426 VALIDACTION_ACC: 0.425\n",
      "Epoch  3, CIFAR-10 Batch 1:  LOSS: 1.625 TEST_ACC: 0.399 VALIDACTION_ACC: 0.440\n",
      "Epoch  3, CIFAR-10 Batch 2:  LOSS: 1.552 TEST_ACC: 0.493 VALIDACTION_ACC: 0.437\n",
      "Epoch  3, CIFAR-10 Batch 3:  LOSS: 1.386 TEST_ACC: 0.524 VALIDACTION_ACC: 0.429\n",
      "Epoch  3, CIFAR-10 Batch 4:  LOSS: 1.411 TEST_ACC: 0.500 VALIDACTION_ACC: 0.448\n",
      "Epoch  3, CIFAR-10 Batch 5:  LOSS: 1.511 TEST_ACC: 0.443 VALIDACTION_ACC: 0.454\n",
      "Epoch  4, CIFAR-10 Batch 1:  LOSS: 1.570 TEST_ACC: 0.409 VALIDACTION_ACC: 0.452\n",
      "Epoch  4, CIFAR-10 Batch 2:  LOSS: 1.513 TEST_ACC: 0.493 VALIDACTION_ACC: 0.447\n",
      "Epoch  4, CIFAR-10 Batch 3:  LOSS: 1.344 TEST_ACC: 0.527 VALIDACTION_ACC: 0.442\n",
      "Epoch  4, CIFAR-10 Batch 4:  LOSS: 1.363 TEST_ACC: 0.500 VALIDACTION_ACC: 0.468\n",
      "Epoch  4, CIFAR-10 Batch 5:  LOSS: 1.472 TEST_ACC: 0.476 VALIDACTION_ACC: 0.463\n",
      "Epoch  5, CIFAR-10 Batch 1:  LOSS: 1.525 TEST_ACC: 0.436 VALIDACTION_ACC: 0.466\n",
      "Epoch  5, CIFAR-10 Batch 2:  LOSS: 1.473 TEST_ACC: 0.520 VALIDACTION_ACC: 0.454\n",
      "Epoch  5, CIFAR-10 Batch 3:  LOSS: 1.303 TEST_ACC: 0.547 VALIDACTION_ACC: 0.456\n",
      "Epoch  5, CIFAR-10 Batch 4:  LOSS: 1.331 TEST_ACC: 0.503 VALIDACTION_ACC: 0.470\n",
      "Epoch  5, CIFAR-10 Batch 5:  LOSS: 1.430 TEST_ACC: 0.493 VALIDACTION_ACC: 0.472\n",
      "Epoch  6, CIFAR-10 Batch 1:  LOSS: 1.483 TEST_ACC: 0.443 VALIDACTION_ACC: 0.478\n",
      "Epoch  6, CIFAR-10 Batch 2:  LOSS: 1.427 TEST_ACC: 0.527 VALIDACTION_ACC: 0.462\n",
      "Epoch  6, CIFAR-10 Batch 3:  LOSS: 1.282 TEST_ACC: 0.547 VALIDACTION_ACC: 0.459\n",
      "Epoch  6, CIFAR-10 Batch 4:  LOSS: 1.305 TEST_ACC: 0.530 VALIDACTION_ACC: 0.472\n",
      "Epoch  6, CIFAR-10 Batch 5:  LOSS: 1.396 TEST_ACC: 0.500 VALIDACTION_ACC: 0.480\n",
      "Epoch  7, CIFAR-10 Batch 1:  LOSS: 1.452 TEST_ACC: 0.459 VALIDACTION_ACC: 0.482\n",
      "Epoch  7, CIFAR-10 Batch 2:  LOSS: 1.392 TEST_ACC: 0.530 VALIDACTION_ACC: 0.469\n",
      "Epoch  7, CIFAR-10 Batch 3:  LOSS: 1.261 TEST_ACC: 0.557 VALIDACTION_ACC: 0.463\n",
      "Epoch  7, CIFAR-10 Batch 4:  LOSS: 1.286 TEST_ACC: 0.537 VALIDACTION_ACC: 0.478\n",
      "Epoch  7, CIFAR-10 Batch 5:  LOSS: 1.375 TEST_ACC: 0.514 VALIDACTION_ACC: 0.483\n",
      "Epoch  8, CIFAR-10 Batch 1:  LOSS: 1.425 TEST_ACC: 0.480 VALIDACTION_ACC: 0.487\n",
      "Epoch  8, CIFAR-10 Batch 2:  LOSS: 1.361 TEST_ACC: 0.551 VALIDACTION_ACC: 0.478\n",
      "Epoch  8, CIFAR-10 Batch 3:  LOSS: 1.233 TEST_ACC: 0.561 VALIDACTION_ACC: 0.470\n",
      "Epoch  8, CIFAR-10 Batch 4:  LOSS: 1.268 TEST_ACC: 0.541 VALIDACTION_ACC: 0.485\n",
      "Epoch  8, CIFAR-10 Batch 5:  LOSS: 1.347 TEST_ACC: 0.517 VALIDACTION_ACC: 0.492\n",
      "Epoch  9, CIFAR-10 Batch 1:  LOSS: 1.401 TEST_ACC: 0.480 VALIDACTION_ACC: 0.491\n",
      "Epoch  9, CIFAR-10 Batch 2:  LOSS: 1.333 TEST_ACC: 0.537 VALIDACTION_ACC: 0.487\n",
      "Epoch  9, CIFAR-10 Batch 3:  LOSS: 1.213 TEST_ACC: 0.568 VALIDACTION_ACC: 0.473\n",
      "Epoch  9, CIFAR-10 Batch 4:  LOSS: 1.248 TEST_ACC: 0.551 VALIDACTION_ACC: 0.488\n",
      "Epoch  9, CIFAR-10 Batch 5:  LOSS: 1.325 TEST_ACC: 0.534 VALIDACTION_ACC: 0.494\n",
      "Epoch 10, CIFAR-10 Batch 1:  LOSS: 1.385 TEST_ACC: 0.493 VALIDACTION_ACC: 0.493\n",
      "Epoch 10, CIFAR-10 Batch 2:  LOSS: 1.311 TEST_ACC: 0.541 VALIDACTION_ACC: 0.491\n",
      "Epoch 10, CIFAR-10 Batch 3:  LOSS: 1.191 TEST_ACC: 0.578 VALIDACTION_ACC: 0.481\n",
      "Epoch 10, CIFAR-10 Batch 4:  LOSS: 1.232 TEST_ACC: 0.547 VALIDACTION_ACC: 0.492\n",
      "Epoch 10, CIFAR-10 Batch 5:  LOSS: 1.304 TEST_ACC: 0.530 VALIDACTION_ACC: 0.493\n",
      "Epoch 11, CIFAR-10 Batch 1:  LOSS: 1.367 TEST_ACC: 0.510 VALIDACTION_ACC: 0.496\n",
      "Epoch 11, CIFAR-10 Batch 2:  LOSS: 1.290 TEST_ACC: 0.537 VALIDACTION_ACC: 0.492\n",
      "Epoch 11, CIFAR-10 Batch 3:  LOSS: 1.184 TEST_ACC: 0.578 VALIDACTION_ACC: 0.487\n",
      "Epoch 11, CIFAR-10 Batch 4:  LOSS: 1.214 TEST_ACC: 0.551 VALIDACTION_ACC: 0.496\n",
      "Epoch 11, CIFAR-10 Batch 5:  LOSS: 1.285 TEST_ACC: 0.544 VALIDACTION_ACC: 0.497\n",
      "Epoch 12, CIFAR-10 Batch 1:  LOSS: 1.356 TEST_ACC: 0.510 VALIDACTION_ACC: 0.498\n",
      "Epoch 12, CIFAR-10 Batch 2:  LOSS: 1.272 TEST_ACC: 0.544 VALIDACTION_ACC: 0.499\n",
      "Epoch 12, CIFAR-10 Batch 3:  LOSS: 1.171 TEST_ACC: 0.578 VALIDACTION_ACC: 0.492\n",
      "Epoch 12, CIFAR-10 Batch 4:  LOSS: 1.191 TEST_ACC: 0.554 VALIDACTION_ACC: 0.499\n",
      "Epoch 12, CIFAR-10 Batch 5:  LOSS: 1.273 TEST_ACC: 0.544 VALIDACTION_ACC: 0.504\n",
      "Epoch 13, CIFAR-10 Batch 1:  LOSS: 1.343 TEST_ACC: 0.510 VALIDACTION_ACC: 0.500\n",
      "Epoch 13, CIFAR-10 Batch 2:  LOSS: 1.257 TEST_ACC: 0.547 VALIDACTION_ACC: 0.499\n",
      "Epoch 13, CIFAR-10 Batch 3:  LOSS: 1.168 TEST_ACC: 0.578 VALIDACTION_ACC: 0.492\n",
      "Epoch 13, CIFAR-10 Batch 4:  LOSS: 1.180 TEST_ACC: 0.561 VALIDACTION_ACC: 0.501\n",
      "Epoch 13, CIFAR-10 Batch 5:  LOSS: 1.257 TEST_ACC: 0.554 VALIDACTION_ACC: 0.502\n",
      "Epoch 14, CIFAR-10 Batch 1:  LOSS: 1.334 TEST_ACC: 0.517 VALIDACTION_ACC: 0.503\n",
      "Epoch 14, CIFAR-10 Batch 2:  LOSS: 1.244 TEST_ACC: 0.568 VALIDACTION_ACC: 0.508\n",
      "Epoch 14, CIFAR-10 Batch 3:  LOSS: 1.157 TEST_ACC: 0.611 VALIDACTION_ACC: 0.497\n",
      "Epoch 14, CIFAR-10 Batch 4:  LOSS: 1.160 TEST_ACC: 0.574 VALIDACTION_ACC: 0.505\n",
      "Epoch 14, CIFAR-10 Batch 5:  LOSS: 1.245 TEST_ACC: 0.571 VALIDACTION_ACC: 0.508\n",
      "Epoch 15, CIFAR-10 Batch 1:  LOSS: 1.321 TEST_ACC: 0.520 VALIDACTION_ACC: 0.507\n",
      "Epoch 15, CIFAR-10 Batch 2:  LOSS: 1.234 TEST_ACC: 0.561 VALIDACTION_ACC: 0.509\n",
      "Epoch 15, CIFAR-10 Batch 3:  LOSS: 1.156 TEST_ACC: 0.615 VALIDACTION_ACC: 0.499\n",
      "Epoch 15, CIFAR-10 Batch 4:  LOSS: 1.150 TEST_ACC: 0.584 VALIDACTION_ACC: 0.507\n",
      "Epoch 15, CIFAR-10 Batch 5:  LOSS: 1.234 TEST_ACC: 0.571 VALIDACTION_ACC: 0.509\n",
      "Epoch 16, CIFAR-10 Batch 1:  LOSS: 1.312 TEST_ACC: 0.527 VALIDACTION_ACC: 0.507\n",
      "Epoch 16, CIFAR-10 Batch 2:  LOSS: 1.226 TEST_ACC: 0.571 VALIDACTION_ACC: 0.513\n",
      "Epoch 16, CIFAR-10 Batch 3:  LOSS: 1.147 TEST_ACC: 0.608 VALIDACTION_ACC: 0.505\n",
      "Epoch 16, CIFAR-10 Batch 4:  LOSS: 1.140 TEST_ACC: 0.584 VALIDACTION_ACC: 0.508\n",
      "Epoch 16, CIFAR-10 Batch 5:  LOSS: 1.225 TEST_ACC: 0.571 VALIDACTION_ACC: 0.511\n",
      "Epoch 17, CIFAR-10 Batch 1:  LOSS: 1.305 TEST_ACC: 0.541 VALIDACTION_ACC: 0.511\n",
      "Epoch 17, CIFAR-10 Batch 2:  LOSS: 1.215 TEST_ACC: 0.557 VALIDACTION_ACC: 0.515\n",
      "Epoch 17, CIFAR-10 Batch 3:  LOSS: 1.138 TEST_ACC: 0.611 VALIDACTION_ACC: 0.507\n",
      "Epoch 17, CIFAR-10 Batch 4:  LOSS: 1.123 TEST_ACC: 0.591 VALIDACTION_ACC: 0.511\n",
      "Epoch 17, CIFAR-10 Batch 5:  LOSS: 1.218 TEST_ACC: 0.571 VALIDACTION_ACC: 0.515\n",
      "Epoch 18, CIFAR-10 Batch 1:  LOSS: 1.296 TEST_ACC: 0.544 VALIDACTION_ACC: 0.516\n",
      "Epoch 18, CIFAR-10 Batch 2:  LOSS: 1.202 TEST_ACC: 0.564 VALIDACTION_ACC: 0.518\n",
      "Epoch 18, CIFAR-10 Batch 3:  LOSS: 1.136 TEST_ACC: 0.622 VALIDACTION_ACC: 0.509\n",
      "Epoch 18, CIFAR-10 Batch 4:  LOSS: 1.116 TEST_ACC: 0.591 VALIDACTION_ACC: 0.516\n",
      "Epoch 18, CIFAR-10 Batch 5:  LOSS: 1.211 TEST_ACC: 0.568 VALIDACTION_ACC: 0.515\n",
      "Epoch 19, CIFAR-10 Batch 1:  LOSS: 1.291 TEST_ACC: 0.551 VALIDACTION_ACC: 0.518\n",
      "Epoch 19, CIFAR-10 Batch 2:  LOSS: 1.193 TEST_ACC: 0.561 VALIDACTION_ACC: 0.522\n",
      "Epoch 19, CIFAR-10 Batch 3:  LOSS: 1.128 TEST_ACC: 0.625 VALIDACTION_ACC: 0.509\n",
      "Epoch 19, CIFAR-10 Batch 4:  LOSS: 1.105 TEST_ACC: 0.588 VALIDACTION_ACC: 0.519\n",
      "Epoch 19, CIFAR-10 Batch 5:  LOSS: 1.203 TEST_ACC: 0.571 VALIDACTION_ACC: 0.520\n",
      "Epoch 20, CIFAR-10 Batch 1:  LOSS: 1.285 TEST_ACC: 0.551 VALIDACTION_ACC: 0.519\n",
      "Epoch 20, CIFAR-10 Batch 2:  LOSS: 1.190 TEST_ACC: 0.568 VALIDACTION_ACC: 0.524\n",
      "Epoch 20, CIFAR-10 Batch 3:  LOSS: 1.121 TEST_ACC: 0.622 VALIDACTION_ACC: 0.512\n",
      "Epoch 20, CIFAR-10 Batch 4:  LOSS: 1.102 TEST_ACC: 0.601 VALIDACTION_ACC: 0.520\n",
      "Epoch 20, CIFAR-10 Batch 5:  LOSS: 1.196 TEST_ACC: 0.581 VALIDACTION_ACC: 0.522\n",
      "Epoch 21, CIFAR-10 Batch 1:  LOSS: 1.282 TEST_ACC: 0.541 VALIDACTION_ACC: 0.520\n",
      "Epoch 21, CIFAR-10 Batch 2:  LOSS: 1.190 TEST_ACC: 0.568 VALIDACTION_ACC: 0.524\n",
      "Epoch 21, CIFAR-10 Batch 3:  LOSS: 1.114 TEST_ACC: 0.625 VALIDACTION_ACC: 0.514\n",
      "Epoch 21, CIFAR-10 Batch 4:  LOSS: 1.096 TEST_ACC: 0.605 VALIDACTION_ACC: 0.523\n",
      "Epoch 21, CIFAR-10 Batch 5:  LOSS: 1.187 TEST_ACC: 0.584 VALIDACTION_ACC: 0.524\n",
      "Epoch 22, CIFAR-10 Batch 1:  LOSS: 1.279 TEST_ACC: 0.537 VALIDACTION_ACC: 0.523\n",
      "Epoch 22, CIFAR-10 Batch 2:  LOSS: 1.195 TEST_ACC: 0.568 VALIDACTION_ACC: 0.523\n",
      "Epoch 22, CIFAR-10 Batch 3:  LOSS: 1.103 TEST_ACC: 0.625 VALIDACTION_ACC: 0.516\n",
      "Epoch 22, CIFAR-10 Batch 4:  LOSS: 1.084 TEST_ACC: 0.608 VALIDACTION_ACC: 0.524\n",
      "Epoch 22, CIFAR-10 Batch 5:  LOSS: 1.178 TEST_ACC: 0.584 VALIDACTION_ACC: 0.526\n",
      "Epoch 23, CIFAR-10 Batch 1:  LOSS: 1.272 TEST_ACC: 0.537 VALIDACTION_ACC: 0.526\n",
      "Epoch 23, CIFAR-10 Batch 2:  LOSS: 1.187 TEST_ACC: 0.578 VALIDACTION_ACC: 0.527\n",
      "Epoch 23, CIFAR-10 Batch 3:  LOSS: 1.098 TEST_ACC: 0.628 VALIDACTION_ACC: 0.515\n",
      "Epoch 23, CIFAR-10 Batch 4:  LOSS: 1.076 TEST_ACC: 0.615 VALIDACTION_ACC: 0.522\n",
      "Epoch 23, CIFAR-10 Batch 5:  LOSS: 1.171 TEST_ACC: 0.591 VALIDACTION_ACC: 0.527\n",
      "Epoch 24, CIFAR-10 Batch 1:  LOSS: 1.267 TEST_ACC: 0.537 VALIDACTION_ACC: 0.527\n",
      "Epoch 24, CIFAR-10 Batch 2:  LOSS: 1.179 TEST_ACC: 0.578 VALIDACTION_ACC: 0.529\n",
      "Epoch 24, CIFAR-10 Batch 3:  LOSS: 1.097 TEST_ACC: 0.635 VALIDACTION_ACC: 0.519\n",
      "Epoch 24, CIFAR-10 Batch 4:  LOSS: 1.068 TEST_ACC: 0.611 VALIDACTION_ACC: 0.525\n",
      "Epoch 24, CIFAR-10 Batch 5:  LOSS: 1.163 TEST_ACC: 0.598 VALIDACTION_ACC: 0.528\n",
      "Epoch 25, CIFAR-10 Batch 1:  LOSS: 1.261 TEST_ACC: 0.551 VALIDACTION_ACC: 0.529\n",
      "Epoch 25, CIFAR-10 Batch 2:  LOSS: 1.168 TEST_ACC: 0.574 VALIDACTION_ACC: 0.530\n",
      "Epoch 25, CIFAR-10 Batch 3:  LOSS: 1.098 TEST_ACC: 0.635 VALIDACTION_ACC: 0.522\n",
      "Epoch 25, CIFAR-10 Batch 4:  LOSS: 1.059 TEST_ACC: 0.611 VALIDACTION_ACC: 0.525\n",
      "Epoch 25, CIFAR-10 Batch 5:  LOSS: 1.157 TEST_ACC: 0.611 VALIDACTION_ACC: 0.529\n",
      "Epoch 26, CIFAR-10 Batch 1:  LOSS: 1.255 TEST_ACC: 0.557 VALIDACTION_ACC: 0.530\n",
      "Epoch 26, CIFAR-10 Batch 2:  LOSS: 1.162 TEST_ACC: 0.591 VALIDACTION_ACC: 0.529\n",
      "Epoch 26, CIFAR-10 Batch 3:  LOSS: 1.100 TEST_ACC: 0.635 VALIDACTION_ACC: 0.526\n",
      "Epoch 26, CIFAR-10 Batch 4:  LOSS: 1.056 TEST_ACC: 0.615 VALIDACTION_ACC: 0.527\n",
      "Epoch 26, CIFAR-10 Batch 5:  LOSS: 1.151 TEST_ACC: 0.625 VALIDACTION_ACC: 0.533\n",
      "Epoch 27, CIFAR-10 Batch 1:  LOSS: 1.251 TEST_ACC: 0.561 VALIDACTION_ACC: 0.533\n",
      "Epoch 27, CIFAR-10 Batch 2:  LOSS: 1.162 TEST_ACC: 0.595 VALIDACTION_ACC: 0.532\n",
      "Epoch 27, CIFAR-10 Batch 3:  LOSS: 1.098 TEST_ACC: 0.635 VALIDACTION_ACC: 0.525\n",
      "Epoch 27, CIFAR-10 Batch 4:  LOSS: 1.056 TEST_ACC: 0.605 VALIDACTION_ACC: 0.530\n",
      "Epoch 27, CIFAR-10 Batch 5:  LOSS: 1.149 TEST_ACC: 0.618 VALIDACTION_ACC: 0.533\n",
      "Epoch 28, CIFAR-10 Batch 1:  LOSS: 1.243 TEST_ACC: 0.561 VALIDACTION_ACC: 0.532\n",
      "Epoch 28, CIFAR-10 Batch 2:  LOSS: 1.164 TEST_ACC: 0.598 VALIDACTION_ACC: 0.534\n",
      "Epoch 28, CIFAR-10 Batch 3:  LOSS: 1.089 TEST_ACC: 0.632 VALIDACTION_ACC: 0.528\n",
      "Epoch 28, CIFAR-10 Batch 4:  LOSS: 1.046 TEST_ACC: 0.628 VALIDACTION_ACC: 0.532\n",
      "Epoch 28, CIFAR-10 Batch 5:  LOSS: 1.147 TEST_ACC: 0.628 VALIDACTION_ACC: 0.536\n",
      "Epoch 29, CIFAR-10 Batch 1:  LOSS: 1.236 TEST_ACC: 0.564 VALIDACTION_ACC: 0.532\n",
      "Epoch 29, CIFAR-10 Batch 2:  LOSS: 1.165 TEST_ACC: 0.591 VALIDACTION_ACC: 0.534\n",
      "Epoch 29, CIFAR-10 Batch 3:  LOSS: 1.082 TEST_ACC: 0.628 VALIDACTION_ACC: 0.529\n",
      "Epoch 29, CIFAR-10 Batch 4:  LOSS: 1.044 TEST_ACC: 0.622 VALIDACTION_ACC: 0.533\n",
      "Epoch 29, CIFAR-10 Batch 5:  LOSS: 1.141 TEST_ACC: 0.639 VALIDACTION_ACC: 0.535\n",
      "Epoch 30, CIFAR-10 Batch 1:  LOSS: 1.229 TEST_ACC: 0.557 VALIDACTION_ACC: 0.535\n",
      "Epoch 30, CIFAR-10 Batch 2:  LOSS: 1.166 TEST_ACC: 0.588 VALIDACTION_ACC: 0.532\n",
      "Epoch 30, CIFAR-10 Batch 3:  LOSS: 1.078 TEST_ACC: 0.622 VALIDACTION_ACC: 0.533\n",
      "Epoch 30, CIFAR-10 Batch 4:  LOSS: 1.034 TEST_ACC: 0.618 VALIDACTION_ACC: 0.536\n",
      "Epoch 30, CIFAR-10 Batch 5:  LOSS: 1.136 TEST_ACC: 0.639 VALIDACTION_ACC: 0.535\n",
      "Epoch 31, CIFAR-10 Batch 1:  LOSS: 1.222 TEST_ACC: 0.557 VALIDACTION_ACC: 0.541\n",
      "Epoch 31, CIFAR-10 Batch 2:  LOSS: 1.159 TEST_ACC: 0.581 VALIDACTION_ACC: 0.534\n",
      "Epoch 31, CIFAR-10 Batch 3:  LOSS: 1.076 TEST_ACC: 0.635 VALIDACTION_ACC: 0.533\n",
      "Epoch 31, CIFAR-10 Batch 4:  LOSS: 1.026 TEST_ACC: 0.635 VALIDACTION_ACC: 0.537\n",
      "Epoch 31, CIFAR-10 Batch 5:  LOSS: 1.133 TEST_ACC: 0.645 VALIDACTION_ACC: 0.539\n",
      "Epoch 32, CIFAR-10 Batch 1:  LOSS: 1.214 TEST_ACC: 0.557 VALIDACTION_ACC: 0.542\n",
      "Epoch 32, CIFAR-10 Batch 2:  LOSS: 1.159 TEST_ACC: 0.588 VALIDACTION_ACC: 0.535\n",
      "Epoch 32, CIFAR-10 Batch 3:  LOSS: 1.076 TEST_ACC: 0.635 VALIDACTION_ACC: 0.533\n",
      "Epoch 32, CIFAR-10 Batch 4:  LOSS: 1.019 TEST_ACC: 0.628 VALIDACTION_ACC: 0.540\n",
      "Epoch 32, CIFAR-10 Batch 5:  LOSS: 1.128 TEST_ACC: 0.642 VALIDACTION_ACC: 0.540\n",
      "Epoch 33, CIFAR-10 Batch 1:  LOSS: 1.209 TEST_ACC: 0.561 VALIDACTION_ACC: 0.542\n",
      "Epoch 33, CIFAR-10 Batch 2:  LOSS: 1.148 TEST_ACC: 0.598 VALIDACTION_ACC: 0.537\n",
      "Epoch 33, CIFAR-10 Batch 3:  LOSS: 1.075 TEST_ACC: 0.642 VALIDACTION_ACC: 0.535\n",
      "Epoch 33, CIFAR-10 Batch 4:  LOSS: 1.016 TEST_ACC: 0.628 VALIDACTION_ACC: 0.542\n",
      "Epoch 33, CIFAR-10 Batch 5:  LOSS: 1.123 TEST_ACC: 0.649 VALIDACTION_ACC: 0.542\n",
      "Epoch 34, CIFAR-10 Batch 1:  LOSS: 1.203 TEST_ACC: 0.564 VALIDACTION_ACC: 0.541\n",
      "Epoch 34, CIFAR-10 Batch 2:  LOSS: 1.145 TEST_ACC: 0.611 VALIDACTION_ACC: 0.539\n",
      "Epoch 34, CIFAR-10 Batch 3:  LOSS: 1.074 TEST_ACC: 0.645 VALIDACTION_ACC: 0.534\n",
      "Epoch 34, CIFAR-10 Batch 4:  LOSS: 1.012 TEST_ACC: 0.639 VALIDACTION_ACC: 0.543\n",
      "Epoch 34, CIFAR-10 Batch 5:  LOSS: 1.116 TEST_ACC: 0.645 VALIDACTION_ACC: 0.543\n",
      "Epoch 35, CIFAR-10 Batch 1:  LOSS: 1.198 TEST_ACC: 0.574 VALIDACTION_ACC: 0.544\n",
      "Epoch 35, CIFAR-10 Batch 2:  LOSS: 1.139 TEST_ACC: 0.618 VALIDACTION_ACC: 0.538\n",
      "Epoch 35, CIFAR-10 Batch 3:  LOSS: 1.069 TEST_ACC: 0.649 VALIDACTION_ACC: 0.534\n",
      "Epoch 35, CIFAR-10 Batch 4:  LOSS: 1.004 TEST_ACC: 0.642 VALIDACTION_ACC: 0.545\n",
      "Epoch 35, CIFAR-10 Batch 5:  LOSS: 1.113 TEST_ACC: 0.642 VALIDACTION_ACC: 0.544\n",
      "Epoch 36, CIFAR-10 Batch 1:  LOSS: 1.192 TEST_ACC: 0.578 VALIDACTION_ACC: 0.547\n",
      "Epoch 36, CIFAR-10 Batch 2:  LOSS: 1.138 TEST_ACC: 0.615 VALIDACTION_ACC: 0.540\n",
      "Epoch 36, CIFAR-10 Batch 3:  LOSS: 1.065 TEST_ACC: 0.635 VALIDACTION_ACC: 0.537\n",
      "Epoch 36, CIFAR-10 Batch 4:  LOSS: 1.003 TEST_ACC: 0.642 VALIDACTION_ACC: 0.544\n",
      "Epoch 36, CIFAR-10 Batch 5:  LOSS: 1.107 TEST_ACC: 0.642 VALIDACTION_ACC: 0.545\n",
      "Epoch 37, CIFAR-10 Batch 1:  LOSS: 1.187 TEST_ACC: 0.578 VALIDACTION_ACC: 0.548\n",
      "Epoch 37, CIFAR-10 Batch 2:  LOSS: 1.132 TEST_ACC: 0.615 VALIDACTION_ACC: 0.542\n",
      "Epoch 37, CIFAR-10 Batch 3:  LOSS: 1.059 TEST_ACC: 0.645 VALIDACTION_ACC: 0.538\n",
      "Epoch 37, CIFAR-10 Batch 4:  LOSS: 0.997 TEST_ACC: 0.642 VALIDACTION_ACC: 0.544\n",
      "Epoch 37, CIFAR-10 Batch 5:  LOSS: 1.103 TEST_ACC: 0.645 VALIDACTION_ACC: 0.548\n",
      "Epoch 38, CIFAR-10 Batch 1:  LOSS: 1.184 TEST_ACC: 0.574 VALIDACTION_ACC: 0.543\n",
      "Epoch 38, CIFAR-10 Batch 2:  LOSS: 1.132 TEST_ACC: 0.611 VALIDACTION_ACC: 0.543\n",
      "Epoch 38, CIFAR-10 Batch 3:  LOSS: 1.055 TEST_ACC: 0.649 VALIDACTION_ACC: 0.540\n",
      "Epoch 38, CIFAR-10 Batch 4:  LOSS: 0.992 TEST_ACC: 0.642 VALIDACTION_ACC: 0.545\n",
      "Epoch 38, CIFAR-10 Batch 5:  LOSS: 1.102 TEST_ACC: 0.645 VALIDACTION_ACC: 0.548\n",
      "Epoch 39, CIFAR-10 Batch 1:  LOSS: 1.179 TEST_ACC: 0.571 VALIDACTION_ACC: 0.546\n",
      "Epoch 39, CIFAR-10 Batch 2:  LOSS: 1.126 TEST_ACC: 0.611 VALIDACTION_ACC: 0.540\n",
      "Epoch 39, CIFAR-10 Batch 3:  LOSS: 1.052 TEST_ACC: 0.649 VALIDACTION_ACC: 0.540\n",
      "Epoch 39, CIFAR-10 Batch 4:  LOSS: 0.986 TEST_ACC: 0.645 VALIDACTION_ACC: 0.547\n",
      "Epoch 39, CIFAR-10 Batch 5:  LOSS: 1.099 TEST_ACC: 0.642 VALIDACTION_ACC: 0.547\n",
      "Epoch 40, CIFAR-10 Batch 1:  LOSS: 1.174 TEST_ACC: 0.574 VALIDACTION_ACC: 0.546\n",
      "Epoch 40, CIFAR-10 Batch 2:  LOSS: 1.124 TEST_ACC: 0.615 VALIDACTION_ACC: 0.544\n",
      "Epoch 40, CIFAR-10 Batch 3:  LOSS: 1.047 TEST_ACC: 0.652 VALIDACTION_ACC: 0.542\n",
      "Epoch 40, CIFAR-10 Batch 4:  LOSS: 0.982 TEST_ACC: 0.649 VALIDACTION_ACC: 0.545\n",
      "Epoch 40, CIFAR-10 Batch 5:  LOSS: 1.099 TEST_ACC: 0.645 VALIDACTION_ACC: 0.547\n",
      "Epoch 41, CIFAR-10 Batch 1:  LOSS: 1.171 TEST_ACC: 0.574 VALIDACTION_ACC: 0.546\n",
      "Epoch 41, CIFAR-10 Batch 2:  LOSS: 1.125 TEST_ACC: 0.611 VALIDACTION_ACC: 0.542\n",
      "Epoch 41, CIFAR-10 Batch 3:  LOSS: 1.045 TEST_ACC: 0.642 VALIDACTION_ACC: 0.541\n",
      "Epoch 41, CIFAR-10 Batch 4:  LOSS: 0.980 TEST_ACC: 0.652 VALIDACTION_ACC: 0.546\n",
      "Epoch 41, CIFAR-10 Batch 5:  LOSS: 1.096 TEST_ACC: 0.642 VALIDACTION_ACC: 0.546\n",
      "Epoch 42, CIFAR-10 Batch 1:  LOSS: 1.167 TEST_ACC: 0.571 VALIDACTION_ACC: 0.547\n",
      "Epoch 42, CIFAR-10 Batch 2:  LOSS: 1.118 TEST_ACC: 0.601 VALIDACTION_ACC: 0.545\n",
      "Epoch 42, CIFAR-10 Batch 3:  LOSS: 1.041 TEST_ACC: 0.645 VALIDACTION_ACC: 0.541\n",
      "Epoch 42, CIFAR-10 Batch 4:  LOSS: 0.976 TEST_ACC: 0.662 VALIDACTION_ACC: 0.547\n",
      "Epoch 42, CIFAR-10 Batch 5:  LOSS: 1.093 TEST_ACC: 0.639 VALIDACTION_ACC: 0.546\n",
      "Epoch 43, CIFAR-10 Batch 1:  LOSS: 1.163 TEST_ACC: 0.568 VALIDACTION_ACC: 0.543\n",
      "Epoch 43, CIFAR-10 Batch 2:  LOSS: 1.118 TEST_ACC: 0.611 VALIDACTION_ACC: 0.544\n",
      "Epoch 43, CIFAR-10 Batch 3:  LOSS: 1.042 TEST_ACC: 0.649 VALIDACTION_ACC: 0.542\n",
      "Epoch 43, CIFAR-10 Batch 4:  LOSS: 0.976 TEST_ACC: 0.666 VALIDACTION_ACC: 0.550\n",
      "Epoch 43, CIFAR-10 Batch 5:  LOSS: 1.090 TEST_ACC: 0.635 VALIDACTION_ACC: 0.549\n",
      "Epoch 44, CIFAR-10 Batch 1:  LOSS: 1.158 TEST_ACC: 0.571 VALIDACTION_ACC: 0.545\n",
      "Epoch 44, CIFAR-10 Batch 2:  LOSS: 1.112 TEST_ACC: 0.608 VALIDACTION_ACC: 0.543\n",
      "Epoch 44, CIFAR-10 Batch 3:  LOSS: 1.039 TEST_ACC: 0.655 VALIDACTION_ACC: 0.542\n",
      "Epoch 44, CIFAR-10 Batch 4:  LOSS: 0.973 TEST_ACC: 0.669 VALIDACTION_ACC: 0.552\n",
      "Epoch 44, CIFAR-10 Batch 5:  LOSS: 1.086 TEST_ACC: 0.628 VALIDACTION_ACC: 0.550\n",
      "Epoch 45, CIFAR-10 Batch 1:  LOSS: 1.153 TEST_ACC: 0.574 VALIDACTION_ACC: 0.544\n",
      "Epoch 45, CIFAR-10 Batch 2:  LOSS: 1.110 TEST_ACC: 0.618 VALIDACTION_ACC: 0.546\n",
      "Epoch 45, CIFAR-10 Batch 3:  LOSS: 1.032 TEST_ACC: 0.639 VALIDACTION_ACC: 0.542\n",
      "Epoch 45, CIFAR-10 Batch 4:  LOSS: 0.971 TEST_ACC: 0.676 VALIDACTION_ACC: 0.552\n",
      "Epoch 45, CIFAR-10 Batch 5:  LOSS: 1.087 TEST_ACC: 0.632 VALIDACTION_ACC: 0.550\n",
      "Epoch 46, CIFAR-10 Batch 1:  LOSS: 1.149 TEST_ACC: 0.574 VALIDACTION_ACC: 0.545\n",
      "Epoch 46, CIFAR-10 Batch 2:  LOSS: 1.107 TEST_ACC: 0.605 VALIDACTION_ACC: 0.544\n",
      "Epoch 46, CIFAR-10 Batch 3:  LOSS: 1.024 TEST_ACC: 0.639 VALIDACTION_ACC: 0.543\n",
      "Epoch 46, CIFAR-10 Batch 4:  LOSS: 0.970 TEST_ACC: 0.676 VALIDACTION_ACC: 0.554\n",
      "Epoch 46, CIFAR-10 Batch 5:  LOSS: 1.085 TEST_ACC: 0.628 VALIDACTION_ACC: 0.551\n",
      "Epoch 47, CIFAR-10 Batch 1:  LOSS: 1.145 TEST_ACC: 0.571 VALIDACTION_ACC: 0.546\n",
      "Epoch 47, CIFAR-10 Batch 2:  LOSS: 1.111 TEST_ACC: 0.605 VALIDACTION_ACC: 0.544\n",
      "Epoch 47, CIFAR-10 Batch 3:  LOSS: 1.023 TEST_ACC: 0.642 VALIDACTION_ACC: 0.544\n",
      "Epoch 47, CIFAR-10 Batch 4:  LOSS: 0.968 TEST_ACC: 0.669 VALIDACTION_ACC: 0.553\n",
      "Epoch 47, CIFAR-10 Batch 5:  LOSS: 1.085 TEST_ACC: 0.639 VALIDACTION_ACC: 0.550\n",
      "Epoch 48, CIFAR-10 Batch 1:  LOSS: 1.142 TEST_ACC: 0.581 VALIDACTION_ACC: 0.548\n",
      "Epoch 48, CIFAR-10 Batch 2:  LOSS: 1.107 TEST_ACC: 0.605 VALIDACTION_ACC: 0.543\n",
      "Epoch 48, CIFAR-10 Batch 3:  LOSS: 1.025 TEST_ACC: 0.642 VALIDACTION_ACC: 0.543\n",
      "Epoch 48, CIFAR-10 Batch 4:  LOSS: 0.965 TEST_ACC: 0.676 VALIDACTION_ACC: 0.552\n",
      "Epoch 48, CIFAR-10 Batch 5:  LOSS: 1.081 TEST_ACC: 0.642 VALIDACTION_ACC: 0.550\n",
      "Epoch 49, CIFAR-10 Batch 1:  LOSS: 1.138 TEST_ACC: 0.584 VALIDACTION_ACC: 0.547\n",
      "Epoch 49, CIFAR-10 Batch 2:  LOSS: 1.103 TEST_ACC: 0.615 VALIDACTION_ACC: 0.547\n",
      "Epoch 49, CIFAR-10 Batch 3:  LOSS: 1.027 TEST_ACC: 0.645 VALIDACTION_ACC: 0.546\n",
      "Epoch 49, CIFAR-10 Batch 4:  LOSS: 0.964 TEST_ACC: 0.682 VALIDACTION_ACC: 0.553\n",
      "Epoch 49, CIFAR-10 Batch 5:  LOSS: 1.079 TEST_ACC: 0.655 VALIDACTION_ACC: 0.550\n",
      "Epoch 50, CIFAR-10 Batch 1:  LOSS: 1.138 TEST_ACC: 0.571 VALIDACTION_ACC: 0.546\n",
      "Epoch 50, CIFAR-10 Batch 2:  LOSS: 1.094 TEST_ACC: 0.618 VALIDACTION_ACC: 0.552\n",
      "Epoch 50, CIFAR-10 Batch 3:  LOSS: 1.034 TEST_ACC: 0.632 VALIDACTION_ACC: 0.543\n",
      "Epoch 50, CIFAR-10 Batch 4:  LOSS: 0.962 TEST_ACC: 0.679 VALIDACTION_ACC: 0.552\n",
      "Epoch 50, CIFAR-10 Batch 5:  LOSS: 1.080 TEST_ACC: 0.649 VALIDACTION_ACC: 0.549\n",
      "Epoch 51, CIFAR-10 Batch 1:  LOSS: 1.133 TEST_ACC: 0.568 VALIDACTION_ACC: 0.546\n",
      "Epoch 51, CIFAR-10 Batch 2:  LOSS: 1.078 TEST_ACC: 0.625 VALIDACTION_ACC: 0.554\n",
      "Epoch 51, CIFAR-10 Batch 3:  LOSS: 1.041 TEST_ACC: 0.628 VALIDACTION_ACC: 0.540\n",
      "Epoch 51, CIFAR-10 Batch 4:  LOSS: 0.956 TEST_ACC: 0.689 VALIDACTION_ACC: 0.553\n",
      "Epoch 51, CIFAR-10 Batch 5:  LOSS: 1.078 TEST_ACC: 0.642 VALIDACTION_ACC: 0.550\n",
      "Epoch 52, CIFAR-10 Batch 1:  LOSS: 1.130 TEST_ACC: 0.568 VALIDACTION_ACC: 0.545\n",
      "Epoch 52, CIFAR-10 Batch 2:  LOSS: 1.076 TEST_ACC: 0.625 VALIDACTION_ACC: 0.552\n",
      "Epoch 52, CIFAR-10 Batch 3:  LOSS: 1.043 TEST_ACC: 0.622 VALIDACTION_ACC: 0.542\n",
      "Epoch 52, CIFAR-10 Batch 4:  LOSS: 0.955 TEST_ACC: 0.686 VALIDACTION_ACC: 0.551\n",
      "Epoch 52, CIFAR-10 Batch 5:  LOSS: 1.075 TEST_ACC: 0.645 VALIDACTION_ACC: 0.551\n",
      "Epoch 53, CIFAR-10 Batch 1:  LOSS: 1.125 TEST_ACC: 0.574 VALIDACTION_ACC: 0.546\n",
      "Epoch 53, CIFAR-10 Batch 2:  LOSS: 1.075 TEST_ACC: 0.622 VALIDACTION_ACC: 0.551\n",
      "Epoch 53, CIFAR-10 Batch 3:  LOSS: 1.041 TEST_ACC: 0.635 VALIDACTION_ACC: 0.542\n",
      "Epoch 53, CIFAR-10 Batch 4:  LOSS: 0.953 TEST_ACC: 0.689 VALIDACTION_ACC: 0.552\n",
      "Epoch 53, CIFAR-10 Batch 5:  LOSS: 1.073 TEST_ACC: 0.639 VALIDACTION_ACC: 0.552\n",
      "Epoch 54, CIFAR-10 Batch 1:  LOSS: 1.118 TEST_ACC: 0.584 VALIDACTION_ACC: 0.547\n",
      "Epoch 54, CIFAR-10 Batch 2:  LOSS: 1.079 TEST_ACC: 0.622 VALIDACTION_ACC: 0.550\n",
      "Epoch 54, CIFAR-10 Batch 3:  LOSS: 1.045 TEST_ACC: 0.618 VALIDACTION_ACC: 0.536\n",
      "Epoch 54, CIFAR-10 Batch 4:  LOSS: 0.953 TEST_ACC: 0.693 VALIDACTION_ACC: 0.555\n",
      "Epoch 54, CIFAR-10 Batch 5:  LOSS: 1.071 TEST_ACC: 0.639 VALIDACTION_ACC: 0.555\n",
      "Epoch 55, CIFAR-10 Batch 1:  LOSS: 1.113 TEST_ACC: 0.591 VALIDACTION_ACC: 0.546\n",
      "Epoch 55, CIFAR-10 Batch 2:  LOSS: 1.070 TEST_ACC: 0.625 VALIDACTION_ACC: 0.550\n",
      "Epoch 55, CIFAR-10 Batch 3:  LOSS: 1.053 TEST_ACC: 0.618 VALIDACTION_ACC: 0.537\n",
      "Epoch 55, CIFAR-10 Batch 4:  LOSS: 0.960 TEST_ACC: 0.689 VALIDACTION_ACC: 0.554\n",
      "Epoch 55, CIFAR-10 Batch 5:  LOSS: 1.070 TEST_ACC: 0.652 VALIDACTION_ACC: 0.553\n",
      "Epoch 56, CIFAR-10 Batch 1:  LOSS: 1.104 TEST_ACC: 0.595 VALIDACTION_ACC: 0.549\n",
      "Epoch 56, CIFAR-10 Batch 2:  LOSS: 1.071 TEST_ACC: 0.628 VALIDACTION_ACC: 0.549\n",
      "Epoch 56, CIFAR-10 Batch 3:  LOSS: 1.033 TEST_ACC: 0.622 VALIDACTION_ACC: 0.537\n",
      "Epoch 56, CIFAR-10 Batch 4:  LOSS: 0.949 TEST_ACC: 0.682 VALIDACTION_ACC: 0.560\n",
      "Epoch 56, CIFAR-10 Batch 5:  LOSS: 1.068 TEST_ACC: 0.645 VALIDACTION_ACC: 0.555\n",
      "Epoch 57, CIFAR-10 Batch 1:  LOSS: 1.100 TEST_ACC: 0.605 VALIDACTION_ACC: 0.553\n",
      "Epoch 57, CIFAR-10 Batch 2:  LOSS: 1.054 TEST_ACC: 0.645 VALIDACTION_ACC: 0.553\n",
      "Epoch 57, CIFAR-10 Batch 3:  LOSS: 1.013 TEST_ACC: 0.635 VALIDACTION_ACC: 0.551\n",
      "Epoch 57, CIFAR-10 Batch 4:  LOSS: 0.944 TEST_ACC: 0.686 VALIDACTION_ACC: 0.554\n",
      "Epoch 57, CIFAR-10 Batch 5:  LOSS: 1.066 TEST_ACC: 0.632 VALIDACTION_ACC: 0.555\n",
      "Epoch 58, CIFAR-10 Batch 1:  LOSS: 1.092 TEST_ACC: 0.608 VALIDACTION_ACC: 0.554\n",
      "Epoch 58, CIFAR-10 Batch 2:  LOSS: 1.038 TEST_ACC: 0.659 VALIDACTION_ACC: 0.555\n",
      "Epoch 58, CIFAR-10 Batch 3:  LOSS: 1.009 TEST_ACC: 0.645 VALIDACTION_ACC: 0.555\n",
      "Epoch 58, CIFAR-10 Batch 4:  LOSS: 0.934 TEST_ACC: 0.682 VALIDACTION_ACC: 0.559\n",
      "Epoch 58, CIFAR-10 Batch 5:  LOSS: 1.061 TEST_ACC: 0.625 VALIDACTION_ACC: 0.557\n",
      "Epoch 59, CIFAR-10 Batch 1:  LOSS: 1.088 TEST_ACC: 0.635 VALIDACTION_ACC: 0.556\n",
      "Epoch 59, CIFAR-10 Batch 2:  LOSS: 1.037 TEST_ACC: 0.642 VALIDACTION_ACC: 0.558\n",
      "Epoch 59, CIFAR-10 Batch 3:  LOSS: 1.004 TEST_ACC: 0.649 VALIDACTION_ACC: 0.555\n",
      "Epoch 59, CIFAR-10 Batch 4:  LOSS: 0.932 TEST_ACC: 0.686 VALIDACTION_ACC: 0.560\n",
      "Epoch 59, CIFAR-10 Batch 5:  LOSS: 1.057 TEST_ACC: 0.628 VALIDACTION_ACC: 0.558\n",
      "Epoch 60, CIFAR-10 Batch 1:  LOSS: 1.084 TEST_ACC: 0.639 VALIDACTION_ACC: 0.555\n",
      "Epoch 60, CIFAR-10 Batch 2:  LOSS: 1.033 TEST_ACC: 0.645 VALIDACTION_ACC: 0.553\n",
      "Epoch 60, CIFAR-10 Batch 3:  LOSS: 1.001 TEST_ACC: 0.655 VALIDACTION_ACC: 0.554\n",
      "Epoch 60, CIFAR-10 Batch 4:  LOSS: 0.929 TEST_ACC: 0.686 VALIDACTION_ACC: 0.560\n",
      "Epoch 60, CIFAR-10 Batch 5:  LOSS: 1.055 TEST_ACC: 0.632 VALIDACTION_ACC: 0.558\n",
      "Epoch 61, CIFAR-10 Batch 1:  LOSS: 1.080 TEST_ACC: 0.639 VALIDACTION_ACC: 0.556\n",
      "Epoch 61, CIFAR-10 Batch 2:  LOSS: 1.035 TEST_ACC: 0.642 VALIDACTION_ACC: 0.552\n",
      "Epoch 61, CIFAR-10 Batch 3:  LOSS: 1.001 TEST_ACC: 0.655 VALIDACTION_ACC: 0.552\n",
      "Epoch 61, CIFAR-10 Batch 4:  LOSS: 0.930 TEST_ACC: 0.689 VALIDACTION_ACC: 0.562\n",
      "Epoch 61, CIFAR-10 Batch 5:  LOSS: 1.052 TEST_ACC: 0.628 VALIDACTION_ACC: 0.557\n",
      "Epoch 62, CIFAR-10 Batch 1:  LOSS: 1.078 TEST_ACC: 0.632 VALIDACTION_ACC: 0.555\n",
      "Epoch 62, CIFAR-10 Batch 2:  LOSS: 1.036 TEST_ACC: 0.639 VALIDACTION_ACC: 0.550\n",
      "Epoch 62, CIFAR-10 Batch 3:  LOSS: 0.998 TEST_ACC: 0.642 VALIDACTION_ACC: 0.553\n",
      "Epoch 62, CIFAR-10 Batch 4:  LOSS: 0.929 TEST_ACC: 0.699 VALIDACTION_ACC: 0.564\n",
      "Epoch 62, CIFAR-10 Batch 5:  LOSS: 1.052 TEST_ACC: 0.628 VALIDACTION_ACC: 0.555\n",
      "Epoch 63, CIFAR-10 Batch 1:  LOSS: 1.076 TEST_ACC: 0.639 VALIDACTION_ACC: 0.555\n",
      "Epoch 63, CIFAR-10 Batch 2:  LOSS: 1.038 TEST_ACC: 0.642 VALIDACTION_ACC: 0.545\n",
      "Epoch 63, CIFAR-10 Batch 3:  LOSS: 0.995 TEST_ACC: 0.642 VALIDACTION_ACC: 0.556\n",
      "Epoch 63, CIFAR-10 Batch 4:  LOSS: 0.928 TEST_ACC: 0.696 VALIDACTION_ACC: 0.563\n",
      "Epoch 63, CIFAR-10 Batch 5:  LOSS: 1.049 TEST_ACC: 0.635 VALIDACTION_ACC: 0.557\n",
      "Epoch 64, CIFAR-10 Batch 1:  LOSS: 1.075 TEST_ACC: 0.639 VALIDACTION_ACC: 0.554\n",
      "Epoch 64, CIFAR-10 Batch 2:  LOSS: 1.049 TEST_ACC: 0.635 VALIDACTION_ACC: 0.540\n",
      "Epoch 64, CIFAR-10 Batch 3:  LOSS: 0.997 TEST_ACC: 0.618 VALIDACTION_ACC: 0.557\n",
      "Epoch 64, CIFAR-10 Batch 4:  LOSS: 0.926 TEST_ACC: 0.696 VALIDACTION_ACC: 0.563\n",
      "Epoch 64, CIFAR-10 Batch 5:  LOSS: 1.050 TEST_ACC: 0.632 VALIDACTION_ACC: 0.560\n",
      "Epoch 65, CIFAR-10 Batch 1:  LOSS: 1.077 TEST_ACC: 0.635 VALIDACTION_ACC: 0.556\n",
      "Epoch 65, CIFAR-10 Batch 2:  LOSS: 1.063 TEST_ACC: 0.628 VALIDACTION_ACC: 0.530\n",
      "Epoch 65, CIFAR-10 Batch 3:  LOSS: 1.000 TEST_ACC: 0.615 VALIDACTION_ACC: 0.554\n",
      "Epoch 65, CIFAR-10 Batch 4:  LOSS: 0.927 TEST_ACC: 0.693 VALIDACTION_ACC: 0.561\n",
      "Epoch 65, CIFAR-10 Batch 5:  LOSS: 1.051 TEST_ACC: 0.632 VALIDACTION_ACC: 0.561\n",
      "Epoch 66, CIFAR-10 Batch 1:  LOSS: 1.074 TEST_ACC: 0.632 VALIDACTION_ACC: 0.557\n",
      "Epoch 66, CIFAR-10 Batch 2:  LOSS: 1.068 TEST_ACC: 0.632 VALIDACTION_ACC: 0.530\n",
      "Epoch 66, CIFAR-10 Batch 3:  LOSS: 0.990 TEST_ACC: 0.632 VALIDACTION_ACC: 0.557\n",
      "Epoch 66, CIFAR-10 Batch 4:  LOSS: 0.925 TEST_ACC: 0.699 VALIDACTION_ACC: 0.562\n",
      "Epoch 66, CIFAR-10 Batch 5:  LOSS: 1.051 TEST_ACC: 0.645 VALIDACTION_ACC: 0.563\n",
      "Epoch 67, CIFAR-10 Batch 1:  LOSS: 1.067 TEST_ACC: 0.642 VALIDACTION_ACC: 0.560\n",
      "Epoch 67, CIFAR-10 Batch 2:  LOSS: 1.057 TEST_ACC: 0.645 VALIDACTION_ACC: 0.538\n",
      "Epoch 67, CIFAR-10 Batch 3:  LOSS: 0.978 TEST_ACC: 0.632 VALIDACTION_ACC: 0.558\n",
      "Epoch 67, CIFAR-10 Batch 4:  LOSS: 0.924 TEST_ACC: 0.699 VALIDACTION_ACC: 0.564\n",
      "Epoch 67, CIFAR-10 Batch 5:  LOSS: 1.050 TEST_ACC: 0.645 VALIDACTION_ACC: 0.566\n",
      "Epoch 68, CIFAR-10 Batch 1:  LOSS: 1.064 TEST_ACC: 0.645 VALIDACTION_ACC: 0.560\n",
      "Epoch 68, CIFAR-10 Batch 2:  LOSS: 1.048 TEST_ACC: 0.649 VALIDACTION_ACC: 0.543\n",
      "Epoch 68, CIFAR-10 Batch 3:  LOSS: 0.971 TEST_ACC: 0.628 VALIDACTION_ACC: 0.561\n",
      "Epoch 68, CIFAR-10 Batch 4:  LOSS: 0.922 TEST_ACC: 0.696 VALIDACTION_ACC: 0.564\n",
      "Epoch 68, CIFAR-10 Batch 5:  LOSS: 1.046 TEST_ACC: 0.645 VALIDACTION_ACC: 0.568\n",
      "Epoch 69, CIFAR-10 Batch 1:  LOSS: 1.059 TEST_ACC: 0.652 VALIDACTION_ACC: 0.559\n",
      "Epoch 69, CIFAR-10 Batch 2:  LOSS: 1.046 TEST_ACC: 0.652 VALIDACTION_ACC: 0.548\n",
      "Epoch 69, CIFAR-10 Batch 3:  LOSS: 0.968 TEST_ACC: 0.632 VALIDACTION_ACC: 0.561\n",
      "Epoch 69, CIFAR-10 Batch 4:  LOSS: 0.921 TEST_ACC: 0.689 VALIDACTION_ACC: 0.565\n",
      "Epoch 69, CIFAR-10 Batch 5:  LOSS: 1.044 TEST_ACC: 0.645 VALIDACTION_ACC: 0.567\n",
      "Epoch 70, CIFAR-10 Batch 1:  LOSS: 1.056 TEST_ACC: 0.649 VALIDACTION_ACC: 0.559\n",
      "Epoch 70, CIFAR-10 Batch 2:  LOSS: 1.046 TEST_ACC: 0.652 VALIDACTION_ACC: 0.549\n",
      "Epoch 70, CIFAR-10 Batch 3:  LOSS: 0.968 TEST_ACC: 0.628 VALIDACTION_ACC: 0.562\n",
      "Epoch 70, CIFAR-10 Batch 4:  LOSS: 0.920 TEST_ACC: 0.686 VALIDACTION_ACC: 0.565\n",
      "Epoch 70, CIFAR-10 Batch 5:  LOSS: 1.041 TEST_ACC: 0.652 VALIDACTION_ACC: 0.568\n",
      "Epoch 71, CIFAR-10 Batch 1:  LOSS: 1.052 TEST_ACC: 0.655 VALIDACTION_ACC: 0.561\n",
      "Epoch 71, CIFAR-10 Batch 2:  LOSS: 1.047 TEST_ACC: 0.642 VALIDACTION_ACC: 0.554\n",
      "Epoch 71, CIFAR-10 Batch 3:  LOSS: 0.963 TEST_ACC: 0.628 VALIDACTION_ACC: 0.563\n",
      "Epoch 71, CIFAR-10 Batch 4:  LOSS: 0.920 TEST_ACC: 0.689 VALIDACTION_ACC: 0.566\n",
      "Epoch 71, CIFAR-10 Batch 5:  LOSS: 1.038 TEST_ACC: 0.652 VALIDACTION_ACC: 0.568\n",
      "Epoch 72, CIFAR-10 Batch 1:  LOSS: 1.048 TEST_ACC: 0.655 VALIDACTION_ACC: 0.560\n",
      "Epoch 72, CIFAR-10 Batch 2:  LOSS: 1.045 TEST_ACC: 0.642 VALIDACTION_ACC: 0.554\n",
      "Epoch 72, CIFAR-10 Batch 3:  LOSS: 0.961 TEST_ACC: 0.632 VALIDACTION_ACC: 0.565\n",
      "Epoch 72, CIFAR-10 Batch 4:  LOSS: 0.919 TEST_ACC: 0.689 VALIDACTION_ACC: 0.569\n",
      "Epoch 72, CIFAR-10 Batch 5:  LOSS: 1.039 TEST_ACC: 0.655 VALIDACTION_ACC: 0.570\n",
      "Epoch 73, CIFAR-10 Batch 1:  LOSS: 1.047 TEST_ACC: 0.659 VALIDACTION_ACC: 0.562\n",
      "Epoch 73, CIFAR-10 Batch 2:  LOSS: 1.044 TEST_ACC: 0.642 VALIDACTION_ACC: 0.555\n",
      "Epoch 73, CIFAR-10 Batch 3:  LOSS: 0.959 TEST_ACC: 0.632 VALIDACTION_ACC: 0.564\n",
      "Epoch 73, CIFAR-10 Batch 4:  LOSS: 0.917 TEST_ACC: 0.693 VALIDACTION_ACC: 0.568\n",
      "Epoch 73, CIFAR-10 Batch 5:  LOSS: 1.038 TEST_ACC: 0.655 VALIDACTION_ACC: 0.570\n",
      "Epoch 74, CIFAR-10 Batch 1:  LOSS: 1.044 TEST_ACC: 0.659 VALIDACTION_ACC: 0.562\n",
      "Epoch 74, CIFAR-10 Batch 2:  LOSS: 1.043 TEST_ACC: 0.639 VALIDACTION_ACC: 0.557\n",
      "Epoch 74, CIFAR-10 Batch 3:  LOSS: 0.955 TEST_ACC: 0.639 VALIDACTION_ACC: 0.565\n",
      "Epoch 74, CIFAR-10 Batch 4:  LOSS: 0.917 TEST_ACC: 0.689 VALIDACTION_ACC: 0.570\n",
      "Epoch 74, CIFAR-10 Batch 5:  LOSS: 1.037 TEST_ACC: 0.659 VALIDACTION_ACC: 0.570\n",
      "Epoch 75, CIFAR-10 Batch 1:  LOSS: 1.043 TEST_ACC: 0.659 VALIDACTION_ACC: 0.563\n",
      "Epoch 75, CIFAR-10 Batch 2:  LOSS: 1.044 TEST_ACC: 0.645 VALIDACTION_ACC: 0.558\n",
      "Epoch 75, CIFAR-10 Batch 3:  LOSS: 0.954 TEST_ACC: 0.645 VALIDACTION_ACC: 0.565\n",
      "Epoch 75, CIFAR-10 Batch 4:  LOSS: 0.919 TEST_ACC: 0.693 VALIDACTION_ACC: 0.570\n",
      "Epoch 75, CIFAR-10 Batch 5:  LOSS: 1.035 TEST_ACC: 0.666 VALIDACTION_ACC: 0.570\n"
     ]
    }
   ],
   "source": [
    "\"\"\"\n",
    "DON'T MODIFY ANYTHING IN THIS CELL\n",
    "\"\"\"\n",
    "save_model_path = './image_classification'\n",
    "\n",
    "print('Training...')\n",
    "with tf.Session() as sess:\n",
    "    # Initializing the variables\n",
    "    sess.run(tf.global_variables_initializer())\n",
    "    \n",
    "    # Training cycle\n",
    "    for epoch in range(epochs):\n",
    "        # Loop over all batches\n",
    "        n_batches = 5\n",
    "        for batch_i in range(1, n_batches + 1):\n",
    "            for batch_features, batch_labels in helper.load_preprocess_training_batch(batch_i, batch_size):\n",
    "                train_neural_network(sess, optimizer, keep_probability, batch_features, batch_labels)\n",
    "            print('Epoch {:>2}, CIFAR-10 Batch {}:  '.format(epoch + 1, batch_i), end='')\n",
    "            print_stats(sess, batch_features, batch_labels, cost, accuracy)\n",
    "            \n",
    "    # Save Model\n",
    "    saver = tf.train.Saver()\n",
    "    save_path = saver.save(sess, save_model_path)"
   ]
  },
  {
   "cell_type": "markdown",
   "metadata": {
    "deletable": true,
    "editable": true
   },
   "source": [
    "# Checkpoint\n",
    "The model has been saved to disk.\n",
    "## Test Model\n",
    "Test your model against the test dataset.  This will be your final accuracy. You should have an accuracy greater than 50%. If you don't, keep tweaking the model architecture and parameters."
   ]
  },
  {
   "cell_type": "code",
   "execution_count": 51,
   "metadata": {
    "collapsed": false,
    "deletable": true,
    "editable": true
   },
   "outputs": [
    {
     "name": "stdout",
     "output_type": "stream",
     "text": [
      "Testing Accuracy: 0.5576746329665184\n",
      "\n"
     ]
    },
    {
     "data": {
      "image/png": "[encoded data removed]",
      "text/plain": [
       "<matplotlib.figure.Figure at 0x209817396d8>"
      ]
     },
     "metadata": {
      "image/png": {
       "height": 319,
       "width": 355
      }
     },
     "output_type": "display_data"
    }
   ],
   "source": [
    "\"\"\"\n",
    "DON'T MODIFY ANYTHING IN THIS CELL\n",
    "\"\"\"\n",
    "%matplotlib inline\n",
    "%config InlineBackend.figure_format = 'retina'\n",
    "\n",
    "import tensorflow as tf\n",
    "import pickle\n",
    "import helper\n",
    "import random\n",
    "\n",
    "# Set batch size if not already set\n",
    "try:\n",
    "    if batch_size:\n",
    "        pass\n",
    "except NameError:\n",
    "    batch_size = 64\n",
    "\n",
    "save_model_path = './image_classification'\n",
    "n_samples = 4\n",
    "top_n_predictions = 3\n",
    "\n",
    "def test_model():\n",
    "    \"\"\"\n",
    "    Test the saved model against the test dataset\n",
    "    \"\"\"\n",
    "\n",
    "    test_features, test_labels = pickle.load(open('preprocess_training.p', mode='rb'))\n",
    "    loaded_graph = tf.Graph()\n",
    "\n",
    "    with tf.Session(graph=loaded_graph) as sess:\n",
    "        # Load model\n",
    "        loader = tf.train.import_meta_graph(save_model_path + '.meta')\n",
    "        loader.restore(sess, save_model_path)\n",
    "\n",
    "        # Get Tensors from loaded model\n",
    "        loaded_x = loaded_graph.get_tensor_by_name('x:0')\n",
    "        loaded_y = loaded_graph.get_tensor_by_name('y:0')\n",
    "        loaded_keep_prob = loaded_graph.get_tensor_by_name('keep_prob:0')\n",
    "        loaded_logits = loaded_graph.get_tensor_by_name('logits:0')\n",
    "        loaded_acc = loaded_graph.get_tensor_by_name('accuracy:0')\n",
    "        \n",
    "        # Get accuracy in batches for memory limitations\n",
    "        test_batch_acc_total = 0\n",
    "        test_batch_count = 0\n",
    "        \n",
    "        for train_feature_batch, train_label_batch in helper.batch_features_labels(test_features, test_labels, batch_size):\n",
    "            test_batch_acc_total += sess.run(\n",
    "                loaded_acc,\n",
    "                feed_dict={loaded_x: train_feature_batch, loaded_y: train_label_batch, loaded_keep_prob: 1.0})\n",
    "            test_batch_count += 1\n",
    "\n",
    "        print('Testing Accuracy: {}\\n'.format(test_batch_acc_total/test_batch_count))\n",
    "\n",
    "        # Print Random Samples\n",
    "        random_test_features, random_test_labels = tuple(zip(*random.sample(list(zip(test_features, test_labels)), n_samples)))\n",
    "        random_test_predictions = sess.run(\n",
    "            tf.nn.top_k(tf.nn.softmax(loaded_logits), top_n_predictions),\n",
    "            feed_dict={loaded_x: random_test_features, loaded_y: random_test_labels, loaded_keep_prob: 1.0})\n",
    "        helper.display_image_predictions(random_test_features, random_test_labels, random_test_predictions)\n",
    "\n",
    "\n",
    "test_model()"
   ]
  },
  {
   "cell_type": "markdown",
   "metadata": {
    "deletable": true,
    "editable": true
   },
   "source": [
    "## Why 50-70% Accuracy?\n",
    "You might be wondering why you can't get an accuracy any higher. First things first, 50% isn't bad for a simple CNN.  Pure guessing would get you 10% accuracy. However, you might notice people are getting scores [well above 70%](http://rodrigob.github.io/are_we_there_yet/build/classification_datasets_results.html#43494641522d3130).  That's because we haven't taught you all there is to know about neural networks. We still need to cover a few more techniques.\n",
    "## Submitting This Project\n",
    "When submitting this project, make sure to run all the cells before saving the notebook.  Save the notebook file as \"dlnd_image_classification.ipynb\" and save it as a HTML file under \"File\" -> \"Download as\".  Include the \"helper.py\" and \"problem_unittests.py\" files in your submission."
   ]
  }
 ],
 "metadata": {
  "kernelspec": {
   "display_name": "Python 3",
   "language": "python",
   "name": "python3"
  },
  "language_info": {
   "codemirror_mode": {
    "name": "ipython",
    "version": 3
   },
   "file_extension": ".py",
   "mimetype": "text/x-python",
   "name": "python",
   "nbconvert_exporter": "python",
   "pygments_lexer": "ipython3",
   "version": "3.5.2"
  },
  "widgets": {
   "state": {},
   "version": "1.1.2"
  }
 },
 "nbformat": 4,
 "nbformat_minor": 0
}
