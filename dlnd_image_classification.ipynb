{
 "cells": [
  {
   "cell_type": "markdown",
   "metadata": {
    "collapsed": true,
    "deletable": true,
    "editable": true
   },
   "source": [
    "# Image Classification\n",
    "In this project, you'll classify images from the [CIFAR-10 dataset](https://www.cs.toronto.edu/~kriz/cifar.html).  The dataset consists of airplanes, dogs, cats, and other objects. You'll preprocess the images, then train a convolutional neural network on all the samples. The images need to be normalized and the labels need to be one-hot encoded.  You'll get to apply what you learned and build a convolutional, max pooling, dropout, and fully connected layers.  At the end, you'll get to see your neural network's predictions on the sample images.\n",
    "## Get the Data\n",
    "Run the following cell to download the [CIFAR-10 dataset for python](https://www.cs.toronto.edu/~kriz/cifar-10-python.tar.gz)."
   ]
  },
  {
   "cell_type": "code",
   "execution_count": 1,
   "metadata": {
    "collapsed": false,
    "deletable": true,
    "editable": true
   },
   "outputs": [
    {
     "name": "stdout",
     "output_type": "stream",
     "text": [
      "All files found!\n"
     ]
    }
   ],
   "source": [
    "\"\"\"\n",
    "DON'T MODIFY ANYTHING IN THIS CELL THAT IS BELOW THIS LINE\n",
    "\"\"\"\n",
    "from urllib.request import urlretrieve\n",
    "from os.path import isfile, isdir\n",
    "from tqdm import tqdm\n",
    "import problem_unittests as tests\n",
    "import tarfile\n",
    "\n",
    "cifar10_dataset_folder_path = 'cifar-10-batches-py'\n",
    "\n",
    "class DLProgress(tqdm):\n",
    "    last_block = 0\n",
    "\n",
    "    def hook(self, block_num=1, block_size=1, total_size=None):\n",
    "        self.total = total_size\n",
    "        self.update((block_num - self.last_block) * block_size)\n",
    "        self.last_block = block_num\n",
    "\n",
    "if not isfile('cifar-10-python.tar.gz'):\n",
    "    with DLProgress(unit='B', unit_scale=True, miniters=1, desc='CIFAR-10 Dataset') as pbar:\n",
    "        urlretrieve(\n",
    "            'https://www.cs.toronto.edu/~kriz/cifar-10-python.tar.gz',\n",
    "            'cifar-10-python.tar.gz',\n",
    "            pbar.hook)\n",
    "\n",
    "if not isdir(cifar10_dataset_folder_path):\n",
    "    with tarfile.open('cifar-10-python.tar.gz') as tar:\n",
    "        tar.extractall()\n",
    "        tar.close()\n",
    "\n",
    "\n",
    "tests.test_folder_path(cifar10_dataset_folder_path)"
   ]
  },
  {
   "cell_type": "markdown",
   "metadata": {
    "deletable": true,
    "editable": true
   },
   "source": [
    "## Explore the Data\n",
    "The dataset is broken into batches to prevent your machine from running out of memory.  The CIFAR-10 dataset consists of 5 batches, named `data_batch_1`, `data_batch_2`, etc.. Each batch contains the labels and images that are one of the following:\n",
    "* airplane\n",
    "* automobile\n",
    "* bird\n",
    "* cat\n",
    "* deer\n",
    "* dog\n",
    "* frog\n",
    "* horse\n",
    "* ship\n",
    "* truck\n",
    "\n",
    "Understanding a dataset is part of making predictions on the data.  Play around with the code cell below by changing the `batch_id` and `sample_id`. The `batch_id` is the id for a batch (1-5). The `sample_id` is the id for a image and label pair in the batch.\n",
    "\n",
    "Ask yourself \"What are all possible labels?\", \"What is the range of values for the image data?\", \"Are the labels in order or random?\".  Answers to questions like these will help you preprocess the data and end up with better predictions."
   ]
  },
  {
   "cell_type": "code",
   "execution_count": 2,
   "metadata": {
    "collapsed": false,
    "deletable": true,
    "editable": true
   },
   "outputs": [
    {
     "name": "stdout",
     "output_type": "stream",
     "text": [
      "\n",
      "Stats of batch 1:\n",
      "Samples: 10000\n",
      "Label Counts: {0: 1005, 1: 974, 2: 1032, 3: 1016, 4: 999, 5: 937, 6: 1030, 7: 1001, 8: 1025, 9: 981}\n",
      "First 20 Labels: [6, 9, 9, 4, 1, 1, 2, 7, 8, 3, 4, 7, 7, 2, 9, 9, 9, 3, 2, 6]\n",
      "\n",
      "Example of Image 5:\n",
      "Image - Min Value: 0 Max Value: 252\n",
      "Image - Shape: (32, 32, 3)\n",
      "Label - Label Id: 1 Name: automobile\n"
     ]
    },
    {
     "data": {
      "image/png": "[encoded data removed]",
      "text/plain": [
       "<matplotlib.figure.Figure at 0x2d205c1efd0>"
      ]
     },
     "metadata": {
      "image/png": {
       "height": 250,
       "width": 253
      }
     },
     "output_type": "display_data"
    }
   ],
   "source": [
    "%matplotlib inline\n",
    "%config InlineBackend.figure_format = 'retina'\n",
    "\n",
    "import helper\n",
    "import numpy as np\n",
    "\n",
    "# Explore the dataset\n",
    "batch_id = 1\n",
    "sample_id = 5\n",
    "helper.display_stats(cifar10_dataset_folder_path, batch_id, sample_id)"
   ]
  },
  {
   "cell_type": "markdown",
   "metadata": {
    "deletable": true,
    "editable": true
   },
   "source": [
    "## Implement Preprocess Functions\n",
    "### Normalize\n",
    "In the cell below, implement the `normalize` function to take in image data, `x`, and return it as a normalized Numpy array. The values should be in the range of 0 to 1, inclusive.  The return object should be the same shape as `x`."
   ]
  },
  {
   "cell_type": "code",
   "execution_count": 3,
   "metadata": {
    "collapsed": false,
    "deletable": true,
    "editable": true
   },
   "outputs": [
    {
     "name": "stdout",
     "output_type": "stream",
     "text": [
      "Tests Passed\n"
     ]
    }
   ],
   "source": [
    "def normalize(x):\n",
    "    \"\"\"\n",
    "    Normalize a list of sample image data in the range of 0 to 1\n",
    "    : x: List of image data.  The image shape is (32, 32, 3)\n",
    "    : return: Numpy array of normalize data\n",
    "    \"\"\"\n",
    "    return x/255.0\n",
    "\n",
    "\"\"\"\n",
    "DON'T MODIFY ANYTHING IN THIS CELL THAT IS BELOW THIS LINE\n",
    "\"\"\"\n",
    "tests.test_normalize(normalize)"
   ]
  },
  {
   "cell_type": "markdown",
   "metadata": {
    "deletable": true,
    "editable": true
   },
   "source": [
    "### One-hot encode\n",
    "Just like the previous code cell, you'll be implementing a function for preprocessing.  This time, you'll implement the `one_hot_encode` function. The input, `x`, are a list of labels.  Implement the function to return the list of labels as One-Hot encoded Numpy array.  The possible values for labels are 0 to 9. The one-hot encoding function should return the same encoding for each value between each call to `one_hot_encode`.  Make sure to save the map of encodings outside the function.\n",
    "\n",
    "Hint: Don't reinvent the wheel."
   ]
  },
  {
   "cell_type": "code",
   "execution_count": 4,
   "metadata": {
    "collapsed": false,
    "deletable": true,
    "editable": true
   },
   "outputs": [
    {
     "name": "stdout",
     "output_type": "stream",
     "text": [
      "Tests Passed\n"
     ]
    }
   ],
   "source": [
    "def one_hot_encode(x):\n",
    "    \"\"\"\n",
    "    One hot encode a list of sample labels. Return a one-hot encoded vector for each label.\n",
    "    : x: List of sample Labels\n",
    "    : return: Numpy array of one-hot encoded labels\n",
    "    \"\"\"\n",
    "    copy = np.zeros((len(x), 10))\n",
    "    for i in range(0,len(copy)):\n",
    "        copy[i][x[i]] = 1\n",
    "    return copy\n",
    "\n",
    "\"\"\"\n",
    "DON'T MODIFY ANYTHING IN THIS CELL THAT IS BELOW THIS LINE\n",
    "\"\"\"\n",
    "tests.test_one_hot_encode(one_hot_encode)"
   ]
  },
  {
   "cell_type": "markdown",
   "metadata": {
    "deletable": true,
    "editable": true
   },
   "source": [
    "### Randomize Data\n",
    "As you saw from exploring the data above, the order of the samples are randomized.  It doesn't hurt to randomize it again, but you don't need to for this dataset."
   ]
  },
  {
   "cell_type": "markdown",
   "metadata": {
    "deletable": true,
    "editable": true
   },
   "source": [
    "## Preprocess all the data and save it\n",
    "Running the code cell below will preprocess all the CIFAR-10 data and save it to file. The code below also uses 10% of the training data for validation."
   ]
  },
  {
   "cell_type": "code",
   "execution_count": 5,
   "metadata": {
    "collapsed": false,
    "deletable": true,
    "editable": true
   },
   "outputs": [],
   "source": [
    "\"\"\"\n",
    "DON'T MODIFY ANYTHING IN THIS CELL\n",
    "\"\"\"\n",
    "# Preprocess Training, Validation, and Testing Data\n",
    "helper.preprocess_and_save_data(cifar10_dataset_folder_path, normalize, one_hot_encode)"
   ]
  },
  {
   "cell_type": "markdown",
   "metadata": {
    "deletable": true,
    "editable": true
   },
   "source": [
    "# Check Point\n",
    "This is your first checkpoint.  If you ever decide to come back to this notebook or have to restart the notebook, you can start from here.  The preprocessed data has been saved to disk."
   ]
  },
  {
   "cell_type": "code",
   "execution_count": 6,
   "metadata": {
    "collapsed": true,
    "deletable": true,
    "editable": true
   },
   "outputs": [],
   "source": [
    "\"\"\"\n",
    "DON'T MODIFY ANYTHING IN THIS CELL\n",
    "\"\"\"\n",
    "import pickle\n",
    "import problem_unittests as tests\n",
    "import helper\n",
    "\n",
    "# Load the Preprocessed Validation data\n",
    "valid_features, valid_labels = pickle.load(open('preprocess_validation.p', mode='rb'))"
   ]
  },
  {
   "cell_type": "markdown",
   "metadata": {
    "deletable": true,
    "editable": true
   },
   "source": [
    "## Build the network\n",
    "For the neural network, you'll build each layer into a function.  Most of the code you've seen has been outside of functions. To test your code more thoroughly, we require that you put each layer in a function.  This allows us to give you better feedback and test for simple mistakes using our unittests before you submit your project.\n",
    "\n",
    "If you're finding it hard to dedicate enough time for this course a week, we've provided a small shortcut to this part of the project. In the next couple of problems, you'll have the option to use [TensorFlow Layers](https://www.tensorflow.org/api_docs/python/tf/layers) or [TensorFlow Layers (contrib)](https://www.tensorflow.org/api_guides/python/contrib.layers) to build each layer, except \"Convolutional & Max Pooling\" layer.  TF Layers is similar to Keras's and TFLearn's abstraction to layers, so it's easy to pickup.\n",
    "\n",
    "If you would like to get the most of this course, try to solve all the problems without TF Layers.  Let's begin!\n",
    "### Input\n",
    "The neural network needs to read the image data, one-hot encoded labels, and dropout keep probability. Implement the following functions\n",
    "* Implement `neural_net_image_input`\n",
    " * Return a [TF Placeholder](https://www.tensorflow.org/api_docs/python/tf/placeholder)\n",
    " * Set the shape using `image_shape` with batch size set to `None`.\n",
    " * Name the TensorFlow placeholder \"x\" using the TensorFlow `name` parameter in the [TF Placeholder](https://www.tensorflow.org/api_docs/python/tf/placeholder).\n",
    "* Implement `neural_net_label_input`\n",
    " * Return a [TF Placeholder](https://www.tensorflow.org/api_docs/python/tf/placeholder)\n",
    " * Set the shape using `n_classes` with batch size set to `None`.\n",
    " * Name the TensorFlow placeholder \"y\" using the TensorFlow `name` parameter in the [TF Placeholder](https://www.tensorflow.org/api_docs/python/tf/placeholder).\n",
    "* Implement `neural_net_keep_prob_input`\n",
    " * Return a [TF Placeholder](https://www.tensorflow.org/api_docs/python/tf/placeholder) for dropout keep probability.\n",
    " * Name the TensorFlow placeholder \"keep_prob\" using the TensorFlow `name` parameter in the [TF Placeholder](https://www.tensorflow.org/api_docs/python/tf/placeholder).\n",
    "\n",
    "These names will be used at the end of the project to load your saved model.\n",
    "\n",
    "Note: `None` for shapes in TensorFlow allow for a dynamic size."
   ]
  },
  {
   "cell_type": "code",
   "execution_count": 7,
   "metadata": {
    "collapsed": false,
    "deletable": true,
    "editable": true
   },
   "outputs": [
    {
     "name": "stdout",
     "output_type": "stream",
     "text": [
      "Image Input Tests Passed.\n",
      "Label Input Tests Passed.\n",
      "Keep Prob Tests Passed.\n"
     ]
    }
   ],
   "source": [
    "import tensorflow as tf\n",
    "\n",
    "def neural_net_image_input(image_shape):\n",
    "    \"\"\"\n",
    "    Return a Tensor for a bach of image input\n",
    "    : image_shape: Shape of the images\n",
    "    : return: Tensor for image input.\n",
    "    \"\"\"\n",
    "    return tf.placeholder(tf.float32,shape=[None,*image_shape],name='x')\n",
    "\n",
    "\n",
    "def neural_net_label_input(n_classes):\n",
    "    \"\"\"\n",
    "    Return a Tensor for a batch of label input\n",
    "    : n_classes: Number of classes\n",
    "    : return: Tensor for label input.\n",
    "    \"\"\"\n",
    "    return tf.placeholder(tf.float32,shape=(None,n_classes), name='y')\n",
    "\n",
    "\n",
    "def neural_net_keep_prob_input():\n",
    "    \"\"\"\n",
    "    Return a Tensor for keep probability\n",
    "    : return: Tensor for keep probability.\n",
    "    \"\"\"\n",
    "    return tf.placeholder(tf.float32,name='keep_prob')\n",
    "\n",
    "\"\"\"\n",
    "DON'T MODIFY ANYTHING IN THIS CELL THAT IS BELOW THIS LINE\n",
    "\"\"\"\n",
    "tf.reset_default_graph()\n",
    "tests.test_nn_image_inputs(neural_net_image_input)\n",
    "tests.test_nn_label_inputs(neural_net_label_input)\n",
    "tests.test_nn_keep_prob_inputs(neural_net_keep_prob_input)"
   ]
  },
  {
   "cell_type": "markdown",
   "metadata": {
    "deletable": true,
    "editable": true
   },
   "source": [
    "### Convolution and Max Pooling Layer\n",
    "Convolution layers have a lot of success with images. For this code cell, you should implement the function `conv2d_maxpool` to apply convolution then max pooling:\n",
    "* Create the weight and bias using `conv_ksize`, `conv_num_outputs` and the shape of `x_tensor`.\n",
    "* Apply a convolution to `x_tensor` using weight and `conv_strides`.\n",
    " * We recommend you use same padding, but you're welcome to use any padding.\n",
    "* Add bias\n",
    "* Add a nonlinear activation to the convolution.\n",
    "* Apply Max Pooling using `pool_ksize` and `pool_strides`.\n",
    " * We recommend you use same padding, but you're welcome to use any padding.\n",
    "\n",
    "Note: You **can't** use [TensorFlow Layers](https://www.tensorflow.org/api_docs/python/tf/layers) or [TensorFlow Layers (contrib)](https://www.tensorflow.org/api_guides/python/contrib.layers) for this layer.  You're free to use any TensorFlow package for all the other layers."
   ]
  },
  {
   "cell_type": "code",
   "execution_count": 8,
   "metadata": {
    "collapsed": false,
    "deletable": true,
    "editable": true
   },
   "outputs": [
    {
     "name": "stdout",
     "output_type": "stream",
     "text": [
      "Tests Passed\n"
     ]
    }
   ],
   "source": [
    "def conv2d_maxpool(x_tensor, conv_num_outputs, conv_ksize, conv_strides, pool_ksize, pool_strides):\n",
    "    \"\"\"\n",
    "    Apply convolution then max pooling to x_tensor\n",
    "    :param x_tensor: TensorFlow Tensor\n",
    "    :param conv_num_outputs: Number of outputs for the convolutional layer\n",
    "    :param conv_strides: Stride 2-D Tuple for convolution\n",
    "    :param pool_ksize: kernal size 2-D Tuple for pool\n",
    "    :param pool_strides: Stride 2-D Tuple for pool\n",
    "    : return: A tensor that represents convolution and max pooling of x_tensor\n",
    "    \"\"\"\n",
    "    mu = 0\n",
    "    sigma = 0.1\n",
    "    weights = tf.Variable(tf.truncated_normal([conv_ksize[0], conv_ksize[1], int(x_tensor.shape[3]), conv_num_outputs],mean=mu,stddev=sigma))\n",
    "    bias = tf.Variable(tf.zeros(conv_num_outputs))\n",
    "    \n",
    "    conv_layer = tf.nn.conv2d(x_tensor, weights, [1,conv_strides[0],conv_strides[1],1], padding='SAME',name='Conv2D')\n",
    "    conv_layer = tf.nn.bias_add(conv_layer,bias)\n",
    "    conv_layer = tf.nn.relu(conv_layer,name='Conv2D_Relu')\n",
    "    \n",
    "    max_pool_layer = tf.nn.max_pool(conv_layer, ksize=[1,pool_ksize[0], pool_ksize[0],1], strides=[1,pool_strides[0],pool_strides[0],1], padding='SAME',name='MaxPool')\n",
    "\n",
    "    return max_pool_layer\n",
    "\"\"\"\n",
    "DON'T MODIFY ANYTHING IN THIS CELL THAT IS BELOW THIS LINE\n",
    "\"\"\"\n",
    "tests.test_con_pool(conv2d_maxpool)"
   ]
  },
  {
   "cell_type": "markdown",
   "metadata": {
    "deletable": true,
    "editable": true
   },
   "source": [
    "### Flatten Layer\n",
    "Implement the `flatten` function to change the dimension of `x_tensor` from a 4-D tensor to a 2-D tensor.  The output should be the shape (*Batch Size*, *Flattened Image Size*). You can use [TensorFlow Layers](https://www.tensorflow.org/api_docs/python/tf/layers) or [TensorFlow Layers (contrib)](https://www.tensorflow.org/api_guides/python/contrib.layers) for this layer."
   ]
  },
  {
   "cell_type": "code",
   "execution_count": 9,
   "metadata": {
    "collapsed": false,
    "deletable": true,
    "editable": true
   },
   "outputs": [
    {
     "name": "stdout",
     "output_type": "stream",
     "text": [
      "Tests Passed\n"
     ]
    }
   ],
   "source": [
    "def flatten(x_tensor):\n",
    "    \"\"\"\n",
    "    Flatten x_tensor to (Batch Size, Flattened Image Size)\n",
    "    : x_tensor: A tensor of size (Batch Size, ...), where ... are the image dimensions.\n",
    "    : return: A tensor of size (Batch Size, Flattened Image Size).\n",
    "    \"\"\"\n",
    "    shape = x_tensor.get_shape().as_list()\n",
    "    return tf.reshape(x_tensor, [-1, shape[1]*shape[2]*shape[3]])\n",
    "\n",
    "\"\"\"\n",
    "DON'T MODIFY ANYTHING IN THIS CELL THAT IS BELOW THIS LINE\n",
    "\"\"\"\n",
    "tests.test_flatten(flatten)"
   ]
  },
  {
   "cell_type": "markdown",
   "metadata": {
    "deletable": true,
    "editable": true
   },
   "source": [
    "### Fully-Connected Layer\n",
    "Implement the `fully_conn` function to apply a fully connected layer to `x_tensor` with the shape (*Batch Size*, *num_outputs*). You can use [TensorFlow Layers](https://www.tensorflow.org/api_docs/python/tf/layers) or [TensorFlow Layers (contrib)](https://www.tensorflow.org/api_guides/python/contrib.layers) for this layer."
   ]
  },
  {
   "cell_type": "code",
   "execution_count": 10,
   "metadata": {
    "collapsed": false,
    "deletable": true,
    "editable": true
   },
   "outputs": [
    {
     "name": "stdout",
     "output_type": "stream",
     "text": [
      "Tests Passed\n"
     ]
    }
   ],
   "source": [
    "def fully_conn(x_tensor, num_outputs):\n",
    "    \"\"\"\n",
    "    Apply a fully connected layer to x_tensor using weight and bias\n",
    "    : x_tensor: A 2-D tensor where the first dimension is batch size.\n",
    "    : num_outputs: The number of output that the new tensor should be.\n",
    "    : return: A 2-D tensor where the second dimension is num_outputs.\n",
    "    \"\"\"\n",
    "    mu = 0\n",
    "    sigma = 0.1\n",
    "    weights = tf.Variable(tf.truncated_normal([x_tensor.get_shape().as_list()[1], num_outputs],mean=mu,stddev=sigma))\n",
    "    bias = tf.zeros(num_outputs)\n",
    "    \n",
    "    fc = tf.matmul(x_tensor, weights, name='FC_matmul')\n",
    "    fc = tf.add(fc, bias, name='FC_add')\n",
    "    \n",
    "    fc = tf.nn.relu(fc)\n",
    "    \n",
    "    return fc\n",
    "\n",
    "\n",
    "\"\"\"\n",
    "DON'T MODIFY ANYTHING IN THIS CELL THAT IS BELOW THIS LINE\n",
    "\"\"\"\n",
    "tests.test_fully_conn(fully_conn)"
   ]
  },
  {
   "cell_type": "markdown",
   "metadata": {
    "deletable": true,
    "editable": true
   },
   "source": [
    "### Output Layer\n",
    "Implement the `output` function to apply a fully connected layer to `x_tensor` with the shape (*Batch Size*, *num_outputs*). You can use [TensorFlow Layers](https://www.tensorflow.org/api_docs/python/tf/layers) or [TensorFlow Layers (contrib)](https://www.tensorflow.org/api_guides/python/contrib.layers) for this layer.\n",
    "\n",
    "Note: Activation, softmax, or cross entropy shouldn't be applied to this."
   ]
  },
  {
   "cell_type": "code",
   "execution_count": 11,
   "metadata": {
    "collapsed": false,
    "deletable": true,
    "editable": true
   },
   "outputs": [
    {
     "name": "stdout",
     "output_type": "stream",
     "text": [
      "Tests Passed\n"
     ]
    }
   ],
   "source": [
    "def output(x_tensor, num_outputs):\n",
    "    \"\"\"\n",
    "    Apply a output layer to x_tensor using weight and bias\n",
    "    : x_tensor: A 2-D tensor where the first dimension is batch size.\n",
    "    : num_outputs: The number of output that the new tensor should be.\n",
    "    : return: A 2-D tensor where the second dimension is num_outputs.\n",
    "    \"\"\"\n",
    "    mu = 0\n",
    "    sigma = 0.1\n",
    "    weights = tf.Variable(tf.truncated_normal([x_tensor.get_shape().as_list()[1], num_outputs],mean=mu,stddev=sigma))\n",
    "    bias = tf.zeros(num_outputs)\n",
    "    \n",
    "    output = tf.matmul(x_tensor, weights, name='out_matmul')\n",
    "    output = tf.add(output, bias,name='out_add')\n",
    "    return output\n",
    "\n",
    "\"\"\"\n",
    "DON'T MODIFY ANYTHING IN THIS CELL THAT IS BELOW THIS LINE\n",
    "\"\"\"\n",
    "tests.test_output(output)"
   ]
  },
  {
   "cell_type": "markdown",
   "metadata": {
    "deletable": true,
    "editable": true
   },
   "source": [
    "### Create Convolutional Model\n",
    "Implement the function `conv_net` to create a convolutional neural network model. The function takes in a batch of images, `x`, and outputs logits.  Use the layers you created above to create this model:\n",
    "\n",
    "* Apply 1, 2, or 3 Convolution and Max Pool layers\n",
    "* Apply a Flatten Layer\n",
    "* Apply 1, 2, or 3 Fully Connected Layers\n",
    "* Apply an Output Layer\n",
    "* Return the output\n",
    "* Apply [TensorFlow's Dropout](https://www.tensorflow.org/api_docs/python/tf/nn/dropout) to one or more layers in the model using `keep_prob`. "
   ]
  },
  {
   "cell_type": "code",
   "execution_count": 13,
   "metadata": {
    "collapsed": false,
    "deletable": true,
    "editable": true
   },
   "outputs": [
    {
     "name": "stdout",
     "output_type": "stream",
     "text": [
      "Neural Network Built!\n"
     ]
    }
   ],
   "source": [
    "def conv_net(x, keep_prob):\n",
    "    \"\"\"\n",
    "    Create a convolutional neural network model\n",
    "    : x: Placeholder tensor that holds image data.\n",
    "    : keep_prob: Placeholder tensor that hold dropout keep probability.\n",
    "    : return: Tensor that represents logits\n",
    "    \"\"\"\n",
    "    \n",
    "    # TODO: Apply 1, 2, or 3 Convolution and Max Pool layers\n",
    "    #    Play around with different number of outputs, kernel size and stride\n",
    "    # Function Definition from Above:\n",
    "    #    conv2d_maxpool(x_tensor, conv_num_outputs, conv_ksize, conv_strides, pool_ksize, pool_strides)\n",
    "    conv1 = conv2d_maxpool(x, 6, (5,5), (1,1), (2,2), (2,2))\n",
    "    conv1 = tf.nn.dropout(conv1, keep_prob)\n",
    "    conv2 = conv2d_maxpool(conv1, 12, (5,5), (1,1), (2,2), (2,2))\n",
    "    conv2 = tf.nn.dropout(conv2, keep_prob)\n",
    "    conv3 = conv2d_maxpool(conv2, 18, (5,5), (1,1), (2,2), (2,2))\n",
    "    conv3 = tf.nn.dropout(conv3, keep_prob)\n",
    "    conv4 = conv2d_maxpool(conv3, 24, (5,5), (1,1), (2,2), (2,2))\n",
    "    conv4 = tf.nn.dropout(conv4, keep_prob)\n",
    "    # TODO: Apply a Flatten Layer\n",
    "    # Function Definition from Above:\n",
    "    #   flatten(x_tensor)\n",
    "    flat = flatten(conv4)\n",
    "    \n",
    "    # TODO: Apply 1, 2, or 3 Fully Connected Layers\n",
    "    #    Play around with different number of outputs\n",
    "    # Function Definition from Above:\n",
    "    #   fully_conn(x_tensor, num_outputs)\n",
    "    fc1 = fully_conn(flat, 300)\n",
    "    fc1 = tf.nn.dropout(fc1, keep_prob)\n",
    "    fc2 = fully_conn(fc1,100)\n",
    "    fc2 = tf.nn.dropout(fc2, keep_prob)\n",
    "    \n",
    "    # TODO: Apply an Output Layer\n",
    "    #    Set this to the number of classes\n",
    "    # Function Definition from Above:\n",
    "    #   output(x_tensor, num_outputs)\n",
    "    fin = output(fc2, 10)\n",
    "    \n",
    "    # TODO: return output\n",
    "    return fin\n",
    "\n",
    "\n",
    "\"\"\"\n",
    "DON'T MODIFY ANYTHING IN THIS CELL THAT IS BELOW THIS LINE\n",
    "\"\"\"\n",
    "\n",
    "##############################\n",
    "## Build the Neural Network ##\n",
    "##############################\n",
    "\n",
    "# Remove previous weights, bias, inputs, etc..\n",
    "tf.reset_default_graph()\n",
    "\n",
    "# Inputs\n",
    "x = neural_net_image_input((32, 32, 3))\n",
    "y = neural_net_label_input(10)\n",
    "keep_prob = neural_net_keep_prob_input()\n",
    "\n",
    "# Model\n",
    "logits = conv_net(x, keep_prob)\n",
    "\n",
    "# Name logits Tensor, so that is can be loaded from disk after training\n",
    "logits = tf.identity(logits, name='logits')\n",
    "\n",
    "# Loss and Optimizer\n",
    "cost = tf.reduce_mean(tf.nn.softmax_cross_entropy_with_logits(logits=logits, labels=y))\n",
    "optimizer = tf.train.AdamOptimizer().minimize(cost)\n",
    "\n",
    "# Accuracy\n",
    "correct_pred = tf.equal(tf.argmax(logits, 1), tf.argmax(y, 1))\n",
    "accuracy = tf.reduce_mean(tf.cast(correct_pred, tf.float32), name='accuracy')\n",
    "\n",
    "tests.test_conv_net(conv_net)"
   ]
  },
  {
   "cell_type": "markdown",
   "metadata": {
    "deletable": true,
    "editable": true
   },
   "source": [
    "## Train the Neural Network\n",
    "### Single Optimization\n",
    "Implement the function `train_neural_network` to do a single optimization.  The optimization should use `optimizer` to optimize in `session` with a `feed_dict` of the following:\n",
    "* `x` for image input\n",
    "* `y` for labels\n",
    "* `keep_prob` for keep probability for dropout\n",
    "\n",
    "This function will be called for each batch, so `tf.global_variables_initializer()` has already been called.\n",
    "\n",
    "Note: Nothing needs to be returned. This function is only optimizing the neural network."
   ]
  },
  {
   "cell_type": "code",
   "execution_count": 14,
   "metadata": {
    "collapsed": false,
    "deletable": true,
    "editable": true
   },
   "outputs": [
    {
     "name": "stdout",
     "output_type": "stream",
     "text": [
      "Tests Passed\n"
     ]
    }
   ],
   "source": [
    "def train_neural_network(session, optimizer, keep_probability, feature_batch, label_batch):\n",
    "    \"\"\"\n",
    "    Optimize the session on a batch of images and labels\n",
    "    : session: Current TensorFlow session\n",
    "    : optimizer: TensorFlow optimizer function\n",
    "    : keep_probability: keep probability\n",
    "    : feature_batch: Batch of Numpy image data\n",
    "    : label_batch: Batch of Numpy label data\n",
    "    \"\"\"\n",
    "    session.run(optimizer, feed_dict={x:feature_batch, y: label_batch, keep_prob: keep_probability})\n",
    "    pass\n",
    "\n",
    "\n",
    "\"\"\"\n",
    "DON'T MODIFY ANYTHING IN THIS CELL THAT IS BELOW THIS LINE\n",
    "\"\"\"\n",
    "tests.test_train_nn(train_neural_network)"
   ]
  },
  {
   "cell_type": "markdown",
   "metadata": {
    "deletable": true,
    "editable": true
   },
   "source": [
    "### Show Stats\n",
    "Implement the function `print_stats` to print loss and validation accuracy.  Use the global variables `valid_features` and `valid_labels` to calculate validation accuracy.  Use a keep probability of `1.0` to calculate the loss and validation accuracy."
   ]
  },
  {
   "cell_type": "code",
   "execution_count": 15,
   "metadata": {
    "collapsed": false,
    "deletable": true,
    "editable": true
   },
   "outputs": [],
   "source": [
    "def print_stats(session, feature_batch, label_batch, cost, accuracy):\n",
    "    \"\"\"\n",
    "    Print information about loss and validation accuracy\n",
    "    : session: Current TensorFlow session\n",
    "    : feature_batch: Batch of Numpy image data\n",
    "    : label_batch: Batch of Numpy label data\n",
    "    : cost: TensorFlow cost function\n",
    "    : accuracy: TensorFlow accuracy function\n",
    "    \"\"\"\n",
    "    loss = session.run(cost, feed_dict={x:feature_batch, y:label_batch, keep_prob:1.0})\n",
    "    val_acc = session.run(accuracy, feed_dict={x:valid_features, y:valid_labels, keep_prob:1.0})*100\n",
    "    test_acc = session.run(accuracy, feed_dict={x:feature_batch, y:label_batch, keep_prob:1.0})*100\n",
    "    \n",
    "    print('LOSS: {0:.3f} TEST_ACC: {1:.3f}% VALIDACTION_ACC: {2:.3f}%'.format(loss, test_acc, val_acc))\n",
    "    \n",
    "    pass"
   ]
  },
  {
   "cell_type": "markdown",
   "metadata": {
    "deletable": true,
    "editable": true
   },
   "source": [
    "### Hyperparameters\n",
    "Tune the following parameters:\n",
    "* Set `epochs` to the number of iterations until the network stops learning or start overfitting\n",
    "* Set `batch_size` to the highest number that your machine has memory for.  Most people set them to common sizes of memory:\n",
    " * 64\n",
    " * 128\n",
    " * 256\n",
    " * ...\n",
    "* Set `keep_probability` to the probability of keeping a node using dropout"
   ]
  },
  {
   "cell_type": "code",
   "execution_count": 16,
   "metadata": {
    "collapsed": true,
    "deletable": true,
    "editable": true
   },
   "outputs": [],
   "source": [
    "# TODO: Tune Parameters\n",
    "epochs = 60\n",
    "batch_size = 512\n",
    "keep_probability = 0.7 "
   ]
  },
  {
   "cell_type": "markdown",
   "metadata": {
    "deletable": true,
    "editable": true
   },
   "source": [
    "### Train on a Single CIFAR-10 Batch\n",
    "Instead of training the neural network on all the CIFAR-10 batches of data, let's use a single batch. This should save time while you iterate on the model to get a better accuracy.  Once the final validation accuracy is 50% or greater, run the model on all the data in the next section."
   ]
  },
  {
   "cell_type": "code",
   "execution_count": 18,
   "metadata": {
    "collapsed": false,
    "deletable": true,
    "editable": true
   },
   "outputs": [
    {
     "name": "stdout",
     "output_type": "stream",
     "text": [
      "Checking the Training on a Single Batch...\n",
      "Epoch  1, CIFAR-10 Batch 1:  LOSS: 2.302 TEST_ACC: 11.149% VALIDACTION_ACC: 12.480%\n",
      "Epoch  2, CIFAR-10 Batch 1:  LOSS: 2.301 TEST_ACC: 10.135% VALIDACTION_ACC: 10.640%\n",
      "Epoch  3, CIFAR-10 Batch 1:  LOSS: 2.293 TEST_ACC: 10.473% VALIDACTION_ACC: 9.760%\n",
      "Epoch  4, CIFAR-10 Batch 1:  LOSS: 2.272 TEST_ACC: 14.189% VALIDACTION_ACC: 14.060%\n",
      "Epoch  5, CIFAR-10 Batch 1:  LOSS: 2.215 TEST_ACC: 18.919% VALIDACTION_ACC: 18.480%\n",
      "Epoch  6, CIFAR-10 Batch 1:  LOSS: 2.185 TEST_ACC: 17.230% VALIDACTION_ACC: 17.960%\n",
      "Epoch  7, CIFAR-10 Batch 1:  LOSS: 2.154 TEST_ACC: 16.554% VALIDACTION_ACC: 19.560%\n",
      "Epoch  8, CIFAR-10 Batch 1:  LOSS: 2.106 TEST_ACC: 20.270% VALIDACTION_ACC: 23.400%\n",
      "Epoch  9, CIFAR-10 Batch 1:  LOSS: 2.078 TEST_ACC: 24.324% VALIDACTION_ACC: 23.620%\n",
      "Epoch 10, CIFAR-10 Batch 1:  LOSS: 2.049 TEST_ACC: 25.000% VALIDACTION_ACC: 23.740%\n",
      "Epoch 11, CIFAR-10 Batch 1:  LOSS: 1.998 TEST_ACC: 28.716% VALIDACTION_ACC: 26.360%\n",
      "Epoch 12, CIFAR-10 Batch 1:  LOSS: 1.974 TEST_ACC: 30.068% VALIDACTION_ACC: 26.640%\n",
      "Epoch 13, CIFAR-10 Batch 1:  LOSS: 1.961 TEST_ACC: 29.392% VALIDACTION_ACC: 27.560%\n",
      "Epoch 14, CIFAR-10 Batch 1:  LOSS: 1.931 TEST_ACC: 28.716% VALIDACTION_ACC: 27.440%\n",
      "Epoch 15, CIFAR-10 Batch 1:  LOSS: 1.929 TEST_ACC: 27.365% VALIDACTION_ACC: 27.140%\n",
      "Epoch 16, CIFAR-10 Batch 1:  LOSS: 1.909 TEST_ACC: 30.068% VALIDACTION_ACC: 28.580%\n",
      "Epoch 17, CIFAR-10 Batch 1:  LOSS: 1.908 TEST_ACC: 27.365% VALIDACTION_ACC: 29.020%\n",
      "Epoch 18, CIFAR-10 Batch 1:  LOSS: 1.896 TEST_ACC: 30.405% VALIDACTION_ACC: 30.580%\n",
      "Epoch 19, CIFAR-10 Batch 1:  LOSS: 1.861 TEST_ACC: 30.743% VALIDACTION_ACC: 31.400%\n",
      "Epoch 20, CIFAR-10 Batch 1:  LOSS: 1.856 TEST_ACC: 31.081% VALIDACTION_ACC: 33.080%\n",
      "Epoch 21, CIFAR-10 Batch 1:  LOSS: 1.861 TEST_ACC: 31.757% VALIDACTION_ACC: 32.480%\n",
      "Epoch 22, CIFAR-10 Batch 1:  LOSS: 1.876 TEST_ACC: 30.405% VALIDACTION_ACC: 32.200%\n",
      "Epoch 23, CIFAR-10 Batch 1:  LOSS: 1.856 TEST_ACC: 33.108% VALIDACTION_ACC: 33.220%\n",
      "Epoch 24, CIFAR-10 Batch 1:  LOSS: 1.822 TEST_ACC: 33.446% VALIDACTION_ACC: 33.800%\n",
      "Epoch 25, CIFAR-10 Batch 1:  LOSS: 1.790 TEST_ACC: 34.122% VALIDACTION_ACC: 34.380%\n",
      "Epoch 26, CIFAR-10 Batch 1:  LOSS: 1.826 TEST_ACC: 33.784% VALIDACTION_ACC: 33.320%\n",
      "Epoch 27, CIFAR-10 Batch 1:  LOSS: 1.821 TEST_ACC: 31.757% VALIDACTION_ACC: 34.300%\n",
      "Epoch 28, CIFAR-10 Batch 1:  LOSS: 1.757 TEST_ACC: 32.770% VALIDACTION_ACC: 36.460%\n",
      "Epoch 29, CIFAR-10 Batch 1:  LOSS: 1.752 TEST_ACC: 34.122% VALIDACTION_ACC: 35.800%\n",
      "Epoch 30, CIFAR-10 Batch 1:  LOSS: 1.741 TEST_ACC: 34.459% VALIDACTION_ACC: 37.060%\n",
      "Epoch 31, CIFAR-10 Batch 1:  LOSS: 1.723 TEST_ACC: 36.486% VALIDACTION_ACC: 37.760%\n",
      "Epoch 32, CIFAR-10 Batch 1:  LOSS: 1.719 TEST_ACC: 36.149% VALIDACTION_ACC: 38.000%\n",
      "Epoch 33, CIFAR-10 Batch 1:  LOSS: 1.728 TEST_ACC: 36.824% VALIDACTION_ACC: 37.680%\n",
      "Epoch 34, CIFAR-10 Batch 1:  LOSS: 1.689 TEST_ACC: 37.500% VALIDACTION_ACC: 38.620%\n",
      "Epoch 35, CIFAR-10 Batch 1:  LOSS: 1.688 TEST_ACC: 34.459% VALIDACTION_ACC: 38.860%\n",
      "Epoch 36, CIFAR-10 Batch 1:  LOSS: 1.653 TEST_ACC: 40.878% VALIDACTION_ACC: 39.900%\n",
      "Epoch 37, CIFAR-10 Batch 1:  LOSS: 1.678 TEST_ACC: 36.486% VALIDACTION_ACC: 39.460%\n",
      "Epoch 38, CIFAR-10 Batch 1:  LOSS: 1.660 TEST_ACC: 38.176% VALIDACTION_ACC: 38.700%\n",
      "Epoch 39, CIFAR-10 Batch 1:  LOSS: 1.628 TEST_ACC: 36.486% VALIDACTION_ACC: 40.140%\n",
      "Epoch 40, CIFAR-10 Batch 1:  LOSS: 1.642 TEST_ACC: 39.527% VALIDACTION_ACC: 40.560%\n",
      "Epoch 41, CIFAR-10 Batch 1:  LOSS: 1.660 TEST_ACC: 39.527% VALIDACTION_ACC: 40.480%\n",
      "Epoch 42, CIFAR-10 Batch 1:  LOSS: 1.674 TEST_ACC: 40.878% VALIDACTION_ACC: 40.500%\n",
      "Epoch 43, CIFAR-10 Batch 1:  LOSS: 1.609 TEST_ACC: 41.554% VALIDACTION_ACC: 41.460%\n",
      "Epoch 44, CIFAR-10 Batch 1:  LOSS: 1.588 TEST_ACC: 41.892% VALIDACTION_ACC: 42.140%\n",
      "Epoch 45, CIFAR-10 Batch 1:  LOSS: 1.620 TEST_ACC: 43.919% VALIDACTION_ACC: 42.040%\n",
      "Epoch 46, CIFAR-10 Batch 1:  LOSS: 1.601 TEST_ACC: 43.581% VALIDACTION_ACC: 42.620%\n",
      "Epoch 47, CIFAR-10 Batch 1:  LOSS: 1.583 TEST_ACC: 44.932% VALIDACTION_ACC: 43.460%\n",
      "Epoch 48, CIFAR-10 Batch 1:  LOSS: 1.640 TEST_ACC: 41.554% VALIDACTION_ACC: 41.840%\n",
      "Epoch 49, CIFAR-10 Batch 1:  LOSS: 1.541 TEST_ACC: 44.257% VALIDACTION_ACC: 43.220%\n",
      "Epoch 50, CIFAR-10 Batch 1:  LOSS: 1.575 TEST_ACC: 42.905% VALIDACTION_ACC: 42.820%\n",
      "Epoch 51, CIFAR-10 Batch 1:  LOSS: 1.573 TEST_ACC: 43.581% VALIDACTION_ACC: 42.900%\n",
      "Epoch 52, CIFAR-10 Batch 1:  LOSS: 1.524 TEST_ACC: 46.959% VALIDACTION_ACC: 45.140%\n",
      "Epoch 53, CIFAR-10 Batch 1:  LOSS: 1.537 TEST_ACC: 43.243% VALIDACTION_ACC: 43.960%\n",
      "Epoch 54, CIFAR-10 Batch 1:  LOSS: 1.574 TEST_ACC: 43.919% VALIDACTION_ACC: 43.100%\n",
      "Epoch 55, CIFAR-10 Batch 1:  LOSS: 1.500 TEST_ACC: 44.595% VALIDACTION_ACC: 46.000%\n",
      "Epoch 56, CIFAR-10 Batch 1:  LOSS: 1.541 TEST_ACC: 45.946% VALIDACTION_ACC: 44.780%\n",
      "Epoch 57, CIFAR-10 Batch 1:  LOSS: 1.503 TEST_ACC: 44.257% VALIDACTION_ACC: 44.740%\n",
      "Epoch 58, CIFAR-10 Batch 1:  LOSS: 1.491 TEST_ACC: 47.297% VALIDACTION_ACC: 45.580%\n",
      "Epoch 59, CIFAR-10 Batch 1:  LOSS: 1.507 TEST_ACC: 47.297% VALIDACTION_ACC: 45.180%\n",
      "Epoch 60, CIFAR-10 Batch 1:  LOSS: 1.538 TEST_ACC: 42.905% VALIDACTION_ACC: 44.460%\n"
     ]
    }
   ],
   "source": [
    "\"\"\"\n",
    "DON'T MODIFY ANYTHING IN THIS CELL\n",
    "\"\"\"\n",
    "\n",
    "print('Checking the Training on a Single Batch...')\n",
    "with tf.Session() as sess:\n",
    "    # Initializing the variables\n",
    "    sess.run(tf.global_variables_initializer())\n",
    "    \n",
    "    # Training cycle\n",
    "    for epoch in range(epochs):\n",
    "        batch_i = 1\n",
    "        for batch_features, batch_labels in helper.load_preprocess_training_batch(batch_i, batch_size):\n",
    "            train_neural_network(sess, optimizer, keep_probability, batch_features, batch_labels)\n",
    "        print('Epoch {:>2}, CIFAR-10 Batch {}:  '.format(epoch + 1, batch_i), end='')\n",
    "        print_stats(sess, batch_features, batch_labels, cost, accuracy)"
   ]
  },
  {
   "cell_type": "markdown",
   "metadata": {
    "deletable": true,
    "editable": true
   },
   "source": [
    "### Fully Train the Model\n",
    "Now that you got a good accuracy with a single CIFAR-10 batch, try it with all five batches."
   ]
  },
  {
   "cell_type": "code",
   "execution_count": 19,
   "metadata": {
    "collapsed": false,
    "deletable": true,
    "editable": true
   },
   "outputs": [
    {
     "name": "stdout",
     "output_type": "stream",
     "text": [
      "Training...\n",
      "Epoch  1, CIFAR-10 Batch 1:  LOSS: 2.302 TEST_ACC: 15.541% VALIDACTION_ACC: 10.400%\n",
      "Epoch  1, CIFAR-10 Batch 2:  LOSS: 2.301 TEST_ACC: 10.135% VALIDACTION_ACC: 9.700%\n",
      "Epoch  1, CIFAR-10 Batch 3:  LOSS: 2.298 TEST_ACC: 12.500% VALIDACTION_ACC: 11.160%\n",
      "Epoch  1, CIFAR-10 Batch 4:  LOSS: 2.286 TEST_ACC: 9.459% VALIDACTION_ACC: 10.060%\n",
      "Epoch  1, CIFAR-10 Batch 5:  LOSS: 2.223 TEST_ACC: 10.811% VALIDACTION_ACC: 10.880%\n",
      "Epoch  2, CIFAR-10 Batch 1:  LOSS: 2.199 TEST_ACC: 18.581% VALIDACTION_ACC: 17.120%\n",
      "Epoch  2, CIFAR-10 Batch 2:  LOSS: 2.175 TEST_ACC: 23.649% VALIDACTION_ACC: 19.860%\n",
      "Epoch  2, CIFAR-10 Batch 3:  LOSS: 2.063 TEST_ACC: 21.959% VALIDACTION_ACC: 21.140%\n",
      "Epoch  2, CIFAR-10 Batch 4:  LOSS: 2.078 TEST_ACC: 23.649% VALIDACTION_ACC: 22.600%\n",
      "Epoch  2, CIFAR-10 Batch 5:  LOSS: 1.993 TEST_ACC: 27.027% VALIDACTION_ACC: 23.580%\n",
      "Epoch  3, CIFAR-10 Batch 1:  LOSS: 2.066 TEST_ACC: 20.608% VALIDACTION_ACC: 22.860%\n",
      "Epoch  3, CIFAR-10 Batch 2:  LOSS: 2.124 TEST_ACC: 18.581% VALIDACTION_ACC: 21.640%\n",
      "Epoch  3, CIFAR-10 Batch 3:  LOSS: 2.043 TEST_ACC: 20.946% VALIDACTION_ACC: 21.780%\n",
      "Epoch  3, CIFAR-10 Batch 4:  LOSS: 1.854 TEST_ACC: 32.432% VALIDACTION_ACC: 29.120%\n",
      "Epoch  3, CIFAR-10 Batch 5:  LOSS: 1.934 TEST_ACC: 29.054% VALIDACTION_ACC: 26.080%\n",
      "Epoch  4, CIFAR-10 Batch 1:  LOSS: 1.946 TEST_ACC: 26.351% VALIDACTION_ACC: 30.560%\n",
      "Epoch  4, CIFAR-10 Batch 2:  LOSS: 1.948 TEST_ACC: 29.054% VALIDACTION_ACC: 27.040%\n",
      "Epoch  4, CIFAR-10 Batch 3:  LOSS: 1.838 TEST_ACC: 35.811% VALIDACTION_ACC: 30.140%\n",
      "Epoch  4, CIFAR-10 Batch 4:  LOSS: 1.823 TEST_ACC: 35.811% VALIDACTION_ACC: 30.720%\n",
      "Epoch  4, CIFAR-10 Batch 5:  LOSS: 1.827 TEST_ACC: 35.135% VALIDACTION_ACC: 31.160%\n",
      "Epoch  5, CIFAR-10 Batch 1:  LOSS: 1.903 TEST_ACC: 31.757% VALIDACTION_ACC: 32.100%\n",
      "Epoch  5, CIFAR-10 Batch 2:  LOSS: 1.850 TEST_ACC: 31.419% VALIDACTION_ACC: 32.400%\n",
      "Epoch  5, CIFAR-10 Batch 3:  LOSS: 1.759 TEST_ACC: 38.851% VALIDACTION_ACC: 34.360%\n",
      "Epoch  5, CIFAR-10 Batch 4:  LOSS: 1.765 TEST_ACC: 35.811% VALIDACTION_ACC: 33.860%\n",
      "Epoch  5, CIFAR-10 Batch 5:  LOSS: 1.761 TEST_ACC: 37.162% VALIDACTION_ACC: 33.620%\n",
      "Epoch  6, CIFAR-10 Batch 1:  LOSS: 1.819 TEST_ACC: 35.135% VALIDACTION_ACC: 36.280%\n",
      "Epoch  6, CIFAR-10 Batch 2:  LOSS: 1.770 TEST_ACC: 33.108% VALIDACTION_ACC: 34.840%\n",
      "Epoch  6, CIFAR-10 Batch 3:  LOSS: 1.676 TEST_ACC: 40.203% VALIDACTION_ACC: 37.040%\n",
      "Epoch  6, CIFAR-10 Batch 4:  LOSS: 1.643 TEST_ACC: 39.865% VALIDACTION_ACC: 38.920%\n",
      "Epoch  6, CIFAR-10 Batch 5:  LOSS: 1.725 TEST_ACC: 40.878% VALIDACTION_ACC: 35.140%\n",
      "Epoch  7, CIFAR-10 Batch 1:  LOSS: 1.790 TEST_ACC: 39.527% VALIDACTION_ACC: 39.280%\n",
      "Epoch  7, CIFAR-10 Batch 2:  LOSS: 1.734 TEST_ACC: 35.811% VALIDACTION_ACC: 36.960%\n",
      "Epoch  7, CIFAR-10 Batch 3:  LOSS: 1.615 TEST_ACC: 42.568% VALIDACTION_ACC: 38.640%\n",
      "Epoch  7, CIFAR-10 Batch 4:  LOSS: 1.611 TEST_ACC: 41.554% VALIDACTION_ACC: 40.140%\n",
      "Epoch  7, CIFAR-10 Batch 5:  LOSS: 1.677 TEST_ACC: 41.216% VALIDACTION_ACC: 38.040%\n",
      "Epoch  8, CIFAR-10 Batch 1:  LOSS: 1.717 TEST_ACC: 41.216% VALIDACTION_ACC: 41.800%\n",
      "Epoch  8, CIFAR-10 Batch 2:  LOSS: 1.669 TEST_ACC: 38.851% VALIDACTION_ACC: 39.400%\n",
      "Epoch  8, CIFAR-10 Batch 3:  LOSS: 1.523 TEST_ACC: 45.946% VALIDACTION_ACC: 42.020%\n",
      "Epoch  8, CIFAR-10 Batch 4:  LOSS: 1.534 TEST_ACC: 46.622% VALIDACTION_ACC: 42.800%\n",
      "Epoch  8, CIFAR-10 Batch 5:  LOSS: 1.636 TEST_ACC: 42.905% VALIDACTION_ACC: 39.380%\n",
      "Epoch  9, CIFAR-10 Batch 1:  LOSS: 1.666 TEST_ACC: 43.243% VALIDACTION_ACC: 44.220%\n",
      "Epoch  9, CIFAR-10 Batch 2:  LOSS: 1.611 TEST_ACC: 42.905% VALIDACTION_ACC: 41.740%\n",
      "Epoch  9, CIFAR-10 Batch 3:  LOSS: 1.464 TEST_ACC: 50.000% VALIDACTION_ACC: 43.620%\n",
      "Epoch  9, CIFAR-10 Batch 4:  LOSS: 1.458 TEST_ACC: 47.635% VALIDACTION_ACC: 43.300%\n",
      "Epoch  9, CIFAR-10 Batch 5:  LOSS: 1.569 TEST_ACC: 43.581% VALIDACTION_ACC: 41.440%\n",
      "Epoch 10, CIFAR-10 Batch 1:  LOSS: 1.610 TEST_ACC: 44.257% VALIDACTION_ACC: 44.980%\n",
      "Epoch 10, CIFAR-10 Batch 2:  LOSS: 1.582 TEST_ACC: 41.216% VALIDACTION_ACC: 43.340%\n",
      "Epoch 10, CIFAR-10 Batch 3:  LOSS: 1.448 TEST_ACC: 48.986% VALIDACTION_ACC: 44.140%\n",
      "Epoch 10, CIFAR-10 Batch 4:  LOSS: 1.442 TEST_ACC: 49.662% VALIDACTION_ACC: 43.980%\n",
      "Epoch 10, CIFAR-10 Batch 5:  LOSS: 1.503 TEST_ACC: 44.932% VALIDACTION_ACC: 43.080%\n",
      "Epoch 11, CIFAR-10 Batch 1:  LOSS: 1.593 TEST_ACC: 43.919% VALIDACTION_ACC: 45.740%\n",
      "Epoch 11, CIFAR-10 Batch 2:  LOSS: 1.548 TEST_ACC: 43.243% VALIDACTION_ACC: 45.100%\n",
      "Epoch 11, CIFAR-10 Batch 3:  LOSS: 1.407 TEST_ACC: 50.676% VALIDACTION_ACC: 44.920%\n",
      "Epoch 11, CIFAR-10 Batch 4:  LOSS: 1.389 TEST_ACC: 51.014% VALIDACTION_ACC: 45.720%\n",
      "Epoch 11, CIFAR-10 Batch 5:  LOSS: 1.482 TEST_ACC: 46.959% VALIDACTION_ACC: 44.240%\n",
      "Epoch 12, CIFAR-10 Batch 1:  LOSS: 1.604 TEST_ACC: 41.216% VALIDACTION_ACC: 45.640%\n",
      "Epoch 12, CIFAR-10 Batch 2:  LOSS: 1.524 TEST_ACC: 43.581% VALIDACTION_ACC: 45.980%\n",
      "Epoch 12, CIFAR-10 Batch 3:  LOSS: 1.379 TEST_ACC: 49.662% VALIDACTION_ACC: 46.300%\n",
      "Epoch 12, CIFAR-10 Batch 4:  LOSS: 1.401 TEST_ACC: 49.324% VALIDACTION_ACC: 44.980%\n",
      "Epoch 12, CIFAR-10 Batch 5:  LOSS: 1.447 TEST_ACC: 47.297% VALIDACTION_ACC: 45.760%\n",
      "Epoch 13, CIFAR-10 Batch 1:  LOSS: 1.580 TEST_ACC: 42.905% VALIDACTION_ACC: 46.500%\n",
      "Epoch 13, CIFAR-10 Batch 2:  LOSS: 1.470 TEST_ACC: 45.608% VALIDACTION_ACC: 47.060%\n",
      "Epoch 13, CIFAR-10 Batch 3:  LOSS: 1.362 TEST_ACC: 52.365% VALIDACTION_ACC: 47.040%\n",
      "Epoch 13, CIFAR-10 Batch 4:  LOSS: 1.353 TEST_ACC: 52.703% VALIDACTION_ACC: 47.040%\n",
      "Epoch 13, CIFAR-10 Batch 5:  LOSS: 1.512 TEST_ACC: 46.284% VALIDACTION_ACC: 43.920%\n",
      "Epoch 14, CIFAR-10 Batch 1:  LOSS: 1.580 TEST_ACC: 42.568% VALIDACTION_ACC: 47.460%\n",
      "Epoch 14, CIFAR-10 Batch 2:  LOSS: 1.478 TEST_ACC: 44.257% VALIDACTION_ACC: 47.920%\n",
      "Epoch 14, CIFAR-10 Batch 3:  LOSS: 1.360 TEST_ACC: 48.649% VALIDACTION_ACC: 46.220%\n",
      "Epoch 14, CIFAR-10 Batch 4:  LOSS: 1.392 TEST_ACC: 51.351% VALIDACTION_ACC: 47.160%\n",
      "Epoch 14, CIFAR-10 Batch 5:  LOSS: 1.415 TEST_ACC: 49.662% VALIDACTION_ACC: 46.880%\n",
      "Epoch 15, CIFAR-10 Batch 1:  LOSS: 1.516 TEST_ACC: 47.297% VALIDACTION_ACC: 48.340%\n",
      "Epoch 15, CIFAR-10 Batch 2:  LOSS: 1.484 TEST_ACC: 45.946% VALIDACTION_ACC: 47.440%\n",
      "Epoch 15, CIFAR-10 Batch 3:  LOSS: 1.334 TEST_ACC: 51.689% VALIDACTION_ACC: 47.540%\n",
      "Epoch 15, CIFAR-10 Batch 4:  LOSS: 1.338 TEST_ACC: 53.378% VALIDACTION_ACC: 47.700%\n",
      "Epoch 15, CIFAR-10 Batch 5:  LOSS: 1.423 TEST_ACC: 49.324% VALIDACTION_ACC: 46.960%\n",
      "Epoch 16, CIFAR-10 Batch 1:  LOSS: 1.520 TEST_ACC: 44.595% VALIDACTION_ACC: 48.520%\n",
      "Epoch 16, CIFAR-10 Batch 2:  LOSS: 1.436 TEST_ACC: 47.297% VALIDACTION_ACC: 48.620%\n",
      "Epoch 16, CIFAR-10 Batch 3:  LOSS: 1.280 TEST_ACC: 54.054% VALIDACTION_ACC: 50.020%\n",
      "Epoch 16, CIFAR-10 Batch 4:  LOSS: 1.363 TEST_ACC: 49.324% VALIDACTION_ACC: 47.320%\n",
      "Epoch 16, CIFAR-10 Batch 5:  LOSS: 1.351 TEST_ACC: 54.392% VALIDACTION_ACC: 48.860%\n",
      "Epoch 17, CIFAR-10 Batch 1:  LOSS: 1.494 TEST_ACC: 47.297% VALIDACTION_ACC: 49.460%\n",
      "Epoch 17, CIFAR-10 Batch 2:  LOSS: 1.442 TEST_ACC: 47.973% VALIDACTION_ACC: 49.360%\n",
      "Epoch 17, CIFAR-10 Batch 3:  LOSS: 1.304 TEST_ACC: 54.392% VALIDACTION_ACC: 49.160%\n",
      "Epoch 17, CIFAR-10 Batch 4:  LOSS: 1.305 TEST_ACC: 52.703% VALIDACTION_ACC: 48.560%\n",
      "Epoch 17, CIFAR-10 Batch 5:  LOSS: 1.335 TEST_ACC: 53.716% VALIDACTION_ACC: 49.240%\n",
      "Epoch 18, CIFAR-10 Batch 1:  LOSS: 1.581 TEST_ACC: 43.581% VALIDACTION_ACC: 47.240%\n",
      "Epoch 18, CIFAR-10 Batch 2:  LOSS: 1.389 TEST_ACC: 50.000% VALIDACTION_ACC: 51.700%\n",
      "Epoch 18, CIFAR-10 Batch 3:  LOSS: 1.245 TEST_ACC: 54.054% VALIDACTION_ACC: 50.620%\n",
      "Epoch 18, CIFAR-10 Batch 4:  LOSS: 1.314 TEST_ACC: 53.378% VALIDACTION_ACC: 49.820%\n",
      "Epoch 18, CIFAR-10 Batch 5:  LOSS: 1.341 TEST_ACC: 51.689% VALIDACTION_ACC: 49.760%\n",
      "Epoch 19, CIFAR-10 Batch 1:  LOSS: 1.469 TEST_ACC: 46.959% VALIDACTION_ACC: 50.680%\n",
      "Epoch 19, CIFAR-10 Batch 2:  LOSS: 1.439 TEST_ACC: 48.649% VALIDACTION_ACC: 50.100%\n",
      "Epoch 19, CIFAR-10 Batch 3:  LOSS: 1.239 TEST_ACC: 56.081% VALIDACTION_ACC: 51.000%\n",
      "Epoch 19, CIFAR-10 Batch 4:  LOSS: 1.325 TEST_ACC: 50.000% VALIDACTION_ACC: 48.680%\n",
      "Epoch 19, CIFAR-10 Batch 5:  LOSS: 1.335 TEST_ACC: 53.041% VALIDACTION_ACC: 49.220%\n",
      "Epoch 20, CIFAR-10 Batch 1:  LOSS: 1.487 TEST_ACC: 48.311% VALIDACTION_ACC: 50.100%\n",
      "Epoch 20, CIFAR-10 Batch 2:  LOSS: 1.410 TEST_ACC: 49.324% VALIDACTION_ACC: 50.900%\n",
      "Epoch 20, CIFAR-10 Batch 3:  LOSS: 1.225 TEST_ACC: 55.405% VALIDACTION_ACC: 50.860%\n",
      "Epoch 20, CIFAR-10 Batch 4:  LOSS: 1.262 TEST_ACC: 56.419% VALIDACTION_ACC: 51.760%\n",
      "Epoch 20, CIFAR-10 Batch 5:  LOSS: 1.327 TEST_ACC: 51.689% VALIDACTION_ACC: 50.420%\n",
      "Epoch 21, CIFAR-10 Batch 1:  LOSS: 1.534 TEST_ACC: 46.284% VALIDACTION_ACC: 48.760%\n",
      "Epoch 21, CIFAR-10 Batch 2:  LOSS: 1.437 TEST_ACC: 47.635% VALIDACTION_ACC: 50.320%\n",
      "Epoch 21, CIFAR-10 Batch 3:  LOSS: 1.212 TEST_ACC: 54.730% VALIDACTION_ACC: 51.140%\n",
      "Epoch 21, CIFAR-10 Batch 4:  LOSS: 1.254 TEST_ACC: 55.743% VALIDACTION_ACC: 52.200%\n",
      "Epoch 21, CIFAR-10 Batch 5:  LOSS: 1.357 TEST_ACC: 52.027% VALIDACTION_ACC: 49.220%\n",
      "Epoch 22, CIFAR-10 Batch 1:  LOSS: 1.440 TEST_ACC: 50.000% VALIDACTION_ACC: 52.280%\n",
      "Epoch 22, CIFAR-10 Batch 2:  LOSS: 1.442 TEST_ACC: 48.649% VALIDACTION_ACC: 49.500%\n",
      "Epoch 22, CIFAR-10 Batch 3:  LOSS: 1.207 TEST_ACC: 55.405% VALIDACTION_ACC: 51.300%\n",
      "Epoch 22, CIFAR-10 Batch 4:  LOSS: 1.253 TEST_ACC: 55.743% VALIDACTION_ACC: 52.160%\n",
      "Epoch 22, CIFAR-10 Batch 5:  LOSS: 1.321 TEST_ACC: 52.027% VALIDACTION_ACC: 50.280%\n",
      "Epoch 23, CIFAR-10 Batch 1:  LOSS: 1.471 TEST_ACC: 48.986% VALIDACTION_ACC: 50.700%\n",
      "Epoch 23, CIFAR-10 Batch 2:  LOSS: 1.431 TEST_ACC: 48.986% VALIDACTION_ACC: 50.180%\n",
      "Epoch 23, CIFAR-10 Batch 3:  LOSS: 1.175 TEST_ACC: 56.081% VALIDACTION_ACC: 52.580%\n",
      "Epoch 23, CIFAR-10 Batch 4:  LOSS: 1.251 TEST_ACC: 55.743% VALIDACTION_ACC: 51.940%\n",
      "Epoch 23, CIFAR-10 Batch 5:  LOSS: 1.368 TEST_ACC: 52.703% VALIDACTION_ACC: 48.560%\n",
      "Epoch 24, CIFAR-10 Batch 1:  LOSS: 1.367 TEST_ACC: 53.041% VALIDACTION_ACC: 52.780%\n",
      "Epoch 24, CIFAR-10 Batch 2:  LOSS: 1.334 TEST_ACC: 51.689% VALIDACTION_ACC: 52.920%\n",
      "Epoch 24, CIFAR-10 Batch 3:  LOSS: 1.184 TEST_ACC: 55.743% VALIDACTION_ACC: 52.420%\n",
      "Epoch 24, CIFAR-10 Batch 4:  LOSS: 1.248 TEST_ACC: 56.081% VALIDACTION_ACC: 52.000%\n",
      "Epoch 24, CIFAR-10 Batch 5:  LOSS: 1.284 TEST_ACC: 55.743% VALIDACTION_ACC: 51.580%\n",
      "Epoch 25, CIFAR-10 Batch 1:  LOSS: 1.460 TEST_ACC: 47.973% VALIDACTION_ACC: 52.120%\n",
      "Epoch 25, CIFAR-10 Batch 2:  LOSS: 1.413 TEST_ACC: 48.649% VALIDACTION_ACC: 50.500%\n",
      "Epoch 25, CIFAR-10 Batch 3:  LOSS: 1.162 TEST_ACC: 56.419% VALIDACTION_ACC: 52.840%\n",
      "Epoch 25, CIFAR-10 Batch 4:  LOSS: 1.241 TEST_ACC: 55.743% VALIDACTION_ACC: 52.580%\n",
      "Epoch 25, CIFAR-10 Batch 5:  LOSS: 1.284 TEST_ACC: 54.730% VALIDACTION_ACC: 51.020%\n",
      "Epoch 26, CIFAR-10 Batch 1:  LOSS: 1.420 TEST_ACC: 49.324% VALIDACTION_ACC: 51.860%\n",
      "Epoch 26, CIFAR-10 Batch 2:  LOSS: 1.425 TEST_ACC: 47.297% VALIDACTION_ACC: 50.540%\n",
      "Epoch 26, CIFAR-10 Batch 3:  LOSS: 1.200 TEST_ACC: 54.392% VALIDACTION_ACC: 51.660%\n",
      "Epoch 26, CIFAR-10 Batch 4:  LOSS: 1.280 TEST_ACC: 54.392% VALIDACTION_ACC: 51.580%\n",
      "Epoch 26, CIFAR-10 Batch 5:  LOSS: 1.246 TEST_ACC: 56.081% VALIDACTION_ACC: 53.140%\n",
      "Epoch 27, CIFAR-10 Batch 1:  LOSS: 1.439 TEST_ACC: 51.351% VALIDACTION_ACC: 52.360%\n",
      "Epoch 27, CIFAR-10 Batch 2:  LOSS: 1.387 TEST_ACC: 48.649% VALIDACTION_ACC: 51.240%\n",
      "Epoch 27, CIFAR-10 Batch 3:  LOSS: 1.190 TEST_ACC: 54.054% VALIDACTION_ACC: 52.000%\n",
      "Epoch 27, CIFAR-10 Batch 4:  LOSS: 1.172 TEST_ACC: 59.122% VALIDACTION_ACC: 54.160%\n",
      "Epoch 27, CIFAR-10 Batch 5:  LOSS: 1.244 TEST_ACC: 55.405% VALIDACTION_ACC: 52.240%\n",
      "Epoch 28, CIFAR-10 Batch 1:  LOSS: 1.404 TEST_ACC: 51.014% VALIDACTION_ACC: 52.720%\n",
      "Epoch 28, CIFAR-10 Batch 2:  LOSS: 1.447 TEST_ACC: 47.635% VALIDACTION_ACC: 49.540%\n",
      "Epoch 28, CIFAR-10 Batch 3:  LOSS: 1.163 TEST_ACC: 58.108% VALIDACTION_ACC: 53.220%\n",
      "Epoch 28, CIFAR-10 Batch 4:  LOSS: 1.200 TEST_ACC: 56.757% VALIDACTION_ACC: 53.900%\n",
      "Epoch 28, CIFAR-10 Batch 5:  LOSS: 1.277 TEST_ACC: 56.419% VALIDACTION_ACC: 51.140%\n",
      "Epoch 29, CIFAR-10 Batch 1:  LOSS: 1.375 TEST_ACC: 52.365% VALIDACTION_ACC: 52.960%\n",
      "Epoch 29, CIFAR-10 Batch 2:  LOSS: 1.345 TEST_ACC: 51.689% VALIDACTION_ACC: 52.380%\n",
      "Epoch 29, CIFAR-10 Batch 3:  LOSS: 1.175 TEST_ACC: 56.081% VALIDACTION_ACC: 53.180%\n",
      "Epoch 29, CIFAR-10 Batch 4:  LOSS: 1.182 TEST_ACC: 57.095% VALIDACTION_ACC: 54.240%\n",
      "Epoch 29, CIFAR-10 Batch 5:  LOSS: 1.239 TEST_ACC: 55.743% VALIDACTION_ACC: 53.920%\n",
      "Epoch 30, CIFAR-10 Batch 1:  LOSS: 1.341 TEST_ACC: 53.041% VALIDACTION_ACC: 53.760%\n",
      "Epoch 30, CIFAR-10 Batch 2:  LOSS: 1.323 TEST_ACC: 52.703% VALIDACTION_ACC: 53.240%\n",
      "Epoch 30, CIFAR-10 Batch 3:  LOSS: 1.098 TEST_ACC: 60.473% VALIDACTION_ACC: 55.540%\n",
      "Epoch 30, CIFAR-10 Batch 4:  LOSS: 1.204 TEST_ACC: 57.432% VALIDACTION_ACC: 53.740%\n",
      "Epoch 30, CIFAR-10 Batch 5:  LOSS: 1.220 TEST_ACC: 56.757% VALIDACTION_ACC: 53.700%\n",
      "Epoch 31, CIFAR-10 Batch 1:  LOSS: 1.323 TEST_ACC: 55.068% VALIDACTION_ACC: 54.460%\n",
      "Epoch 31, CIFAR-10 Batch 2:  LOSS: 1.430 TEST_ACC: 48.311% VALIDACTION_ACC: 51.100%\n",
      "Epoch 31, CIFAR-10 Batch 3:  LOSS: 1.176 TEST_ACC: 53.716% VALIDACTION_ACC: 52.660%\n",
      "Epoch 31, CIFAR-10 Batch 4:  LOSS: 1.192 TEST_ACC: 57.432% VALIDACTION_ACC: 53.780%\n",
      "Epoch 31, CIFAR-10 Batch 5:  LOSS: 1.262 TEST_ACC: 56.081% VALIDACTION_ACC: 51.840%\n",
      "Epoch 32, CIFAR-10 Batch 1:  LOSS: 1.309 TEST_ACC: 54.730% VALIDACTION_ACC: 54.200%\n",
      "Epoch 32, CIFAR-10 Batch 2:  LOSS: 1.331 TEST_ACC: 50.676% VALIDACTION_ACC: 52.820%\n",
      "Epoch 32, CIFAR-10 Batch 3:  LOSS: 1.142 TEST_ACC: 58.446% VALIDACTION_ACC: 53.700%\n",
      "Epoch 32, CIFAR-10 Batch 4:  LOSS: 1.138 TEST_ACC: 60.135% VALIDACTION_ACC: 55.800%\n",
      "Epoch 32, CIFAR-10 Batch 5:  LOSS: 1.220 TEST_ACC: 57.770% VALIDACTION_ACC: 54.380%\n",
      "Epoch 33, CIFAR-10 Batch 1:  LOSS: 1.332 TEST_ACC: 54.054% VALIDACTION_ACC: 55.440%\n",
      "Epoch 33, CIFAR-10 Batch 2:  LOSS: 1.296 TEST_ACC: 51.351% VALIDACTION_ACC: 54.340%\n",
      "Epoch 33, CIFAR-10 Batch 3:  LOSS: 1.125 TEST_ACC: 58.108% VALIDACTION_ACC: 55.260%\n",
      "Epoch 33, CIFAR-10 Batch 4:  LOSS: 1.147 TEST_ACC: 58.446% VALIDACTION_ACC: 55.580%\n",
      "Epoch 33, CIFAR-10 Batch 5:  LOSS: 1.230 TEST_ACC: 55.405% VALIDACTION_ACC: 52.980%\n",
      "Epoch 34, CIFAR-10 Batch 1:  LOSS: 1.334 TEST_ACC: 53.378% VALIDACTION_ACC: 54.020%\n",
      "Epoch 34, CIFAR-10 Batch 2:  LOSS: 1.317 TEST_ACC: 51.014% VALIDACTION_ACC: 53.720%\n",
      "Epoch 34, CIFAR-10 Batch 3:  LOSS: 1.105 TEST_ACC: 59.122% VALIDACTION_ACC: 55.720%\n",
      "Epoch 34, CIFAR-10 Batch 4:  LOSS: 1.156 TEST_ACC: 58.108% VALIDACTION_ACC: 55.600%\n",
      "Epoch 34, CIFAR-10 Batch 5:  LOSS: 1.203 TEST_ACC: 58.108% VALIDACTION_ACC: 54.860%\n",
      "Epoch 35, CIFAR-10 Batch 1:  LOSS: 1.299 TEST_ACC: 54.054% VALIDACTION_ACC: 55.720%\n",
      "Epoch 35, CIFAR-10 Batch 2:  LOSS: 1.319 TEST_ACC: 50.338% VALIDACTION_ACC: 53.220%\n",
      "Epoch 35, CIFAR-10 Batch 3:  LOSS: 1.127 TEST_ACC: 58.446% VALIDACTION_ACC: 54.980%\n",
      "Epoch 35, CIFAR-10 Batch 4:  LOSS: 1.141 TEST_ACC: 58.446% VALIDACTION_ACC: 56.340%\n",
      "Epoch 35, CIFAR-10 Batch 5:  LOSS: 1.243 TEST_ACC: 56.757% VALIDACTION_ACC: 52.420%\n",
      "Epoch 36, CIFAR-10 Batch 1:  LOSS: 1.348 TEST_ACC: 52.027% VALIDACTION_ACC: 54.120%\n",
      "Epoch 36, CIFAR-10 Batch 2:  LOSS: 1.352 TEST_ACC: 50.676% VALIDACTION_ACC: 52.360%\n",
      "Epoch 36, CIFAR-10 Batch 3:  LOSS: 1.117 TEST_ACC: 58.446% VALIDACTION_ACC: 55.080%\n",
      "Epoch 36, CIFAR-10 Batch 4:  LOSS: 1.140 TEST_ACC: 59.797% VALIDACTION_ACC: 55.660%\n",
      "Epoch 36, CIFAR-10 Batch 5:  LOSS: 1.198 TEST_ACC: 56.419% VALIDACTION_ACC: 54.520%\n",
      "Epoch 37, CIFAR-10 Batch 1:  LOSS: 1.264 TEST_ACC: 55.068% VALIDACTION_ACC: 55.860%\n",
      "Epoch 37, CIFAR-10 Batch 2:  LOSS: 1.288 TEST_ACC: 52.027% VALIDACTION_ACC: 54.260%\n",
      "Epoch 37, CIFAR-10 Batch 3:  LOSS: 1.089 TEST_ACC: 60.811% VALIDACTION_ACC: 55.920%\n",
      "Epoch 37, CIFAR-10 Batch 4:  LOSS: 1.147 TEST_ACC: 58.784% VALIDACTION_ACC: 55.900%\n",
      "Epoch 37, CIFAR-10 Batch 5:  LOSS: 1.170 TEST_ACC: 60.473% VALIDACTION_ACC: 56.160%\n",
      "Epoch 38, CIFAR-10 Batch 1:  LOSS: 1.287 TEST_ACC: 56.081% VALIDACTION_ACC: 56.500%\n",
      "Epoch 38, CIFAR-10 Batch 2:  LOSS: 1.220 TEST_ACC: 55.405% VALIDACTION_ACC: 56.860%\n",
      "Epoch 38, CIFAR-10 Batch 3:  LOSS: 1.053 TEST_ACC: 62.838% VALIDACTION_ACC: 56.520%\n",
      "Epoch 38, CIFAR-10 Batch 4:  LOSS: 1.181 TEST_ACC: 57.432% VALIDACTION_ACC: 54.480%\n",
      "Epoch 38, CIFAR-10 Batch 5:  LOSS: 1.230 TEST_ACC: 56.081% VALIDACTION_ACC: 53.820%\n",
      "Epoch 39, CIFAR-10 Batch 1:  LOSS: 1.337 TEST_ACC: 53.716% VALIDACTION_ACC: 55.080%\n",
      "Epoch 39, CIFAR-10 Batch 2:  LOSS: 1.244 TEST_ACC: 53.041% VALIDACTION_ACC: 56.200%\n",
      "Epoch 39, CIFAR-10 Batch 3:  LOSS: 1.074 TEST_ACC: 59.797% VALIDACTION_ACC: 56.020%\n",
      "Epoch 39, CIFAR-10 Batch 4:  LOSS: 1.130 TEST_ACC: 57.770% VALIDACTION_ACC: 56.320%\n",
      "Epoch 39, CIFAR-10 Batch 5:  LOSS: 1.160 TEST_ACC: 59.797% VALIDACTION_ACC: 56.100%\n",
      "Epoch 40, CIFAR-10 Batch 1:  LOSS: 1.310 TEST_ACC: 53.041% VALIDACTION_ACC: 56.540%\n",
      "Epoch 40, CIFAR-10 Batch 2:  LOSS: 1.362 TEST_ACC: 50.676% VALIDACTION_ACC: 52.300%\n",
      "Epoch 40, CIFAR-10 Batch 3:  LOSS: 1.102 TEST_ACC: 59.459% VALIDACTION_ACC: 55.100%\n",
      "Epoch 40, CIFAR-10 Batch 4:  LOSS: 1.155 TEST_ACC: 57.770% VALIDACTION_ACC: 54.760%\n",
      "Epoch 40, CIFAR-10 Batch 5:  LOSS: 1.187 TEST_ACC: 59.122% VALIDACTION_ACC: 54.880%\n",
      "Epoch 41, CIFAR-10 Batch 1:  LOSS: 1.264 TEST_ACC: 56.419% VALIDACTION_ACC: 55.880%\n",
      "Epoch 41, CIFAR-10 Batch 2:  LOSS: 1.229 TEST_ACC: 54.392% VALIDACTION_ACC: 56.360%\n",
      "Epoch 41, CIFAR-10 Batch 3:  LOSS: 1.074 TEST_ACC: 58.108% VALIDACTION_ACC: 56.560%\n",
      "Epoch 41, CIFAR-10 Batch 4:  LOSS: 1.113 TEST_ACC: 60.811% VALIDACTION_ACC: 57.140%\n",
      "Epoch 41, CIFAR-10 Batch 5:  LOSS: 1.146 TEST_ACC: 60.473% VALIDACTION_ACC: 56.760%\n",
      "Epoch 42, CIFAR-10 Batch 1:  LOSS: 1.311 TEST_ACC: 53.716% VALIDACTION_ACC: 55.000%\n",
      "Epoch 42, CIFAR-10 Batch 2:  LOSS: 1.273 TEST_ACC: 51.689% VALIDACTION_ACC: 54.940%\n",
      "Epoch 42, CIFAR-10 Batch 3:  LOSS: 1.082 TEST_ACC: 60.811% VALIDACTION_ACC: 55.820%\n",
      "Epoch 42, CIFAR-10 Batch 4:  LOSS: 1.117 TEST_ACC: 62.162% VALIDACTION_ACC: 56.860%\n",
      "Epoch 42, CIFAR-10 Batch 5:  LOSS: 1.175 TEST_ACC: 60.473% VALIDACTION_ACC: 55.820%\n",
      "Epoch 43, CIFAR-10 Batch 1:  LOSS: 1.293 TEST_ACC: 55.405% VALIDACTION_ACC: 57.500%\n",
      "Epoch 43, CIFAR-10 Batch 2:  LOSS: 1.261 TEST_ACC: 54.054% VALIDACTION_ACC: 55.520%\n",
      "Epoch 43, CIFAR-10 Batch 3:  LOSS: 1.060 TEST_ACC: 61.486% VALIDACTION_ACC: 57.620%\n",
      "Epoch 43, CIFAR-10 Batch 4:  LOSS: 1.091 TEST_ACC: 61.486% VALIDACTION_ACC: 57.640%\n",
      "Epoch 43, CIFAR-10 Batch 5:  LOSS: 1.140 TEST_ACC: 61.149% VALIDACTION_ACC: 57.320%\n",
      "Epoch 44, CIFAR-10 Batch 1:  LOSS: 1.241 TEST_ACC: 56.419% VALIDACTION_ACC: 56.500%\n",
      "Epoch 44, CIFAR-10 Batch 2:  LOSS: 1.241 TEST_ACC: 55.743% VALIDACTION_ACC: 56.500%\n",
      "Epoch 44, CIFAR-10 Batch 3:  LOSS: 1.089 TEST_ACC: 59.459% VALIDACTION_ACC: 56.080%\n",
      "Epoch 44, CIFAR-10 Batch 4:  LOSS: 1.105 TEST_ACC: 62.162% VALIDACTION_ACC: 57.640%\n",
      "Epoch 44, CIFAR-10 Batch 5:  LOSS: 1.160 TEST_ACC: 64.527% VALIDACTION_ACC: 56.280%\n",
      "Epoch 45, CIFAR-10 Batch 1:  LOSS: 1.230 TEST_ACC: 58.784% VALIDACTION_ACC: 57.300%\n",
      "Epoch 45, CIFAR-10 Batch 2:  LOSS: 1.185 TEST_ACC: 59.122% VALIDACTION_ACC: 58.080%\n",
      "Epoch 45, CIFAR-10 Batch 3:  LOSS: 1.047 TEST_ACC: 62.838% VALIDACTION_ACC: 58.340%\n",
      "Epoch 45, CIFAR-10 Batch 4:  LOSS: 1.058 TEST_ACC: 63.514% VALIDACTION_ACC: 58.500%\n",
      "Epoch 45, CIFAR-10 Batch 5:  LOSS: 1.140 TEST_ACC: 62.162% VALIDACTION_ACC: 56.880%\n",
      "Epoch 46, CIFAR-10 Batch 1:  LOSS: 1.211 TEST_ACC: 60.135% VALIDACTION_ACC: 59.060%\n",
      "Epoch 46, CIFAR-10 Batch 2:  LOSS: 1.204 TEST_ACC: 55.743% VALIDACTION_ACC: 56.760%\n",
      "Epoch 46, CIFAR-10 Batch 3:  LOSS: 1.033 TEST_ACC: 62.500% VALIDACTION_ACC: 57.940%\n",
      "Epoch 46, CIFAR-10 Batch 4:  LOSS: 1.078 TEST_ACC: 61.149% VALIDACTION_ACC: 58.020%\n",
      "Epoch 46, CIFAR-10 Batch 5:  LOSS: 1.129 TEST_ACC: 62.162% VALIDACTION_ACC: 56.960%\n",
      "Epoch 47, CIFAR-10 Batch 1:  LOSS: 1.234 TEST_ACC: 56.419% VALIDACTION_ACC: 58.320%\n",
      "Epoch 47, CIFAR-10 Batch 2:  LOSS: 1.252 TEST_ACC: 54.730% VALIDACTION_ACC: 55.380%\n",
      "Epoch 47, CIFAR-10 Batch 3:  LOSS: 1.053 TEST_ACC: 61.824% VALIDACTION_ACC: 57.980%\n",
      "Epoch 47, CIFAR-10 Batch 4:  LOSS: 1.033 TEST_ACC: 66.216% VALIDACTION_ACC: 58.800%\n",
      "Epoch 47, CIFAR-10 Batch 5:  LOSS: 1.147 TEST_ACC: 60.473% VALIDACTION_ACC: 56.420%\n",
      "Epoch 48, CIFAR-10 Batch 1:  LOSS: 1.229 TEST_ACC: 54.730% VALIDACTION_ACC: 57.340%\n",
      "Epoch 48, CIFAR-10 Batch 2:  LOSS: 1.263 TEST_ACC: 53.378% VALIDACTION_ACC: 55.920%\n",
      "Epoch 48, CIFAR-10 Batch 3:  LOSS: 1.082 TEST_ACC: 59.797% VALIDACTION_ACC: 56.480%\n",
      "Epoch 48, CIFAR-10 Batch 4:  LOSS: 1.092 TEST_ACC: 62.500% VALIDACTION_ACC: 56.540%\n",
      "Epoch 48, CIFAR-10 Batch 5:  LOSS: 1.131 TEST_ACC: 61.486% VALIDACTION_ACC: 56.980%\n",
      "Epoch 49, CIFAR-10 Batch 1:  LOSS: 1.250 TEST_ACC: 55.743% VALIDACTION_ACC: 58.220%\n",
      "Epoch 49, CIFAR-10 Batch 2:  LOSS: 1.266 TEST_ACC: 54.054% VALIDACTION_ACC: 55.420%\n",
      "Epoch 49, CIFAR-10 Batch 3:  LOSS: 1.054 TEST_ACC: 60.473% VALIDACTION_ACC: 56.860%\n",
      "Epoch 49, CIFAR-10 Batch 4:  LOSS: 1.086 TEST_ACC: 60.811% VALIDACTION_ACC: 57.860%\n",
      "Epoch 49, CIFAR-10 Batch 5:  LOSS: 1.128 TEST_ACC: 62.838% VALIDACTION_ACC: 57.280%\n",
      "Epoch 50, CIFAR-10 Batch 1:  LOSS: 1.243 TEST_ACC: 56.757% VALIDACTION_ACC: 56.800%\n",
      "Epoch 50, CIFAR-10 Batch 2:  LOSS: 1.156 TEST_ACC: 58.446% VALIDACTION_ACC: 59.400%\n",
      "Epoch 50, CIFAR-10 Batch 3:  LOSS: 1.021 TEST_ACC: 63.176% VALIDACTION_ACC: 59.080%\n",
      "Epoch 50, CIFAR-10 Batch 4:  LOSS: 1.097 TEST_ACC: 60.473% VALIDACTION_ACC: 57.920%\n",
      "Epoch 50, CIFAR-10 Batch 5:  LOSS: 1.090 TEST_ACC: 62.500% VALIDACTION_ACC: 58.400%\n",
      "Epoch 51, CIFAR-10 Batch 1:  LOSS: 1.171 TEST_ACC: 59.459% VALIDACTION_ACC: 58.600%\n",
      "Epoch 51, CIFAR-10 Batch 2:  LOSS: 1.184 TEST_ACC: 57.095% VALIDACTION_ACC: 57.280%\n",
      "Epoch 51, CIFAR-10 Batch 3:  LOSS: 1.083 TEST_ACC: 58.446% VALIDACTION_ACC: 56.500%\n",
      "Epoch 51, CIFAR-10 Batch 4:  LOSS: 1.068 TEST_ACC: 62.838% VALIDACTION_ACC: 57.680%\n",
      "Epoch 51, CIFAR-10 Batch 5:  LOSS: 1.092 TEST_ACC: 63.514% VALIDACTION_ACC: 58.720%\n",
      "Epoch 52, CIFAR-10 Batch 1:  LOSS: 1.194 TEST_ACC: 58.108% VALIDACTION_ACC: 58.440%\n",
      "Epoch 52, CIFAR-10 Batch 2:  LOSS: 1.165 TEST_ACC: 58.108% VALIDACTION_ACC: 57.940%\n",
      "Epoch 52, CIFAR-10 Batch 3:  LOSS: 1.046 TEST_ACC: 61.824% VALIDACTION_ACC: 57.640%\n",
      "Epoch 52, CIFAR-10 Batch 4:  LOSS: 1.048 TEST_ACC: 63.176% VALIDACTION_ACC: 58.680%\n",
      "Epoch 52, CIFAR-10 Batch 5:  LOSS: 1.104 TEST_ACC: 63.176% VALIDACTION_ACC: 57.900%\n",
      "Epoch 53, CIFAR-10 Batch 1:  LOSS: 1.216 TEST_ACC: 60.811% VALIDACTION_ACC: 57.520%\n",
      "Epoch 53, CIFAR-10 Batch 2:  LOSS: 1.190 TEST_ACC: 56.419% VALIDACTION_ACC: 58.240%\n",
      "Epoch 53, CIFAR-10 Batch 3:  LOSS: 1.033 TEST_ACC: 61.486% VALIDACTION_ACC: 58.040%\n",
      "Epoch 53, CIFAR-10 Batch 4:  LOSS: 1.086 TEST_ACC: 62.162% VALIDACTION_ACC: 58.340%\n",
      "Epoch 53, CIFAR-10 Batch 5:  LOSS: 1.121 TEST_ACC: 61.824% VALIDACTION_ACC: 56.960%\n",
      "Epoch 54, CIFAR-10 Batch 1:  LOSS: 1.181 TEST_ACC: 60.811% VALIDACTION_ACC: 59.320%\n",
      "Epoch 54, CIFAR-10 Batch 2:  LOSS: 1.159 TEST_ACC: 55.743% VALIDACTION_ACC: 58.620%\n",
      "Epoch 54, CIFAR-10 Batch 3:  LOSS: 1.040 TEST_ACC: 62.162% VALIDACTION_ACC: 58.000%\n",
      "Epoch 54, CIFAR-10 Batch 4:  LOSS: 1.039 TEST_ACC: 63.176% VALIDACTION_ACC: 59.360%\n",
      "Epoch 54, CIFAR-10 Batch 5:  LOSS: 1.104 TEST_ACC: 61.824% VALIDACTION_ACC: 57.820%\n",
      "Epoch 55, CIFAR-10 Batch 1:  LOSS: 1.233 TEST_ACC: 56.757% VALIDACTION_ACC: 58.080%\n",
      "Epoch 55, CIFAR-10 Batch 2:  LOSS: 1.144 TEST_ACC: 59.459% VALIDACTION_ACC: 58.960%\n",
      "Epoch 55, CIFAR-10 Batch 3:  LOSS: 1.029 TEST_ACC: 61.824% VALIDACTION_ACC: 58.660%\n",
      "Epoch 55, CIFAR-10 Batch 4:  LOSS: 1.057 TEST_ACC: 61.824% VALIDACTION_ACC: 58.560%\n",
      "Epoch 55, CIFAR-10 Batch 5:  LOSS: 1.126 TEST_ACC: 62.162% VALIDACTION_ACC: 57.560%\n",
      "Epoch 56, CIFAR-10 Batch 1:  LOSS: 1.214 TEST_ACC: 57.432% VALIDACTION_ACC: 58.380%\n",
      "Epoch 56, CIFAR-10 Batch 2:  LOSS: 1.151 TEST_ACC: 59.122% VALIDACTION_ACC: 59.300%\n",
      "Epoch 56, CIFAR-10 Batch 3:  LOSS: 1.018 TEST_ACC: 64.189% VALIDACTION_ACC: 58.860%\n",
      "Epoch 56, CIFAR-10 Batch 4:  LOSS: 1.021 TEST_ACC: 65.878% VALIDACTION_ACC: 59.520%\n",
      "Epoch 56, CIFAR-10 Batch 5:  LOSS: 1.093 TEST_ACC: 62.838% VALIDACTION_ACC: 58.240%\n",
      "Epoch 57, CIFAR-10 Batch 1:  LOSS: 1.225 TEST_ACC: 55.743% VALIDACTION_ACC: 57.900%\n",
      "Epoch 57, CIFAR-10 Batch 2:  LOSS: 1.194 TEST_ACC: 56.419% VALIDACTION_ACC: 57.880%\n",
      "Epoch 57, CIFAR-10 Batch 3:  LOSS: 1.062 TEST_ACC: 59.459% VALIDACTION_ACC: 57.000%\n",
      "Epoch 57, CIFAR-10 Batch 4:  LOSS: 1.118 TEST_ACC: 60.473% VALIDACTION_ACC: 57.300%\n",
      "Epoch 57, CIFAR-10 Batch 5:  LOSS: 1.088 TEST_ACC: 63.176% VALIDACTION_ACC: 58.920%\n",
      "Epoch 58, CIFAR-10 Batch 1:  LOSS: 1.226 TEST_ACC: 56.757% VALIDACTION_ACC: 59.080%\n",
      "Epoch 58, CIFAR-10 Batch 2:  LOSS: 1.138 TEST_ACC: 58.108% VALIDACTION_ACC: 59.180%\n",
      "Epoch 58, CIFAR-10 Batch 3:  LOSS: 1.023 TEST_ACC: 62.500% VALIDACTION_ACC: 58.460%\n",
      "Epoch 58, CIFAR-10 Batch 4:  LOSS: 1.073 TEST_ACC: 62.838% VALIDACTION_ACC: 58.540%\n",
      "Epoch 58, CIFAR-10 Batch 5:  LOSS: 1.078 TEST_ACC: 61.486% VALIDACTION_ACC: 59.020%\n",
      "Epoch 59, CIFAR-10 Batch 1:  LOSS: 1.144 TEST_ACC: 61.149% VALIDACTION_ACC: 60.400%\n",
      "Epoch 59, CIFAR-10 Batch 2:  LOSS: 1.143 TEST_ACC: 60.473% VALIDACTION_ACC: 59.300%\n",
      "Epoch 59, CIFAR-10 Batch 3:  LOSS: 1.004 TEST_ACC: 63.514% VALIDACTION_ACC: 59.900%\n",
      "Epoch 59, CIFAR-10 Batch 4:  LOSS: 1.029 TEST_ACC: 62.500% VALIDACTION_ACC: 59.220%\n",
      "Epoch 59, CIFAR-10 Batch 5:  LOSS: 1.078 TEST_ACC: 62.838% VALIDACTION_ACC: 59.240%\n",
      "Epoch 60, CIFAR-10 Batch 1:  LOSS: 1.182 TEST_ACC: 58.446% VALIDACTION_ACC: 59.580%\n",
      "Epoch 60, CIFAR-10 Batch 2:  LOSS: 1.158 TEST_ACC: 58.446% VALIDACTION_ACC: 58.980%\n",
      "Epoch 60, CIFAR-10 Batch 3:  LOSS: 1.014 TEST_ACC: 62.500% VALIDACTION_ACC: 58.860%\n",
      "Epoch 60, CIFAR-10 Batch 4:  LOSS: 1.059 TEST_ACC: 63.851% VALIDACTION_ACC: 59.480%\n",
      "Epoch 60, CIFAR-10 Batch 5:  LOSS: 1.075 TEST_ACC: 63.514% VALIDACTION_ACC: 59.360%\n"
     ]
    }
   ],
   "source": [
    "\"\"\"\n",
    "DON'T MODIFY ANYTHING IN THIS CELL\n",
    "\"\"\"\n",
    "save_model_path = './image_classification'\n",
    "\n",
    "print('Training...')\n",
    "with tf.Session() as sess:\n",
    "    # Initializing the variables\n",
    "    sess.run(tf.global_variables_initializer())\n",
    "    \n",
    "    # Training cycle\n",
    "    for epoch in range(epochs):\n",
    "        # Loop over all batches\n",
    "        n_batches = 5\n",
    "        for batch_i in range(1, n_batches + 1):\n",
    "            for batch_features, batch_labels in helper.load_preprocess_training_batch(batch_i, batch_size):\n",
    "                train_neural_network(sess, optimizer, keep_probability, batch_features, batch_labels)\n",
    "            print('Epoch {:>2}, CIFAR-10 Batch {}:  '.format(epoch + 1, batch_i), end='')\n",
    "            print_stats(sess, batch_features, batch_labels, cost, accuracy)\n",
    "            \n",
    "    # Save Model\n",
    "    saver = tf.train.Saver()\n",
    "    save_path = saver.save(sess, save_model_path)"
   ]
  },
  {
   "cell_type": "markdown",
   "metadata": {
    "deletable": true,
    "editable": true
   },
   "source": [
    "# Checkpoint\n",
    "The model has been saved to disk.\n",
    "## Test Model\n",
    "Test your model against the test dataset.  This will be your final accuracy. You should have an accuracy greater than 50%. If you don't, keep tweaking the model architecture and parameters."
   ]
  },
  {
   "cell_type": "code",
   "execution_count": 20,
   "metadata": {
    "collapsed": false,
    "deletable": true,
    "editable": true
   },
   "outputs": [
    {
     "name": "stdout",
     "output_type": "stream",
     "text": [
      "Testing Accuracy: 0.58125\n",
      "\n"
     ]
    },
    {
     "data": {
      "image/png": "[encoded data removed]",
      "text/plain": [
       "<matplotlib.figure.Figure at 0x2d2053c45c0>"
      ]
     },
     "metadata": {
      "image/png": {
       "height": 319,
       "width": 355
      }
     },
     "output_type": "display_data"
    }
   ],
   "source": [
    "\"\"\"\n",
    "DON'T MODIFY ANYTHING IN THIS CELL\n",
    "\"\"\"\n",
    "%matplotlib inline\n",
    "%config InlineBackend.figure_format = 'retina'\n",
    "\n",
    "import tensorflow as tf\n",
    "import pickle\n",
    "import helper\n",
    "import random\n",
    "\n",
    "# Set batch size if not already set\n",
    "try:\n",
    "    if batch_size:\n",
    "        pass\n",
    "except NameError:\n",
    "    batch_size = 64\n",
    "\n",
    "save_model_path = './image_classification'\n",
    "n_samples = 4\n",
    "top_n_predictions = 3\n",
    "\n",
    "def test_model():\n",
    "    \"\"\"\n",
    "    Test the saved model against the test dataset\n",
    "    \"\"\"\n",
    "\n",
    "    test_features, test_labels = pickle.load(open('preprocess_training.p', mode='rb'))\n",
    "    loaded_graph = tf.Graph()\n",
    "\n",
    "    with tf.Session(graph=loaded_graph) as sess:\n",
    "        # Load model\n",
    "        loader = tf.train.import_meta_graph(save_model_path + '.meta')\n",
    "        loader.restore(sess, save_model_path)\n",
    "\n",
    "        # Get Tensors from loaded model\n",
    "        loaded_x = loaded_graph.get_tensor_by_name('x:0')\n",
    "        loaded_y = loaded_graph.get_tensor_by_name('y:0')\n",
    "        loaded_keep_prob = loaded_graph.get_tensor_by_name('keep_prob:0')\n",
    "        loaded_logits = loaded_graph.get_tensor_by_name('logits:0')\n",
    "        loaded_acc = loaded_graph.get_tensor_by_name('accuracy:0')\n",
    "        \n",
    "        # Get accuracy in batches for memory limitations\n",
    "        test_batch_acc_total = 0\n",
    "        test_batch_count = 0\n",
    "        \n",
    "        for train_feature_batch, train_label_batch in helper.batch_features_labels(test_features, test_labels, batch_size):\n",
    "            test_batch_acc_total += sess.run(\n",
    "                loaded_acc,\n",
    "                feed_dict={loaded_x: train_feature_batch, loaded_y: train_label_batch, loaded_keep_prob: 1.0})\n",
    "            test_batch_count += 1\n",
    "\n",
    "        print('Testing Accuracy: {}\\n'.format(test_batch_acc_total/test_batch_count))\n",
    "\n",
    "        # Print Random Samples\n",
    "        random_test_features, random_test_labels = tuple(zip(*random.sample(list(zip(test_features, test_labels)), n_samples)))\n",
    "        random_test_predictions = sess.run(\n",
    "            tf.nn.top_k(tf.nn.softmax(loaded_logits), top_n_predictions),\n",
    "            feed_dict={loaded_x: random_test_features, loaded_y: random_test_labels, loaded_keep_prob: 1.0})\n",
    "        helper.display_image_predictions(random_test_features, random_test_labels, random_test_predictions)\n",
    "\n",
    "\n",
    "test_model()"
   ]
  },
  {
   "cell_type": "markdown",
   "metadata": {
    "deletable": true,
    "editable": true
   },
   "source": [
    "## Why 50-70% Accuracy?\n",
    "You might be wondering why you can't get an accuracy any higher. First things first, 50% isn't bad for a simple CNN.  Pure guessing would get you 10% accuracy. However, you might notice people are getting scores [well above 70%](http://rodrigob.github.io/are_we_there_yet/build/classification_datasets_results.html#43494641522d3130).  That's because we haven't taught you all there is to know about neural networks. We still need to cover a few more techniques.\n",
    "## Submitting This Project\n",
    "When submitting this project, make sure to run all the cells before saving the notebook.  Save the notebook file as \"dlnd_image_classification.ipynb\" and save it as a HTML file under \"File\" -> \"Download as\".  Include the \"helper.py\" and \"problem_unittests.py\" files in your submission."
   ]
  }
 ],
 "metadata": {
  "kernelspec": {
   "display_name": "Python 3",
   "language": "python",
   "name": "python3"
  },
  "language_info": {
   "codemirror_mode": {
    "name": "ipython",
    "version": 3
   },
   "file_extension": ".py",
   "mimetype": "text/x-python",
   "name": "python",
   "nbconvert_exporter": "python",
   "pygments_lexer": "ipython3",
   "version": "3.5.2"
  },
  "widgets": {
   "state": {},
   "version": "1.1.2"
  }
 },
 "nbformat": 4,
 "nbformat_minor": 0
}
